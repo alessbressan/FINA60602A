{
 "cells": [
  {
   "cell_type": "markdown",
   "id": "a4007a9c",
   "metadata": {},
   "source": [
    "# Imports"
   ]
  },
  {
   "cell_type": "code",
   "execution_count": 1,
   "id": "255ec0f0",
   "metadata": {},
   "outputs": [],
   "source": [
    "import pandas as pd\n",
    "import numpy as np\n",
    "from pathlib import Path\n",
    "import gurobipy as gp\n",
    "import matplotlib.pyplot as plt\n",
    "import seaborn as sns"
   ]
  },
  {
   "cell_type": "code",
   "execution_count": 2,
   "id": "38697b57",
   "metadata": {},
   "outputs": [
    {
     "data": {
      "text/html": [
       "<div>\n",
       "<style scoped>\n",
       "    .dataframe tbody tr th:only-of-type {\n",
       "        vertical-align: middle;\n",
       "    }\n",
       "\n",
       "    .dataframe tbody tr th {\n",
       "        vertical-align: top;\n",
       "    }\n",
       "\n",
       "    .dataframe thead th {\n",
       "        text-align: right;\n",
       "    }\n",
       "</style>\n",
       "<table border=\"1\" class=\"dataframe\">\n",
       "  <thead>\n",
       "    <tr style=\"text-align: right;\">\n",
       "      <th></th>\n",
       "      <th>Agric</th>\n",
       "      <th>Food</th>\n",
       "      <th>Soda</th>\n",
       "      <th>Beer</th>\n",
       "      <th>Smoke</th>\n",
       "      <th>Toys</th>\n",
       "      <th>Fun</th>\n",
       "      <th>Books</th>\n",
       "      <th>Hshld</th>\n",
       "      <th>Clths</th>\n",
       "      <th>...</th>\n",
       "      <th>Boxes</th>\n",
       "      <th>Trans</th>\n",
       "      <th>Whlsl</th>\n",
       "      <th>Rtail</th>\n",
       "      <th>Meals</th>\n",
       "      <th>Banks</th>\n",
       "      <th>Insur</th>\n",
       "      <th>RlEst</th>\n",
       "      <th>Fin</th>\n",
       "      <th>Other</th>\n",
       "    </tr>\n",
       "  </thead>\n",
       "  <tbody>\n",
       "    <tr>\n",
       "      <th>count</th>\n",
       "      <td>60.000000</td>\n",
       "      <td>60.000000</td>\n",
       "      <td>60.000000</td>\n",
       "      <td>60.000000</td>\n",
       "      <td>60.000000</td>\n",
       "      <td>60.000000</td>\n",
       "      <td>60.000000</td>\n",
       "      <td>60.000000</td>\n",
       "      <td>60.000000</td>\n",
       "      <td>60.000000</td>\n",
       "      <td>...</td>\n",
       "      <td>60.000000</td>\n",
       "      <td>60.000000</td>\n",
       "      <td>60.000000</td>\n",
       "      <td>60.000000</td>\n",
       "      <td>60.000000</td>\n",
       "      <td>60.000000</td>\n",
       "      <td>60.000000</td>\n",
       "      <td>60.000000</td>\n",
       "      <td>60.000000</td>\n",
       "      <td>60.000000</td>\n",
       "    </tr>\n",
       "    <tr>\n",
       "      <th>mean</th>\n",
       "      <td>1.711667</td>\n",
       "      <td>0.498000</td>\n",
       "      <td>0.826500</td>\n",
       "      <td>0.516833</td>\n",
       "      <td>1.285667</td>\n",
       "      <td>-0.256500</td>\n",
       "      <td>1.378000</td>\n",
       "      <td>1.248667</td>\n",
       "      <td>0.688833</td>\n",
       "      <td>0.473333</td>\n",
       "      <td>...</td>\n",
       "      <td>0.864833</td>\n",
       "      <td>1.164500</td>\n",
       "      <td>1.599667</td>\n",
       "      <td>1.497500</td>\n",
       "      <td>1.115333</td>\n",
       "      <td>1.170167</td>\n",
       "      <td>1.306167</td>\n",
       "      <td>1.408333</td>\n",
       "      <td>1.837167</td>\n",
       "      <td>1.397500</td>\n",
       "    </tr>\n",
       "    <tr>\n",
       "      <th>std</th>\n",
       "      <td>6.808964</td>\n",
       "      <td>4.191801</td>\n",
       "      <td>5.076224</td>\n",
       "      <td>4.506729</td>\n",
       "      <td>5.675682</td>\n",
       "      <td>9.453468</td>\n",
       "      <td>8.880008</td>\n",
       "      <td>7.771293</td>\n",
       "      <td>4.803803</td>\n",
       "      <td>8.238356</td>\n",
       "      <td>...</td>\n",
       "      <td>5.948642</td>\n",
       "      <td>7.123999</td>\n",
       "      <td>6.113119</td>\n",
       "      <td>6.129512</td>\n",
       "      <td>6.405527</td>\n",
       "      <td>7.475411</td>\n",
       "      <td>5.145520</td>\n",
       "      <td>9.773773</td>\n",
       "      <td>7.073771</td>\n",
       "      <td>5.605092</td>\n",
       "    </tr>\n",
       "    <tr>\n",
       "      <th>min</th>\n",
       "      <td>-12.510000</td>\n",
       "      <td>-9.300000</td>\n",
       "      <td>-15.440000</td>\n",
       "      <td>-9.920000</td>\n",
       "      <td>-11.620000</td>\n",
       "      <td>-18.850000</td>\n",
       "      <td>-27.970000</td>\n",
       "      <td>-22.650000</td>\n",
       "      <td>-10.590000</td>\n",
       "      <td>-19.460000</td>\n",
       "      <td>...</td>\n",
       "      <td>-13.800000</td>\n",
       "      <td>-16.810000</td>\n",
       "      <td>-17.820000</td>\n",
       "      <td>-11.240000</td>\n",
       "      <td>-22.120000</td>\n",
       "      <td>-23.900000</td>\n",
       "      <td>-12.740000</td>\n",
       "      <td>-35.950000</td>\n",
       "      <td>-16.860000</td>\n",
       "      <td>-14.990000</td>\n",
       "    </tr>\n",
       "    <tr>\n",
       "      <th>25%</th>\n",
       "      <td>-3.070000</td>\n",
       "      <td>-2.392500</td>\n",
       "      <td>-1.555000</td>\n",
       "      <td>-2.872500</td>\n",
       "      <td>-2.317500</td>\n",
       "      <td>-6.070000</td>\n",
       "      <td>-3.892500</td>\n",
       "      <td>-4.265000</td>\n",
       "      <td>-1.852500</td>\n",
       "      <td>-5.930000</td>\n",
       "      <td>...</td>\n",
       "      <td>-3.610000</td>\n",
       "      <td>-4.275000</td>\n",
       "      <td>-1.655000</td>\n",
       "      <td>-3.090000</td>\n",
       "      <td>-2.330000</td>\n",
       "      <td>-3.362500</td>\n",
       "      <td>-2.945000</td>\n",
       "      <td>-3.252500</td>\n",
       "      <td>-3.507500</td>\n",
       "      <td>-2.347500</td>\n",
       "    </tr>\n",
       "    <tr>\n",
       "      <th>50%</th>\n",
       "      <td>2.445000</td>\n",
       "      <td>0.290000</td>\n",
       "      <td>1.070000</td>\n",
       "      <td>0.300000</td>\n",
       "      <td>1.445000</td>\n",
       "      <td>-0.955000</td>\n",
       "      <td>1.425000</td>\n",
       "      <td>1.290000</td>\n",
       "      <td>0.405000</td>\n",
       "      <td>0.520000</td>\n",
       "      <td>...</td>\n",
       "      <td>0.870000</td>\n",
       "      <td>0.590000</td>\n",
       "      <td>1.085000</td>\n",
       "      <td>1.590000</td>\n",
       "      <td>0.610000</td>\n",
       "      <td>1.815000</td>\n",
       "      <td>1.560000</td>\n",
       "      <td>0.850000</td>\n",
       "      <td>2.115000</td>\n",
       "      <td>1.445000</td>\n",
       "    </tr>\n",
       "    <tr>\n",
       "      <th>75%</th>\n",
       "      <td>5.847500</td>\n",
       "      <td>3.450000</td>\n",
       "      <td>4.380000</td>\n",
       "      <td>3.255000</td>\n",
       "      <td>5.267500</td>\n",
       "      <td>5.705000</td>\n",
       "      <td>7.442500</td>\n",
       "      <td>5.265000</td>\n",
       "      <td>3.835000</td>\n",
       "      <td>5.875000</td>\n",
       "      <td>...</td>\n",
       "      <td>5.640000</td>\n",
       "      <td>7.545000</td>\n",
       "      <td>5.327500</td>\n",
       "      <td>5.212500</td>\n",
       "      <td>5.355000</td>\n",
       "      <td>5.512500</td>\n",
       "      <td>3.782500</td>\n",
       "      <td>6.682500</td>\n",
       "      <td>6.580000</td>\n",
       "      <td>5.517500</td>\n",
       "    </tr>\n",
       "    <tr>\n",
       "      <th>max</th>\n",
       "      <td>16.160000</td>\n",
       "      <td>11.260000</td>\n",
       "      <td>12.680000</td>\n",
       "      <td>11.090000</td>\n",
       "      <td>12.420000</td>\n",
       "      <td>21.060000</td>\n",
       "      <td>19.330000</td>\n",
       "      <td>23.800000</td>\n",
       "      <td>11.400000</td>\n",
       "      <td>17.510000</td>\n",
       "      <td>...</td>\n",
       "      <td>11.790000</td>\n",
       "      <td>17.440000</td>\n",
       "      <td>16.110000</td>\n",
       "      <td>18.790000</td>\n",
       "      <td>18.670000</td>\n",
       "      <td>18.310000</td>\n",
       "      <td>12.820000</td>\n",
       "      <td>21.420000</td>\n",
       "      <td>16.880000</td>\n",
       "      <td>16.610000</td>\n",
       "    </tr>\n",
       "  </tbody>\n",
       "</table>\n",
       "<p>8 rows × 48 columns</p>\n",
       "</div>"
      ],
      "text/plain": [
       "           Agric      Food       Soda       Beer       Smoke      Toys   \\\n",
       "count  60.000000  60.000000  60.000000  60.000000  60.000000  60.000000   \n",
       "mean    1.711667   0.498000   0.826500   0.516833   1.285667  -0.256500   \n",
       "std     6.808964   4.191801   5.076224   4.506729   5.675682   9.453468   \n",
       "min   -12.510000  -9.300000 -15.440000  -9.920000 -11.620000 -18.850000   \n",
       "25%    -3.070000  -2.392500  -1.555000  -2.872500  -2.317500  -6.070000   \n",
       "50%     2.445000   0.290000   1.070000   0.300000   1.445000  -0.955000   \n",
       "75%     5.847500   3.450000   4.380000   3.255000   5.267500   5.705000   \n",
       "max    16.160000  11.260000  12.680000  11.090000  12.420000  21.060000   \n",
       "\n",
       "           Fun        Books      Hshld      Clths  ...      Boxes      Trans  \\\n",
       "count  60.000000  60.000000  60.000000  60.000000  ...  60.000000  60.000000   \n",
       "mean    1.378000   1.248667   0.688833   0.473333  ...   0.864833   1.164500   \n",
       "std     8.880008   7.771293   4.803803   8.238356  ...   5.948642   7.123999   \n",
       "min   -27.970000 -22.650000 -10.590000 -19.460000  ... -13.800000 -16.810000   \n",
       "25%    -3.892500  -4.265000  -1.852500  -5.930000  ...  -3.610000  -4.275000   \n",
       "50%     1.425000   1.290000   0.405000   0.520000  ...   0.870000   0.590000   \n",
       "75%     7.442500   5.265000   3.835000   5.875000  ...   5.640000   7.545000   \n",
       "max    19.330000  23.800000  11.400000  17.510000  ...  11.790000  17.440000   \n",
       "\n",
       "           Whlsl      Rtail      Meals      Banks      Insur      RlEst  \\\n",
       "count  60.000000  60.000000  60.000000  60.000000  60.000000  60.000000   \n",
       "mean    1.599667   1.497500   1.115333   1.170167   1.306167   1.408333   \n",
       "std     6.113119   6.129512   6.405527   7.475411   5.145520   9.773773   \n",
       "min   -17.820000 -11.240000 -22.120000 -23.900000 -12.740000 -35.950000   \n",
       "25%    -1.655000  -3.090000  -2.330000  -3.362500  -2.945000  -3.252500   \n",
       "50%     1.085000   1.590000   0.610000   1.815000   1.560000   0.850000   \n",
       "75%     5.327500   5.212500   5.355000   5.512500   3.782500   6.682500   \n",
       "max    16.110000  18.790000  18.670000  18.310000  12.820000  21.420000   \n",
       "\n",
       "           Fin        Other  \n",
       "count  60.000000  60.000000  \n",
       "mean    1.837167   1.397500  \n",
       "std     7.073771   5.605092  \n",
       "min   -16.860000 -14.990000  \n",
       "25%    -3.507500  -2.347500  \n",
       "50%     2.115000   1.445000  \n",
       "75%     6.580000   5.517500  \n",
       "max    16.880000  16.610000  \n",
       "\n",
       "[8 rows x 48 columns]"
      ]
     },
     "execution_count": 2,
     "metadata": {},
     "output_type": "execute_result"
    }
   ],
   "source": [
    "data_path = Path(\"../project_1_git/FINA60602A/data_will/48_Industry_Portfolios.CSV\")\n",
    "df = pd.read_csv(data_path, index_col=0)\n",
    "df.index = pd.to_datetime(df.index, format=\"%Y%m\")  # clean the index to be datetime\n",
    "\n",
    "# constants\n",
    "start_date = \"2019-12-01\"\n",
    "N = 48\n",
    "risk_free = 0.4\n",
    "df = df.loc[df.index >= start_date, :]  # select last 5 years\n",
    "df = df.astype(dtype= 'float64')\n",
    "\n",
    "df.describe()\n"
   ]
  },
  {
   "cell_type": "markdown",
   "id": "5c07ee2b",
   "metadata": {},
   "source": [
    "# Functions"
   ]
  },
  {
   "cell_type": "code",
   "execution_count": 3,
   "id": "41e835c2",
   "metadata": {},
   "outputs": [],
   "source": [
    "def max_sharpe_ratio(df: pd.DataFrame, exp_return: float, bound: float, short_constraint: bool) -> tuple:\n",
    "    \"\"\" \n",
    "    Computes the maximum sharpe ratio for a given return\n",
    "\n",
    "    Inputs\n",
    "        df: dataframe of monthly returns, each colum is a different asset\n",
    "        exp_return: expected return for the sharpe ratio\n",
    "        short_constraint: if the short constraint is active\n",
    "        bound: bound imposed on weights for the sake of numerical stability\n",
    "    Outputs\n",
    "        x: weights of the assets\n",
    "        SR: max Sharpe Ratio for the return\n",
    "        result: dataframe of positions \n",
    "    \"\"\"\n",
    "    cov = df.cov()\n",
    "    mean = df.mean(axis=0)\n",
    "\n",
    "    K = 5\n",
    "    l = bound #max position size (5000%)\n",
    "\n",
    "    # Create an empty optimization model\n",
    "    m = gp.Model()\n",
    "    m.setParam('OutputFlag', 0)\n",
    "    m.Params.Threads = 8\n",
    "\n",
    "    # Add variables: x[i] denotes the proportion of capital invested in stock i\n",
    "    \n",
    "    b = m.addMVar(len(mean), vtype=gp.GRB.BINARY, name=\"b\")\n",
    "\n",
    "    if short_constraint:\n",
    "        x = m.addMVar(len(mean), lb=-np.inf, ub=np.inf, name=\"x\")\n",
    "        x_plus = m.addMVar(len(mean), lb= 0, ub=np.inf, name=\"x_plus\")\n",
    "        x_minus = m.addMVar(len(mean), lb= 0, ub=np.inf, name=\"x_minus\")\n",
    "\n",
    "        # Budget constraint: all investments sum up to 1\n",
    "        m.addConstr(x == x_plus - x_minus, name= \"Position_Balance\")\n",
    "        m.addConstr(x_plus+x_minus <= l*b, name= \"Long_Indicator\")\n",
    "        # m.addConstr(x_plus <= l*b, name= \"Long_Indicator\")\n",
    "        # m.addConstr(x_minus <= l*b, name= \"Short_Indicator\")\n",
    "    else:\n",
    "        x = m.addMVar(len(mean), lb=0, ub=np.inf, name=\"x\")\n",
    "        m.addConstr(x <= l*b, name= \"Long_Indicator\")\n",
    "        m.addConstr(0 <= x, name=\"Long_Constraint\")\n",
    "    # Budget constraint: all investments sum up to 1\n",
    "    \n",
    "    m.addConstr(x.sum() == 1, name=\"Budget_Constraint\")\n",
    "    m.addConstr(b.sum() <= K, name=\"Cardinality\")\n",
    "    m.addConstr(x.T @ mean.to_numpy() == exp_return , name=\"Target_Return\")\n",
    "\n",
    "    # Minimize variance\n",
    "    m.setObjective(x.T @ cov.to_numpy() @ x, gp.GRB.MINIMIZE)\n",
    "\n",
    "    m.optimize()\n",
    "\n",
    "    try:\n",
    "        var = x.X @ cov.to_numpy() @ x.X\n",
    "        rets = mean @ x.X\n",
    "        SR = (rets-risk_free)/np.sqrt(m.ObjVal)\n",
    "\n",
    "        positions = pd.Series(name=\"Position\", data= x.X, index= mean.index)\n",
    "        index = positions[abs(positions) > 1e-5].index\n",
    "        result = pd.DataFrame({'mean' : df[index].mean(),\n",
    "                                'var' : df[index].var()})\n",
    "    except:\n",
    "        return None, None, None\n",
    "\n",
    "    return SR, x.X, result"
   ]
  },
  {
   "cell_type": "markdown",
   "id": "698ccd96",
   "metadata": {},
   "source": [
    "# Constrained Optimization (Long-Only)"
   ]
  },
  {
   "cell_type": "code",
   "execution_count": 4,
   "id": "310a3a78",
   "metadata": {},
   "outputs": [
    {
     "name": "stdout",
     "output_type": "stream",
     "text": [
      "Restricted license - for non-production use only - expires 2026-11-23\n"
     ]
    }
   ],
   "source": [
    "rets = np.linspace(0, 5, 100)\n",
    "sharpe = np.zeros(len(rets))\n",
    "weights = [None] * 250\n",
    "for i in range(len(rets)):\n",
    "    SR, w, _ = max_sharpe_ratio(df= df, exp_return= rets[i], bound=50, short_constraint= False)\n",
    "    sharpe[i] = SR \n",
    "    weights[i] = w"
   ]
  },
  {
   "cell_type": "code",
   "execution_count": 5,
   "id": "2eb9cbfd",
   "metadata": {},
   "outputs": [],
   "source": [
    "idmax = np.nanargmax(sharpe)\n",
    "\n",
    "SR, w, position = max_sharpe_ratio(df= df, exp_return= rets[idmax], bound=50, short_constraint= False)"
   ]
  },
  {
   "cell_type": "code",
   "execution_count": 6,
   "id": "ce1e7fc6",
   "metadata": {},
   "outputs": [
    {
     "data": {
      "text/html": [
       "<div>\n",
       "<style scoped>\n",
       "    .dataframe tbody tr th:only-of-type {\n",
       "        vertical-align: middle;\n",
       "    }\n",
       "\n",
       "    .dataframe tbody tr th {\n",
       "        vertical-align: top;\n",
       "    }\n",
       "\n",
       "    .dataframe thead th {\n",
       "        text-align: right;\n",
       "    }\n",
       "</style>\n",
       "<table border=\"1\" class=\"dataframe\">\n",
       "  <thead>\n",
       "    <tr style=\"text-align: right;\">\n",
       "      <th></th>\n",
       "      <th>Weights</th>\n",
       "    </tr>\n",
       "  </thead>\n",
       "  <tbody>\n",
       "    <tr>\n",
       "      <th>Agric</th>\n",
       "      <td>0.039337</td>\n",
       "    </tr>\n",
       "    <tr>\n",
       "      <th>Guns</th>\n",
       "      <td>0.133824</td>\n",
       "    </tr>\n",
       "    <tr>\n",
       "      <th>Coal</th>\n",
       "      <td>0.221461</td>\n",
       "    </tr>\n",
       "    <tr>\n",
       "      <th>Chips</th>\n",
       "      <td>0.605378</td>\n",
       "    </tr>\n",
       "  </tbody>\n",
       "</table>\n",
       "</div>"
      ],
      "text/plain": [
       "        Weights\n",
       "Agric  0.039337\n",
       "Guns   0.133824\n",
       "Coal   0.221461\n",
       "Chips  0.605378"
      ]
     },
     "execution_count": 6,
     "metadata": {},
     "output_type": "execute_result"
    }
   ],
   "source": [
    "pd.DataFrame(w[w != 0], index = df.columns[w != 0], columns=[\"Weights\"])"
   ]
  },
  {
   "cell_type": "code",
   "execution_count": 7,
   "id": "ba36dfd5",
   "metadata": {},
   "outputs": [
    {
     "data": {
      "text/html": [
       "<div>\n",
       "<style scoped>\n",
       "    .dataframe tbody tr th:only-of-type {\n",
       "        vertical-align: middle;\n",
       "    }\n",
       "\n",
       "    .dataframe tbody tr th {\n",
       "        vertical-align: top;\n",
       "    }\n",
       "\n",
       "    .dataframe thead th {\n",
       "        text-align: right;\n",
       "    }\n",
       "</style>\n",
       "<table border=\"1\" class=\"dataframe\">\n",
       "  <thead>\n",
       "    <tr style=\"text-align: right;\">\n",
       "      <th></th>\n",
       "      <th>Statistics</th>\n",
       "    </tr>\n",
       "  </thead>\n",
       "  <tbody>\n",
       "    <tr>\n",
       "      <th>Sharpe Ratio</th>\n",
       "      <td>0.352712</td>\n",
       "    </tr>\n",
       "    <tr>\n",
       "      <th>Expected Return</th>\n",
       "      <td>2.676768</td>\n",
       "    </tr>\n",
       "    <tr>\n",
       "      <th>Standard Deviation</th>\n",
       "      <td>6.455037</td>\n",
       "    </tr>\n",
       "  </tbody>\n",
       "</table>\n",
       "</div>"
      ],
      "text/plain": [
       "                    Statistics\n",
       "Sharpe Ratio          0.352712\n",
       "Expected Return       2.676768\n",
       "Standard Deviation    6.455037"
      ]
     },
     "execution_count": 7,
     "metadata": {},
     "output_type": "execute_result"
    }
   ],
   "source": [
    "pd.DataFrame([SR, position.loc[:,\"mean\"] @ w[w != 0], (position.loc[:,\"mean\"] @ w[w != 0] - risk_free) / SR], index= [\"Sharpe Ratio\", \"Expected Return\", \"Standard Deviation\"], columns=[\"Statistics\"])"
   ]
  },
  {
   "cell_type": "code",
   "execution_count": 8,
   "id": "bfa800e9",
   "metadata": {},
   "outputs": [
    {
     "data": {
      "image/png": "[encoded data removed]",
      "text/plain": [
       "<Figure size 800x500 with 1 Axes>"
      ]
     },
     "metadata": {},
     "output_type": "display_data"
    }
   ],
   "source": [
    "sns.set_style(\"whitegrid\")\n",
    "\n",
    "plt.figure(figsize=(8, 5))\n",
    "sns.lineplot(y=sharpe, x= rets)\n",
    "# Add Title and Labels\n",
    "plt.title(\"Sharpe Ratio per Expected Return (Long Only)\", fontsize=14)\n",
    "plt.xlabel(\"Expected Return\", fontsize=12)\n",
    "plt.ylabel(\"Max Sharpe Ratio\", fontsize=12)\n",
    "\n",
    "plt.axvline(position.loc[:,\"mean\"] @ w[w != 0], c=\"red\")\n",
    "# Show the Plot\n",
    "plt.show()"
   ]
  },
  {
   "cell_type": "markdown",
   "id": "52ad4468",
   "metadata": {},
   "source": [
    "# Unconstrained Optimization "
   ]
  },
  {
   "cell_type": "markdown",
   "id": "15ed2768",
   "metadata": {},
   "source": [
    "We apply a mixed integer linear programming procedure while applying multithreading to accelerate the search procedure. We find our maxima over a larger interval initially and refine our selection by observing a more finely partitioned linspace within the interval of our optimal solution."
   ]
  },
  {
   "cell_type": "code",
   "execution_count": 9,
   "id": "6d2c9940",
   "metadata": {},
   "outputs": [],
   "source": [
    "from tqdm import tqdm"
   ]
  },
  {
   "cell_type": "code",
   "execution_count": 10,
   "id": "438cc173",
   "metadata": {},
   "outputs": [
    {
     "name": "stderr",
     "output_type": "stream",
     "text": [
      "100%|█████████████████████████████████████████| 400/400 [04:53<00:00,  1.36it/s]\n"
     ]
    }
   ],
   "source": [
    "# first 'general' search\n",
    "rets = np.linspace(0, 200, 400)\n",
    "sharpe = np.zeros(len(rets))\n",
    "weights = [None] * len(rets)\n",
    "positions = [None] * len(rets)\n",
    "\n",
    "for i in tqdm(range(len(rets))):\n",
    "    SR, w, p = max_sharpe_ratio(df= df, exp_return= rets[i], bound=50, short_constraint= True)\n",
    "    sharpe[i] = SR\n",
    "    weights[i] = w\n",
    "    positions[i] = p"
   ]
  },
  {
   "cell_type": "code",
   "execution_count": 11,
   "id": "a674f5a1",
   "metadata": {},
   "outputs": [
    {
     "data": {
      "image/png": "[encoded data removed]",
      "text/plain": [
       "<Figure size 800x500 with 1 Axes>"
      ]
     },
     "metadata": {},
     "output_type": "display_data"
    }
   ],
   "source": [
    "sns.set_style(\"whitegrid\")\n",
    "\n",
    "plt.figure(figsize=(8, 5))\n",
    "sns.lineplot(y=sharpe, x= rets)\n",
    "# Add Title and Labels\n",
    "plt.title(\"Sharpe Ratio per Expected Return (Unconstrained)\", fontsize=14)\n",
    "plt.xlabel(\"Expected Return\", fontsize=12)\n",
    "plt.ylabel(\"Max Sharpe Ratio\", fontsize=12)\n",
    "\n",
    "w_star = weights[np.nanargmax(sharpe)]\n",
    "positions_star = positions[np.nanargmax(sharpe)]\n",
    "plt.axvline(positions_star.loc[:, \"mean\"] @ w_star[w_star != 0], c=\"red\")\n",
    "\n",
    "# Show the Plot\n",
    "plt.show()"
   ]
  },
  {
   "cell_type": "code",
   "execution_count": 12,
   "id": "5b0e3232",
   "metadata": {},
   "outputs": [
    {
     "name": "stderr",
     "output_type": "stream",
     "text": [
      "100%|█████████████████████████████████████████| 100/100 [00:12<00:00,  7.81it/s]\n"
     ]
    }
   ],
   "source": [
    "# second more 'refined' search\n",
    "rets = np.linspace(120, 150, 100)\n",
    "sharpe = np.zeros(len(rets))\n",
    "weights = [None] * len(rets)\n",
    "positions = [None] * len(rets)\n",
    "\n",
    "for i in tqdm(range(len(rets))):\n",
    "    SR, w, p = max_sharpe_ratio(df= df, exp_return= rets[i], bound=50, short_constraint= True)\n",
    "    sharpe[i] = SR\n",
    "    weights[i] = w\n",
    "    positions[i] = p"
   ]
  },
  {
   "cell_type": "code",
   "execution_count": 13,
   "id": "05a334ea",
   "metadata": {},
   "outputs": [
    {
     "data": {
      "image/png": "[encoded data removed]",
      "text/plain": [
       "<Figure size 800x500 with 1 Axes>"
      ]
     },
     "metadata": {},
     "output_type": "display_data"
    }
   ],
   "source": [
    "sns.set_style(\"whitegrid\")\n",
    "\n",
    "plt.figure(figsize=(8, 5))\n",
    "sns.lineplot(y=sharpe, x= rets)\n",
    "# Add Title and Labels\n",
    "plt.title(\"Sharpe Ratio per Expected Return from 120 to 150% (Unconstrained)\", fontsize=14)\n",
    "plt.xlabel(\"Expected Return\", fontsize=12)\n",
    "plt.ylabel(\"Max Sharpe Ratio\", fontsize=12)\n",
    "\n",
    "w_star = weights[np.nanargmax(sharpe)]\n",
    "positions_star = positions[np.nanargmax(sharpe)]\n",
    "plt.axvline(positions_star.loc[:, \"mean\"] @ w_star[w_star != 0], c=\"red\")\n",
    "\n",
    "# Show the Plot\n",
    "plt.show()"
   ]
  },
  {
   "cell_type": "code",
   "execution_count": 14,
   "id": "4ec82737",
   "metadata": {},
   "outputs": [
    {
     "data": {
      "text/html": [
       "<div>\n",
       "<style scoped>\n",
       "    .dataframe tbody tr th:only-of-type {\n",
       "        vertical-align: middle;\n",
       "    }\n",
       "\n",
       "    .dataframe tbody tr th {\n",
       "        vertical-align: top;\n",
       "    }\n",
       "\n",
       "    .dataframe thead th {\n",
       "        text-align: right;\n",
       "    }\n",
       "</style>\n",
       "<table border=\"1\" class=\"dataframe\">\n",
       "  <thead>\n",
       "    <tr style=\"text-align: right;\">\n",
       "      <th></th>\n",
       "      <th>mean</th>\n",
       "      <th>var</th>\n",
       "    </tr>\n",
       "  </thead>\n",
       "  <tbody>\n",
       "    <tr>\n",
       "      <th>Agric</th>\n",
       "      <td>1.711667</td>\n",
       "      <td>46.361990</td>\n",
       "    </tr>\n",
       "    <tr>\n",
       "      <th>Hlth</th>\n",
       "      <td>0.497500</td>\n",
       "      <td>51.636860</td>\n",
       "    </tr>\n",
       "    <tr>\n",
       "      <th>Chems</th>\n",
       "      <td>0.822667</td>\n",
       "      <td>48.662901</td>\n",
       "    </tr>\n",
       "    <tr>\n",
       "      <th>Cnstr</th>\n",
       "      <td>2.594833</td>\n",
       "      <td>88.772754</td>\n",
       "    </tr>\n",
       "    <tr>\n",
       "      <th>Coal</th>\n",
       "      <td>3.569833</td>\n",
       "      <td>198.479239</td>\n",
       "    </tr>\n",
       "  </tbody>\n",
       "</table>\n",
       "</div>"
      ],
      "text/plain": [
       "           mean         var\n",
       "Agric  1.711667   46.361990\n",
       "Hlth   0.497500   51.636860\n",
       "Chems  0.822667   48.662901\n",
       "Cnstr  2.594833   88.772754\n",
       "Coal   3.569833  198.479239"
      ]
     },
     "execution_count": 14,
     "metadata": {},
     "output_type": "execute_result"
    }
   ],
   "source": [
    "idmax = np.nanargmax(sharpe)\n",
    "\n",
    "SR, w, position = max_sharpe_ratio(df= df, exp_return= rets[idmax], bound=50, short_constraint= True)\n",
    "position"
   ]
  },
  {
   "cell_type": "code",
   "execution_count": 15,
   "id": "705b80bd",
   "metadata": {},
   "outputs": [
    {
     "data": {
      "text/html": [
       "<div>\n",
       "<style scoped>\n",
       "    .dataframe tbody tr th:only-of-type {\n",
       "        vertical-align: middle;\n",
       "    }\n",
       "\n",
       "    .dataframe tbody tr th {\n",
       "        vertical-align: top;\n",
       "    }\n",
       "\n",
       "    .dataframe thead th {\n",
       "        text-align: right;\n",
       "    }\n",
       "</style>\n",
       "<table border=\"1\" class=\"dataframe\">\n",
       "  <thead>\n",
       "    <tr style=\"text-align: right;\">\n",
       "      <th></th>\n",
       "      <th>Weights</th>\n",
       "    </tr>\n",
       "  </thead>\n",
       "  <tbody>\n",
       "    <tr>\n",
       "      <th>Agric</th>\n",
       "      <td>23.197823</td>\n",
       "    </tr>\n",
       "    <tr>\n",
       "      <th>Hlth</th>\n",
       "      <td>-23.896149</td>\n",
       "    </tr>\n",
       "    <tr>\n",
       "      <th>Chems</th>\n",
       "      <td>-50.000000</td>\n",
       "    </tr>\n",
       "    <tr>\n",
       "      <th>Cnstr</th>\n",
       "      <td>41.364706</td>\n",
       "    </tr>\n",
       "    <tr>\n",
       "      <th>Coal</th>\n",
       "      <td>10.333620</td>\n",
       "    </tr>\n",
       "  </tbody>\n",
       "</table>\n",
       "</div>"
      ],
      "text/plain": [
       "         Weights\n",
       "Agric  23.197823\n",
       "Hlth  -23.896149\n",
       "Chems -50.000000\n",
       "Cnstr  41.364706\n",
       "Coal   10.333620"
      ]
     },
     "execution_count": 15,
     "metadata": {},
     "output_type": "execute_result"
    }
   ],
   "source": [
    "pd.DataFrame(w[w != 0], index = df.columns[w != 0], columns=[\"Weights\"])"
   ]
  },
  {
   "cell_type": "code",
   "execution_count": 16,
   "id": "2fe0baf3",
   "metadata": {},
   "outputs": [
    {
     "data": {
      "text/html": [
       "<div>\n",
       "<style scoped>\n",
       "    .dataframe tbody tr th:only-of-type {\n",
       "        vertical-align: middle;\n",
       "    }\n",
       "\n",
       "    .dataframe tbody tr th {\n",
       "        vertical-align: top;\n",
       "    }\n",
       "\n",
       "    .dataframe thead th {\n",
       "        text-align: right;\n",
       "    }\n",
       "</style>\n",
       "<table border=\"1\" class=\"dataframe\">\n",
       "  <thead>\n",
       "    <tr style=\"text-align: right;\">\n",
       "      <th></th>\n",
       "      <th>Statistics</th>\n",
       "    </tr>\n",
       "  </thead>\n",
       "  <tbody>\n",
       "    <tr>\n",
       "      <th>Sharpe Ratio</th>\n",
       "      <td>0.698130</td>\n",
       "    </tr>\n",
       "    <tr>\n",
       "      <th>Expected Return</th>\n",
       "      <td>130.909091</td>\n",
       "    </tr>\n",
       "    <tr>\n",
       "      <th>Standard Deviation</th>\n",
       "      <td>186.941038</td>\n",
       "    </tr>\n",
       "  </tbody>\n",
       "</table>\n",
       "</div>"
      ],
      "text/plain": [
       "                    Statistics\n",
       "Sharpe Ratio          0.698130\n",
       "Expected Return     130.909091\n",
       "Standard Deviation  186.941038"
      ]
     },
     "execution_count": 16,
     "metadata": {},
     "output_type": "execute_result"
    }
   ],
   "source": [
    "pd.DataFrame([SR, position.loc[:,\"mean\"] @ w[w != 0], (position.loc[:,\"mean\"] @ w[w != 0] - risk_free) / SR], index= [\"Sharpe Ratio\", \"Expected Return\", \"Standard Deviation\"], columns=[\"Statistics\"])"
   ]
  },
  {
   "cell_type": "markdown",
   "id": "e81b8bb4",
   "metadata": {},
   "source": [
    "# Unconstrained Optimization with Realistic Bounds on Weights"
   ]
  },
  {
   "cell_type": "code",
   "execution_count": 40,
   "id": "8c3a96ae",
   "metadata": {},
   "outputs": [
    {
     "name": "stderr",
     "output_type": "stream",
     "text": [
      "100%|█████████████████████████████████████████| 100/100 [00:21<00:00,  4.67it/s]\n"
     ]
    }
   ],
   "source": [
    "rets = np.linspace(0, 40, 100)\n",
    "sharpe = np.zeros(len(rets))\n",
    "weights = [None] * len(rets)\n",
    "positions = [None] * len(rets)\n",
    "\n",
    "for i in tqdm(range(len(rets))):\n",
    "    SR, w, p = max_sharpe_ratio(df= df, exp_return= rets[i], bound=3, short_constraint= True)\n",
    "    sharpe[i] = SR\n",
    "    weights[i] = w\n",
    "    positions[i] = p"
   ]
  },
  {
   "cell_type": "code",
   "execution_count": 41,
   "id": "02d806c5",
   "metadata": {},
   "outputs": [
    {
     "data": {
      "image/png": "[encoded data removed]",
      "text/plain": [
       "<Figure size 800x500 with 1 Axes>"
      ]
     },
     "metadata": {},
     "output_type": "display_data"
    }
   ],
   "source": [
    "sns.set_style(\"whitegrid\")\n",
    "\n",
    "plt.figure(figsize=(8, 5))\n",
    "sns.lineplot(y=sharpe, x= rets)\n",
    "# Add Title and Labels\n",
    "plt.title(\"Sharpe Ratio per Expected Return (Bounded Weights)\", fontsize=14)\n",
    "plt.xlabel(\"Expected Return\", fontsize=12)\n",
    "plt.ylabel(\"Max Sharpe Ratio\", fontsize=12)\n",
    "\n",
    "w_star = weights[np.nanargmax(sharpe)]\n",
    "positions_star = positions[np.nanargmax(sharpe)]\n",
    "plt.axvline(positions_star.loc[:, \"mean\"] @ w_star[w_star != 0], c=\"red\")\n",
    "\n",
    "# Show the Plot\n",
    "plt.show()"
   ]
  },
  {
   "cell_type": "code",
   "execution_count": 45,
   "id": "672e0987",
   "metadata": {},
   "outputs": [
    {
     "data": {
      "text/html": [
       "<div>\n",
       "<style scoped>\n",
       "    .dataframe tbody tr th:only-of-type {\n",
       "        vertical-align: middle;\n",
       "    }\n",
       "\n",
       "    .dataframe tbody tr th {\n",
       "        vertical-align: top;\n",
       "    }\n",
       "\n",
       "    .dataframe thead th {\n",
       "        text-align: right;\n",
       "    }\n",
       "</style>\n",
       "<table border=\"1\" class=\"dataframe\">\n",
       "  <thead>\n",
       "    <tr style=\"text-align: right;\">\n",
       "      <th></th>\n",
       "      <th>mean</th>\n",
       "      <th>var</th>\n",
       "    </tr>\n",
       "  </thead>\n",
       "  <tbody>\n",
       "    <tr>\n",
       "      <th>Toys</th>\n",
       "      <td>-0.256500</td>\n",
       "      <td>89.368064</td>\n",
       "    </tr>\n",
       "    <tr>\n",
       "      <th>Chems</th>\n",
       "      <td>0.822667</td>\n",
       "      <td>48.662901</td>\n",
       "    </tr>\n",
       "    <tr>\n",
       "      <th>Cnstr</th>\n",
       "      <td>2.594833</td>\n",
       "      <td>88.772754</td>\n",
       "    </tr>\n",
       "    <tr>\n",
       "      <th>Coal</th>\n",
       "      <td>3.569833</td>\n",
       "      <td>198.479239</td>\n",
       "    </tr>\n",
       "    <tr>\n",
       "      <th>Chips</th>\n",
       "      <td>2.691000</td>\n",
       "      <td>58.224141</td>\n",
       "    </tr>\n",
       "  </tbody>\n",
       "</table>\n",
       "</div>"
      ],
      "text/plain": [
       "           mean         var\n",
       "Toys  -0.256500   89.368064\n",
       "Chems  0.822667   48.662901\n",
       "Cnstr  2.594833   88.772754\n",
       "Coal   3.569833  198.479239\n",
       "Chips  2.691000   58.224141"
      ]
     },
     "execution_count": 45,
     "metadata": {},
     "output_type": "execute_result"
    }
   ],
   "source": [
    "idmax = np.nanargmax(sharpe)\n",
    "\n",
    "SR, w, position = max_sharpe_ratio(df= df, exp_return= rets[idmax], bound=3, short_constraint= True)\n",
    "position"
   ]
  },
  {
   "cell_type": "code",
   "execution_count": 46,
   "id": "91d8db50",
   "metadata": {},
   "outputs": [
    {
     "data": {
      "text/html": [
       "<div>\n",
       "<style scoped>\n",
       "    .dataframe tbody tr th:only-of-type {\n",
       "        vertical-align: middle;\n",
       "    }\n",
       "\n",
       "    .dataframe tbody tr th {\n",
       "        vertical-align: top;\n",
       "    }\n",
       "\n",
       "    .dataframe thead th {\n",
       "        text-align: right;\n",
       "    }\n",
       "</style>\n",
       "<table border=\"1\" class=\"dataframe\">\n",
       "  <thead>\n",
       "    <tr style=\"text-align: right;\">\n",
       "      <th></th>\n",
       "      <th>Weights</th>\n",
       "    </tr>\n",
       "  </thead>\n",
       "  <tbody>\n",
       "    <tr>\n",
       "      <th>Toys</th>\n",
       "      <td>-1.737454</td>\n",
       "    </tr>\n",
       "    <tr>\n",
       "      <th>Chems</th>\n",
       "      <td>-3.000000</td>\n",
       "    </tr>\n",
       "    <tr>\n",
       "      <th>Cnstr</th>\n",
       "      <td>2.419512</td>\n",
       "    </tr>\n",
       "    <tr>\n",
       "      <th>Coal</th>\n",
       "      <td>1.088883</td>\n",
       "    </tr>\n",
       "    <tr>\n",
       "      <th>Chips</th>\n",
       "      <td>2.229058</td>\n",
       "    </tr>\n",
       "  </tbody>\n",
       "</table>\n",
       "</div>"
      ],
      "text/plain": [
       "        Weights\n",
       "Toys  -1.737454\n",
       "Chems -3.000000\n",
       "Cnstr  2.419512\n",
       "Coal   1.088883\n",
       "Chips  2.229058"
      ]
     },
     "execution_count": 46,
     "metadata": {},
     "output_type": "execute_result"
    }
   ],
   "source": [
    "pd.DataFrame(w[w != 0], index = df.columns[w != 0], columns=[\"Weights\"])"
   ]
  },
  {
   "cell_type": "code",
   "execution_count": 47,
   "id": "b509c43f",
   "metadata": {},
   "outputs": [
    {
     "data": {
      "text/html": [
       "<div>\n",
       "<style scoped>\n",
       "    .dataframe tbody tr th:only-of-type {\n",
       "        vertical-align: middle;\n",
       "    }\n",
       "\n",
       "    .dataframe tbody tr th {\n",
       "        vertical-align: top;\n",
       "    }\n",
       "\n",
       "    .dataframe thead th {\n",
       "        text-align: right;\n",
       "    }\n",
       "</style>\n",
       "<table border=\"1\" class=\"dataframe\">\n",
       "  <thead>\n",
       "    <tr style=\"text-align: right;\">\n",
       "      <th></th>\n",
       "      <th>Statistics</th>\n",
       "    </tr>\n",
       "  </thead>\n",
       "  <tbody>\n",
       "    <tr>\n",
       "      <th>Sharpe Ratio</th>\n",
       "      <td>0.661197</td>\n",
       "    </tr>\n",
       "    <tr>\n",
       "      <th>Expected Return</th>\n",
       "      <td>14.141414</td>\n",
       "    </tr>\n",
       "    <tr>\n",
       "      <th>Standard Deviation</th>\n",
       "      <td>20.782634</td>\n",
       "    </tr>\n",
       "  </tbody>\n",
       "</table>\n",
       "</div>"
      ],
      "text/plain": [
       "                    Statistics\n",
       "Sharpe Ratio          0.661197\n",
       "Expected Return      14.141414\n",
       "Standard Deviation   20.782634"
      ]
     },
     "execution_count": 47,
     "metadata": {},
     "output_type": "execute_result"
    }
   ],
   "source": [
    "pd.DataFrame([SR, position.loc[:,\"mean\"] @ w[w != 0], (position.loc[:,\"mean\"] @ w[w != 0] - risk_free) / SR], index= [\"Sharpe Ratio\", \"Expected Return\", \"Standard Deviation\"], columns=[\"Statistics\"])"
   ]
  }
 ],
 "metadata": {
  "kernelspec": {
   "display_name": "Python 3 (ipykernel)",
   "language": "python",
   "name": "python3"
  },
  "language_info": {
   "codemirror_mode": {
    "name": "ipython",
    "version": 3
   },
   "file_extension": ".py",
   "mimetype": "text/x-python",
   "name": "python",
   "nbconvert_exporter": "python",
   "pygments_lexer": "ipython3",
   "version": "3.11.3"
  }
 },
 "nbformat": 4,
 "nbformat_minor": 5
}
