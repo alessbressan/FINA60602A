{
 "cells": [
  {
   "cell_type": "markdown",
   "metadata": {},
   "source": [
    "# Implementation of MAXSER\n",
    "\n",
    "## Step 0: Subpool selection\n",
    "   1. Form 1000 random subpools of 12 assets\n",
    "   2. Calculate the adjusted Sharpe ratio, $\\hat{\\theta}_{adj}$: $$\\hat{\\theta}_{adj} = \\frac{(T-N-2)\\hat{\\theta}_s-N}{T}+\\frac{2(\\hat{\\theta}_s)^{N/2}(1+\\hat{\\theta}_s)^{-(T-2)/2}}{TB_{\\hat{\\theta}_s/(1+\\hat{\\theta}_s)}(N/2,(T-N)/2)}$$\n",
    "      where $\\hat{\\theta}_s$ is the sample estimate of the Sharpe ratio $$\\hat{\\theta}_s:=\\mathbf{\\hat{\\mu}}'\\mathbf{\\hat{\\Sigma}}^{-1}\\mathbf{\\hat{\\mu}}$$\n",
    "      and $$B_x(a,b) = \\int_0^x y^{a-1}(1-y)^{b-1}dy$$\n",
    "   3. Select the subpool with $\\hat{\\theta}_{adj}$ corresponding to 95th percentile.\n",
    "\n",
    "## Step 1 \n",
    "   1. Estimate the square of the maximum Sharpe ratio by $\\hat{\\theta}_{adj}$\n",
    "   2. Compute response $$\\hat{r}_c := \\sigma\\frac{1+\\hat{\\theta}}{\\sqrt{\\hat{\\theta}}}$$\n",
    "   where $\\sigma$ is a given risk constraint (i.e. target risk level), and $$\\hat{\\theta}:=\\frac{(T-N-2)\\hat{\\theta}_s-N}{T}$$\n",
    "\n",
    "## Step 2\n",
    "   1. Split the sample into 10 random groups and select $\\lambda$ through 10-fold cross-validation:\n",
    "      - For each training set $i$, obtain the whole solution path $(\\mathbf{\\omega}_{0≤\\zeta≤1})$ (using LARS?)\n",
    "      - Calculate the difference between the risk computed using the validation set and the given risk constraint\n",
    "      - $\\hat{\\zeta}$ is taken to be the average of $\\zeta(i), i = 1,\\dots,10$\n",
    "      - Denote selected value by $\\hat{\\lambda}$\n",
    "   \n",
    "## Step 3\n",
    "   1. Use the estimated $\\hat{\\lambda}$ in $$\\hat{\\mathbf{\\omega^*}} = \\underset{\\mathbf{\\omega}}{\\mathrm{argmin}}\\frac{1}{T}\\sum_{t=1}^T(\\hat{r}_c-\\mathbf{\\omega}'\\mathbf{R_t})^2\\quad \\text{subect to} \\quad ||\\mathbf{\\omega}||_1≤\\hat{\\lambda}$$ and solve for the MAXSER portfolio weights $\\hat{\\mathbf{\\omega^*}}$"
   ]
  },
  {
   "cell_type": "code",
   "execution_count": 260,
   "metadata": {},
   "outputs": [
    {
     "data": {
      "text/html": [
       "<div>\n",
       "<style scoped>\n",
       "    .dataframe tbody tr th:only-of-type {\n",
       "        vertical-align: middle;\n",
       "    }\n",
       "\n",
       "    .dataframe tbody tr th {\n",
       "        vertical-align: top;\n",
       "    }\n",
       "\n",
       "    .dataframe thead th {\n",
       "        text-align: right;\n",
       "    }\n",
       "</style>\n",
       "<table border=\"1\" class=\"dataframe\">\n",
       "  <thead>\n",
       "    <tr style=\"text-align: right;\">\n",
       "      <th></th>\n",
       "      <th>Mkt-RF</th>\n",
       "      <th>SMB</th>\n",
       "      <th>HML</th>\n",
       "      <th>RF</th>\n",
       "    </tr>\n",
       "  </thead>\n",
       "  <tbody>\n",
       "    <tr>\n",
       "      <th>2024-07-01</th>\n",
       "      <td>1.24</td>\n",
       "      <td>6.80</td>\n",
       "      <td>5.74</td>\n",
       "      <td>0.45</td>\n",
       "    </tr>\n",
       "    <tr>\n",
       "      <th>2024-08-01</th>\n",
       "      <td>1.61</td>\n",
       "      <td>-3.55</td>\n",
       "      <td>-1.13</td>\n",
       "      <td>0.48</td>\n",
       "    </tr>\n",
       "    <tr>\n",
       "      <th>2024-09-01</th>\n",
       "      <td>1.74</td>\n",
       "      <td>-0.17</td>\n",
       "      <td>-2.59</td>\n",
       "      <td>0.40</td>\n",
       "    </tr>\n",
       "    <tr>\n",
       "      <th>2024-10-01</th>\n",
       "      <td>-0.97</td>\n",
       "      <td>-1.01</td>\n",
       "      <td>0.89</td>\n",
       "      <td>0.39</td>\n",
       "    </tr>\n",
       "    <tr>\n",
       "      <th>2024-11-01</th>\n",
       "      <td>6.50</td>\n",
       "      <td>4.63</td>\n",
       "      <td>-0.05</td>\n",
       "      <td>0.40</td>\n",
       "    </tr>\n",
       "  </tbody>\n",
       "</table>\n",
       "</div>"
      ],
      "text/plain": [
       "            Mkt-RF   SMB   HML    RF\n",
       "2024-07-01    1.24  6.80  5.74  0.45\n",
       "2024-08-01    1.61 -3.55 -1.13  0.48\n",
       "2024-09-01    1.74 -0.17 -2.59  0.40\n",
       "2024-10-01   -0.97 -1.01  0.89  0.39\n",
       "2024-11-01    6.50  4.63 -0.05  0.40"
      ]
     },
     "execution_count": 260,
     "metadata": {},
     "output_type": "execute_result"
    }
   ],
   "source": [
    "import numpy as np\n",
    "import pandas as pd\n",
    "import matplotlib.pyplot as plt\n",
    "import seaborn as sns\n",
    "from scipy.special import betainc\n",
    "from scipy.stats import beta\n",
    "from sklearn.model_selection import KFold\n",
    "from sklearn.linear_model import LassoCV\n",
    "\n",
    "data = pd.read_csv('48_Industry_Portfolios.csv', skiprows=11, nrows=1181, index_col=0)\n",
    "data.index = pd.to_datetime(data.index, format='%Y%m')\n",
    "data = data.iloc[-60:]      # use last 60 observations (5 years)\n",
    "\n",
    "rf_data = pd.read_csv('F-F_Research_Data_Factors.csv', skiprows=3, nrows=1181, index_col=0)\n",
    "rf_data.index = pd.to_datetime(rf_data.index, format='%Y%m')\n",
    "rf_data.tail()"
   ]
  },
  {
   "cell_type": "code",
   "execution_count": 261,
   "metadata": {},
   "outputs": [
    {
     "data": {
      "text/plain": [
       "Agric    0.192638\n",
       "Food     0.023379\n",
       "Soda     0.084019\n",
       "Beer     0.025924\n",
       "Smoke    0.156046\n",
       "Toys    -0.069445\n",
       "Fun      0.110135\n",
       "Books    0.109205\n",
       "Hshld    0.060126\n",
       "Clths    0.008901\n",
       "Hlth     0.013568\n",
       "MedEq    0.060336\n",
       "Drugs    0.116737\n",
       "Chems    0.060590\n",
       "Rubbr    0.136961\n",
       "Txtls    0.026528\n",
       "BldMt    0.199358\n",
       "Cnstr    0.232949\n",
       "Steel    0.173437\n",
       "FabPr    0.136855\n",
       "Mach     0.186292\n",
       "ElcEq    0.087409\n",
       "Autos    0.213482\n",
       "Aero     0.045103\n",
       "Ships    0.134813\n",
       "Guns     0.161916\n",
       "Gold     0.054184\n",
       "Mines    0.197914\n",
       "Coal     0.224998\n",
       "Oil      0.130566\n",
       "Util     0.111191\n",
       "Telcm   -0.012795\n",
       "PerSv    0.118173\n",
       "BusSv    0.186104\n",
       "Comps    0.195017\n",
       "Chips    0.300243\n",
       "LabEq    0.107919\n",
       "Paper   -0.017160\n",
       "Boxes    0.078141\n",
       "Trans    0.107313\n",
       "Whlsl    0.196245\n",
       "Rtail    0.179052\n",
       "Meals    0.111674\n",
       "Banks    0.103027\n",
       "Insur    0.176108\n",
       "RlEst    0.103167\n",
       "Fin      0.203168\n",
       "Other    0.177963\n",
       "dtype: float64"
      ]
     },
     "execution_count": 261,
     "metadata": {},
     "output_type": "execute_result"
    }
   ],
   "source": [
    "rf = 0.40                       # most recent risk free rate from factor dataset\n",
    "data_excess = data - rf         # compute excess returns\n",
    "data_excess = data_excess / 100 # convert to percentage\n",
    "T, N = data.shape\n",
    "data_excess.head()\n",
    "\n",
    "# compute each sharpe ratio\n",
    "sharpe = data_excess.mean() / data_excess.std()\n",
    "sharpe"
   ]
  },
  {
   "cell_type": "code",
   "execution_count": 262,
   "metadata": {},
   "outputs": [
    {
     "name": "stdout",
     "output_type": "stream",
     "text": [
      "0.06\n",
      "0.00943704861111111\n",
      "0.1572841435185185\n"
     ]
    }
   ],
   "source": [
    "# Derive a sigma value\n",
    "cov_matrix = data_excess.cov()\n",
    "weights = np.full(N, 1 / N)  # naive weights for all assets\n",
    "\n",
    "var = np.dot(weights.T, np.dot(cov_matrix, weights))\n",
    "sigma = np.sqrt(var).round(2)\n",
    "print(sigma)\n",
    "\n",
    "p_ret = np.dot(weights, data_excess.mean())\n",
    "print(p_ret)\n",
    "# Calculate the Sharpe ratio\n",
    "p_sharpe = p_ret / sigma\n",
    "\n",
    "print(p_sharpe) # for comparison\n"
   ]
  },
  {
   "cell_type": "code",
   "execution_count": 263,
   "metadata": {},
   "outputs": [
    {
     "name": "stdout",
     "output_type": "stream",
     "text": [
      "-0.08814822792384343 [34 14 18 20 22 40  8  4 39 29  0 12]\n",
      "60 48\n",
      "-0.7737857041548631\n"
     ]
    }
   ],
   "source": [
    "# Step 0: Subpool Selection\n",
    "num_pools = 1000\n",
    "pool_size = 12\n",
    "\n",
    "def adjusted_sharpe_ratio(theta_s, T, N):\n",
    "    # Calculate the incomplete beta function B_x(a, b)\n",
    "    x = (theta_s) / (1 + theta_s)\n",
    "    a = N / 2\n",
    "    b = (T - N) / 2\n",
    "    B = betainc(a, b, x)\n",
    "    \n",
    "    theta_adj = ((T - N - 2) * theta_s - N) / T + ((2 * (theta_s ** (N / 2)) * ((1 + theta_s) ** (-(T - 2) / 2))) / (T * B))\n",
    "    \n",
    "    return theta_adj\n",
    "\n",
    "def subpool_selection(data, num_pools, pool_size):\n",
    "    np.random.seed(60202)\n",
    "    subpool_sharpes = []\n",
    "    for _ in range(num_pools):\n",
    "        subpool_indices = np.random.choice(N, pool_size, replace=False)\n",
    "        subpool = data.iloc[:, subpool_indices]\n",
    "        mu = subpool.mean(axis=0)\n",
    "        cov = subpool.cov()\n",
    "        theta_s = np.dot(mu.T, np.linalg.solve(cov, mu))\n",
    "        theta_adj = adjusted_sharpe_ratio(theta_s, T, pool_size)\n",
    "        subpool_sharpes.append((theta_adj, subpool_indices))\n",
    "\n",
    "    subpool_sharpes.sort(reverse=True, key=lambda x: x[0])\n",
    "    percentile_index = int(0.95 * len(subpool_sharpes)) - 1\n",
    "    return subpool_sharpes[percentile_index][0], subpool_sharpes[percentile_index][1]  \n",
    "\n",
    "best_theta_adj, best_subpool_indices = subpool_selection(data_excess, num_pools, pool_size)\n",
    "print(best_theta_adj, best_subpool_indices)\n",
    "print(T, N)\n",
    "\n",
    "test_adj = adjusted_sharpe_ratio(p_sharpe, T, 48)\n",
    "print(test_adj)"
   ]
  },
  {
   "cell_type": "code",
   "execution_count": 264,
   "metadata": {},
   "outputs": [
    {
     "name": "stdout",
     "output_type": "stream",
     "text": [
      "Response value: 0.2199\n"
     ]
    },
    {
     "name": "stderr",
     "output_type": "stream",
     "text": [
      "/var/folders/c5/0k9q6ymj10d7tsm7thk3_yqr0000gn/T/ipykernel_99080/411927598.py:5: FutureWarning: Series.__getitem__ treating keys as positions is deprecated. In a future version, integer keys will always be treated as labels (consistent with DataFrame behavior). To access a value by position, use `ser.iloc[pos]`\n",
      "  theta_s = np.dot(mu[subpool_indices].T, np.linalg.solve(cov.iloc[subpool_indices, subpool_indices], mu[subpool_indices]))\n"
     ]
    }
   ],
   "source": [
    "# Step 1: Calculate adjusted Sharpe ratio and response\n",
    "def calculate_response(data, sigma, subpool_indices):\n",
    "    mu = data.mean(axis=0)\n",
    "    cov = data.cov()\n",
    "    theta_s = np.dot(mu[subpool_indices].T, np.linalg.solve(cov.iloc[subpool_indices, subpool_indices], mu[subpool_indices]))\n",
    "    theta_hat = ((T - pool_size - 2) * theta_s - pool_size) / T  # Use pool_size instead of N\n",
    "    theta_hat = np.abs(theta_hat)  # Use absolute value to ensure positive value for sqrt\n",
    "    response = sigma * (1 + theta_hat) / np.sqrt(theta_hat)\n",
    "    return response\n",
    "\n",
    "response = calculate_response(data_excess, sigma, best_subpool_indices)\n",
    "print(f\"Response value: {response:.4f}\")"
   ]
  },
  {
   "cell_type": "code",
   "execution_count": 265,
   "metadata": {},
   "outputs": [
    {
     "name": "stdout",
     "output_type": "stream",
     "text": [
      "1e-15\n"
     ]
    }
   ],
   "source": [
    "# Step 2: Cross-validation to select lambda\n",
    "kf = KFold(n_splits=10, shuffle=True, random_state=42)\n",
    "def select_lambda(data, response):\n",
    "    X = data.values\n",
    "    y = np.full(X.shape[0], response)\n",
    "\n",
    "    lasso = LassoCV(cv=kf, max_iter=10000).fit(X, y)\n",
    "    return lasso.alpha_\n",
    "\n",
    "lambda_hat = select_lambda(data_excess, response)\n",
    "print(lambda_hat)"
   ]
  },
  {
   "cell_type": "code",
   "execution_count": 266,
   "metadata": {},
   "outputs": [
    {
     "name": "stdout",
     "output_type": "stream",
     "text": [
      "MAXSER Portfolio Weights:\n",
      "Agric    1.022361e-05\n",
      "Food    -2.272107e-06\n",
      "Soda     7.716924e-06\n",
      "Beer     1.171240e-06\n",
      "Smoke    7.728532e-06\n",
      "Toys    -5.849009e-08\n",
      "Fun      3.048657e-06\n",
      "Books    7.709848e-07\n",
      "Hshld   -3.972020e-06\n",
      "Clths    3.410623e-06\n",
      "Hlth    -2.885348e-06\n",
      "MedEq    2.819066e-06\n",
      "Drugs    1.471453e-05\n",
      "Chems    2.213541e-07\n",
      "Rubbr   -1.922199e-06\n",
      "Txtls    7.237982e-06\n",
      "BldMt    1.337888e-07\n",
      "Cnstr    7.693238e-07\n",
      "Steel   -2.211511e-06\n",
      "FabPr    4.891833e-07\n",
      "Mach     9.055290e-06\n",
      "ElcEq    2.049023e-06\n",
      "Autos    4.755208e-03\n",
      "Aero    -1.513385e-06\n",
      "Ships    8.105153e-08\n",
      "Guns     1.563899e-05\n",
      "Gold     1.744180e-06\n",
      "Mines   -8.883707e-06\n",
      "Coal     1.491821e-06\n",
      "Oil      3.169411e-07\n",
      "Util     4.668597e-06\n",
      "Telcm    5.220769e-07\n",
      "PerSv    2.317114e-06\n",
      "BusSv    1.712004e-06\n",
      "Comps   -1.007540e-06\n",
      "Chips   -6.068367e-07\n",
      "LabEq    1.509853e-06\n",
      "Paper   -4.260285e-06\n",
      "Boxes   -3.621509e-06\n",
      "Trans   -9.580630e-07\n",
      "Whlsl   -2.636202e-07\n",
      "Rtail    6.809554e-06\n",
      "Meals    2.341937e-06\n",
      "Banks   -1.879666e-06\n",
      "Insur    5.230139e-06\n",
      "RlEst    2.989393e-07\n",
      "Fin      2.138561e-06\n",
      "Other    1.900111e-06\n",
      "dtype: float64\n",
      "Sum of Portfolio Weights:\n",
      "0.004839173975141763\n"
     ]
    },
    {
     "data": {
      "image/png": "[encoded data removed]",
      "text/plain": [
       "<Figure size 1000x600 with 1 Axes>"
      ]
     },
     "metadata": {},
     "output_type": "display_data"
    }
   ],
   "source": [
    "# Step 3: Solve for MAXSER portfolio weights\n",
    "def maxser_weights(data, response, lambda_val):\n",
    "    from scipy.optimize import minimize\n",
    "\n",
    "    X = data.values\n",
    "    y = np.full(X.shape[0], response)\n",
    "\n",
    "    def loss_fn(weights):\n",
    "        return np.mean((y - X @ weights) ** 2)\n",
    "\n",
    "    constraints = ({'type': 'ineq', 'fun': lambda w: lambda_val - np.sum(np.abs(w))})\n",
    "    # bounds = [(0, None)] * data.shape[1]\n",
    "    bounds = [(None, None)] * data.shape[1]\n",
    "\n",
    "    result = minimize(loss_fn, np.ones(data.shape[1]) / data.shape[1], bounds=bounds, constraints=constraints)\n",
    "    return result.x\n",
    "\n",
    "weights = maxser_weights(data_excess, response, lambda_hat)\n",
    "\n",
    "# Final portfolio weights\n",
    "portfolio_weights = pd.Series(weights, index=data_excess.columns)\n",
    "print(\"MAXSER Portfolio Weights:\")\n",
    "print(portfolio_weights)\n",
    "\n",
    "#sum portfolio weights\n",
    "print(\"Sum of Portfolio Weights:\")\n",
    "print(portfolio_weights.sum())\n",
    "\n",
    "# visualize portfolio weights\n",
    "\n",
    "sns.set()\n",
    "\n",
    "plt.figure(figsize=(10, 6))\n",
    "sns.barplot(x=portfolio_weights.index, y=portfolio_weights.values)\n",
    "plt.xticks(rotation=45)\n",
    "plt.title(\"MAXSER Portfolio Weights\")\n",
    "plt.xlabel(\"Portfolio\")\n",
    "plt.ylabel(\"Weight\")\n",
    "plt.show()"
   ]
  },
  {
   "cell_type": "code",
   "execution_count": null,
   "metadata": {},
   "outputs": [],
   "source": []
  }
 ],
 "metadata": {
  "kernelspec": {
   "display_name": "base",
   "language": "python",
   "name": "python3"
  },
  "language_info": {
   "codemirror_mode": {
    "name": "ipython",
    "version": 3
   },
   "file_extension": ".py",
   "mimetype": "text/x-python",
   "name": "python",
   "nbconvert_exporter": "python",
   "pygments_lexer": "ipython3",
   "version": "3.11.9"
  }
 },
 "nbformat": 4,
 "nbformat_minor": 2
}
