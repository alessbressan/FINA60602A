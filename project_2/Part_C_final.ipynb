{
 "cells": [
  {
   "cell_type": "markdown",
   "metadata": {},
   "source": [
    "# 1. Import"
   ]
  },
  {
   "cell_type": "code",
   "execution_count": 77,
   "metadata": {},
   "outputs": [],
   "source": [
    "import pandas as pd\n",
    "import numpy as np\n",
    "from scipy.optimize import minimize\n",
    "import seaborn as sns\n",
    "from matplotlib import pyplot as plt\n",
    "\n",
    "from pathlib import Path\n",
    "from tqdm import tqdm\n",
    "\n",
    "import warnings\n",
    "\n",
    "warnings.filterwarnings('ignore')"
   ]
  },
  {
   "cell_type": "markdown",
   "metadata": {},
   "source": [
    "# 2. Data"
   ]
  },
  {
   "cell_type": "markdown",
   "metadata": {},
   "source": [
    "### 2.1 Load Data"
   ]
  },
  {
   "cell_type": "code",
   "execution_count": 78,
   "metadata": {},
   "outputs": [],
   "source": [
    "# import risk free rate\n",
    "ff = pd.read_csv(str(Path().absolute()) + \"/data/F-F_Research_Data_Factors.CSV\", index_col = 0) \n",
    "rf = ff.loc[:, \"RF\"] / 100\n",
    "rf.index = pd.to_datetime(rf.index, format = \"%Y%m\")\n",
    "rf = rf.loc[rf.index >= \"1974-01-01\"]  # only needed to calculate out-of-sample Sharpe ratios, hence only select data past 1974\n",
    "\n",
    "# industry returns\n",
    "df = pd.read_csv(str(Path().absolute()) + \"/data/48_Industry_Portfolios.CSV\", index_col = 0, skiprows = 11, nrows = 1182, header=0)\n",
    "df.index = pd.to_datetime(df.index, format = \"%Y%m\")\n",
    "df = df / 100\n",
    "\n",
    "# remove NAs\n",
    "mask = (df <= -0.99)\n",
    "df[mask] = np.nan\n",
    "\n",
    "# nb of industries dataframe\n",
    "nb_industries = pd.read_csv(str(Path().absolute()) + \"/data/48_Industry_Portfolios.CSV\", index_col = 0, skiprows = 2587, nrows = 1182, header=0)\n",
    "nb_industries.index = pd.to_datetime(nb_industries.index, format = \"%Y%m\")\n",
    "mask = (nb_industries <= -0.99)\n",
    "nb_industries[mask] = np.nan\n",
    "\n",
    "# average sizes dataframe\n",
    "avg_size = pd.read_csv(str(Path().absolute()) + \"/data/48_Industry_Portfolios.CSV\", index_col = 0, skiprows = 3773, nrows = 1182, header=0)\n",
    "avg_size.index = pd.to_datetime(avg_size.index, format = \"%Y%m\")\n",
    "mask = (avg_size <= -0.99)\n",
    "avg_size[mask] = np.nan\n",
    "\n",
    "# sum of BE / sum of ME dataframe\n",
    "be_over_me = pd.read_csv(str(Path().absolute()) + \"/data/48_Industry_Portfolios.CSV\", index_col = 0, skiprows = 4959, nrows = 99, header=0)\n",
    "be_over_me.index = pd.to_datetime(be_over_me.index, format = \"%Y\")"
   ]
  },
  {
   "cell_type": "code",
   "execution_count": 79,
   "metadata": {},
   "outputs": [],
   "source": [
    "# market cap of each industry over time\n",
    "mkt_cap = nb_industries * avg_size\n",
    "\n",
    "# momentum with monthly data\n",
    "momentum = df.rolling(12).mean()\n",
    "\n",
    "# book value to market value\n",
    "# resample be_over_me to monthly data\n",
    "# we must first shift years since our \"factor year\" begins in July preventing us from grouping by years\n",
    "be_over_me.index = be_over_me.index + pd.DateOffset(months = 6)\n",
    "be_over_me = be_over_me.resample(\"MS\").ffill()\n",
    "\n",
    "# need to add missing portion of 2024 since data with shifted index is missing it\n",
    "extra_be_over_me = pd.DataFrame(np.repeat([be_over_me.iloc[-1].values], repeats = 5, axis = 0), \n",
    "                                index = pd.date_range(start=be_over_me.index[-1] + pd.DateOffset(months = 1), end='2024-12-01', freq='MS'), \n",
    "                                columns = be_over_me.columns)\n",
    "\n",
    "be_over_me = pd.concat([be_over_me, extra_be_over_me], axis = 0)\n",
    "mask = (be_over_me <= -99.99)\n",
    "be_over_me[mask] = np.nan"
   ]
  },
  {
   "cell_type": "markdown",
   "metadata": {},
   "source": [
    "### 2.2 Normalize Data"
   ]
  },
  {
   "cell_type": "code",
   "execution_count": 80,
   "metadata": {},
   "outputs": [
    {
     "name": "stdout",
     "output_type": "stream",
     "text": [
      "(559, 48)\n",
      "(559, 48)\n",
      "(559, 48)\n",
      "(559, 48)\n"
     ]
    }
   ],
   "source": [
    "mkt_cap_ = mkt_cap.loc['1927-06-01':'1973-12-01']\n",
    "mkt_cap_norm = mkt_cap_.sub(mkt_cap_.mean(axis = 1), axis = 0).div(mkt_cap_.std(axis = 1), axis = 0)\n",
    "print(mkt_cap_norm.shape)\n",
    "\n",
    "be_over_me_ = be_over_me.loc['1927-06-01':'1973-12-01']\n",
    "be_over_me_norm = be_over_me_.sub(be_over_me_.mean(axis = 1), axis = 0).div(be_over_me_.std(axis = 1), axis = 0)\n",
    "print(be_over_me_norm.shape)\n",
    "\n",
    "momentum_ = momentum.loc['1927-06-01':'1973-12-01']\n",
    "momentum_norm = momentum_.sub(momentum_.mean(axis = 1), axis = 0).div(momentum_.std(axis = 1), axis = 0)\n",
    "print(momentum_norm.shape)\n",
    "\n",
    "df_in = df.loc['1927-06-01':'1973-12-01']\n",
    "print(df_in.shape)"
   ]
  },
  {
   "cell_type": "markdown",
   "metadata": {},
   "source": [
    "# 3. Parameter Optimization"
   ]
  },
  {
   "cell_type": "markdown",
   "metadata": {},
   "source": [
    "### 3.1 Objective Function"
   ]
  },
  {
   "cell_type": "code",
   "execution_count": 81,
   "metadata": {},
   "outputs": [],
   "source": [
    "def CRRA(wealth: float, gamma = 5):\n",
    "    \"\"\"\"\n",
    "    Constant Relative Risk Aversion Utility Function\n",
    "    ---\n",
    "    :param wealth: current wealth level of investor\n",
    "    :param gamma: risk aversion parameter\n",
    "    :return: CRRA utility level as given by functional form in Brandt et al. (2009), equation 15\n",
    "    \"\"\"\n",
    "\n",
    "    if gamma == 1:\n",
    "        return np.log(wealth)\n",
    "    else:\n",
    "        return ((1 + wealth) ** (1 - gamma)) / (1 - gamma)"
   ]
  },
  {
   "cell_type": "code",
   "execution_count": 82,
   "metadata": {},
   "outputs": [],
   "source": [
    "def objective(theta: np.ndarray, x: np.ndarray, rets: pd.DataFrame, mkt_cap: np.ndarray):\n",
    "    \"\"\"\n",
    "    objective function (equation 6 from Brandt et al. (2009)) which we aim to optimize over each period.\n",
    "    ---\n",
    "    :param theta: parameter vector to be optimized\n",
    "    :param x: characteristics matrix with dimensions (time x assets x characteristics)\n",
    "    :param rets: universe of assets returns matrix\n",
    "    :param mkt_cap: market capitalization of each asset in universe\n",
    "    :return: negative CRRA utility over desired period (we wish to minimize the negative utility)\n",
    "    \"\"\"\n",
    "\n",
    "    # initial wealth\n",
    "    accrued_utility = 0.0\n",
    "    for t in range(x.shape[0]):\n",
    "        w_t = mkt_cap.iloc[t]/ mkt_cap.iloc[t].sum()  # current weights of market portfolio (our benchmark)\n",
    "        rets_t1 = rets.iloc[t+1, :].values  # returns at time t+1 (following period)\n",
    "        x_t = x[t, :, :]  # characteristics at time t\n",
    "        \n",
    "        # determine which assets are currently traded\n",
    "        valid_mask = ~np.isnan(rets_t1) & ~np.isnan(x_t).any(axis=1)\n",
    "        Nt = valid_mask.sum()\n",
    "        \n",
    "        if Nt > 0:\n",
    "            # equation 6 from Brandt et al. (2009)\n",
    "            accrued_utility += CRRA(np.sum((w_t[valid_mask] + (x_t[valid_mask] @ theta) / Nt) * rets_t1[valid_mask]))\n",
    "    \n",
    "    # we wish to minimize the negative value of equation 6 from Brandt et al. (2009)\n",
    "    return - accrued_utility / x.shape[0]"
   ]
  },
  {
   "cell_type": "code",
   "execution_count": 83,
   "metadata": {},
   "outputs": [],
   "source": [
    "characteristics = np.stack([mkt_cap_norm, be_over_me_norm, momentum_norm], axis= -1)  # 3 characteristics we're interested in\n",
    "theta = np.array([-1.451, 3.606, 1.772])  # initial guess for theta"
   ]
  },
  {
   "cell_type": "code",
   "execution_count": 84,
   "metadata": {},
   "outputs": [
    {
     "data": {
      "text/plain": [
       "     fun: 0.15004521488055642\n",
       "     jac: array([1.86637044e-05, 1.22319907e-05, 3.78862023e-06])\n",
       " message: 'Optimization terminated successfully'\n",
       "    nfev: 81\n",
       "     nit: 20\n",
       "    njev: 20\n",
       "  status: 0\n",
       " success: True\n",
       "       x: array([ 1.92145464, -6.452669  , 15.30811724])"
      ]
     },
     "execution_count": 84,
     "metadata": {},
     "output_type": "execute_result"
    }
   ],
   "source": [
    "init = theta\n",
    "response = minimize(objective, x0=init, args=(characteristics, df, mkt_cap), method= 'SLSQP')\n",
    "response"
   ]
  },
  {
   "cell_type": "markdown",
   "metadata": {},
   "source": [
    "### 3.2 Parametric Weights at the end of In-Sample Period"
   ]
  },
  {
   "cell_type": "code",
   "execution_count": 85,
   "metadata": {},
   "outputs": [
    {
     "data": {
      "text/plain": [
       "array([ 0.17076654,  0.07557561,  0.26801621,  0.17184952,  0.16550982,\n",
       "       -0.41995906, -0.50305427, -0.20496807,  0.34910366, -0.66214392,\n",
       "       -0.93220119,  0.2243566 ,  0.42879581,  0.35338862, -0.22879334,\n",
       "       -0.5195123 , -0.02362341,  0.03748385,  0.06310868,  0.27681554,\n",
       "        0.21115431,  0.05742977, -0.23051842, -0.56123655,  0.59639817,\n",
       "       -0.29723797,  0.90032293,  0.57022133,  0.37654974,  0.68631852,\n",
       "        0.10833373,  0.20657869, -0.45456602, -0.09037789,  0.33069736,\n",
       "       -0.00877336,  0.21087069,  0.47676379,  0.24368304, -0.35899126,\n",
       "       -0.16453917, -0.00981192, -0.21848921,  0.21386154, -0.00310904,\n",
       "       -0.69850272, -0.00801267, -0.17553232])"
      ]
     },
     "execution_count": 85,
     "metadata": {},
     "output_type": "execute_result"
    }
   ],
   "source": [
    "# weights for the final period\n",
    "weights = mkt_cap.loc['1973-12-01']/ mkt_cap.loc['1973-12-01'].sum()  # current weights of market portfolio (our benchmark)\n",
    "next_w = np.zeros(weights.shape)\n",
    "for i in range(len(weights)):\n",
    "    next_w[i] = weights[i] + (response.x @ characteristics[-1,i,:]) / (np.count_nonzero(~np.isnan(characteristics[-1,:,:]))/3)\n",
    "\n",
    "next_w"
   ]
  },
  {
   "cell_type": "code",
   "execution_count": 86,
   "metadata": {},
   "outputs": [
    {
     "data": {
      "text/plain": [
       "array([0.0219665 , 0.00972164, 0.03447618, 0.02210581, 0.0212903 ,\n",
       "       0.        , 0.        , 0.        , 0.04490683, 0.        ,\n",
       "       0.        , 0.02886004, 0.05515801, 0.04545803, 0.        ,\n",
       "       0.        , 0.        , 0.00482172, 0.00811796, 0.03560808,\n",
       "       0.02716176, 0.00738746, 0.        , 0.        , 0.07671748,\n",
       "       0.        , 0.11581274, 0.07335023, 0.04843735, 0.08828435,\n",
       "       0.01393547, 0.02657318, 0.        , 0.        , 0.04253914,\n",
       "       0.        , 0.02712528, 0.06132835, 0.03134609, 0.        ,\n",
       "       0.        , 0.        , 0.        , 0.02751001, 0.        ,\n",
       "       0.        , 0.        , 0.        ])"
      ]
     },
     "execution_count": 86,
     "metadata": {},
     "output_type": "execute_result"
    }
   ],
   "source": [
    "# apply equation 16\n",
    "def long_only_constraint(weights: np.array):\n",
    "    \"\"\"\n",
    "    Imposes long only constraint through equation 16 of Brand et al. (2009) on the obtained weights using the optimized parameters\n",
    "    ---\n",
    "    :param weights: optimal weights to be constrained\n",
    "    :return: optimal weights after applying long only constraint\n",
    "    \"\"\"\n",
    "\n",
    "    # after completing optimization, we can safely set NaNs to 0 without affecting the optimized weights\n",
    "    clean_weights = np.nan_to_num(weights, nan= 0)\n",
    "    w_pos = np.clip(clean_weights, 0, None) # set all negative to 0\n",
    "    return w_pos / np.sum(w_pos)\n",
    "\n",
    "\n",
    "l_w = long_only_constraint(next_w)\n",
    "l_w"
   ]
  },
  {
   "cell_type": "markdown",
   "metadata": {},
   "source": [
    "# 4. Out-of-Sample Testing"
   ]
  },
  {
   "cell_type": "markdown",
   "metadata": {},
   "source": [
    "### 4.1 Load Out-of-Sample Data"
   ]
  },
  {
   "cell_type": "code",
   "execution_count": 87,
   "metadata": {},
   "outputs": [
    {
     "name": "stdout",
     "output_type": "stream",
     "text": [
      "(733, 48)\n",
      "(733, 48)\n",
      "(733, 48)\n",
      "(733, 48)\n"
     ]
    }
   ],
   "source": [
    "# market cap characteristic out-of-sample\n",
    "mkt_cap_ = mkt_cap.loc['1963-12-01':'2025-01-01']\n",
    "mkt_cap_norm = mkt_cap_.sub(mkt_cap_.mean(axis = 1), axis = 0).div(mkt_cap_.std(axis = 1), axis = 0)\n",
    "print(mkt_cap_norm.shape)\n",
    "\n",
    "# book to equity characteristic out-of-sample\n",
    "be_over_me_ = be_over_me.loc['1963-12-01':'2025-01-01']\n",
    "be_over_me_norm = be_over_me_.sub(be_over_me_.mean(axis = 1), axis = 0).div(be_over_me_.std(axis = 1), axis = 0)\n",
    "print(be_over_me_norm.shape)\n",
    "\n",
    "# momentum characteristic out-of-sample\n",
    "momentum_ = momentum.loc['1963-12-01':'2025-01-01']\n",
    "momentum_norm = momentum_.sub(momentum_.mean(axis = 1), axis = 0).div(momentum_.std(axis = 1), axis = 0)\n",
    "print(momentum_norm.shape)\n",
    "\n",
    "# returns out-of-sample\n",
    "df_out = df.loc['1963-12-01':'2025-01-01']\n",
    "print(df_out.shape)\n"
   ]
  },
  {
   "cell_type": "code",
   "execution_count": 88,
   "metadata": {},
   "outputs": [],
   "source": [
    "x_hat = np.stack([mkt_cap_norm, be_over_me_norm, momentum_norm], axis= -1)\n",
    "window_size = 119 # 10 years x 12 months - 1 (current observation) = 119 timesteps\n",
    "next_w = np.zeros(len(mkt_cap.columns))\n",
    "monthly_rets = []\n",
    "f_objective = []"
   ]
  },
  {
   "cell_type": "markdown",
   "metadata": {},
   "source": [
    "### 4.2 Rolling Window"
   ]
  },
  {
   "cell_type": "code",
   "execution_count": 89,
   "metadata": {},
   "outputs": [
    {
     "name": "stderr",
     "output_type": "stream",
     "text": [
      "100%|██████████| 612/612 [03:11<00:00,  3.19it/s]\n"
     ]
    }
   ],
   "source": [
    "for t in tqdm(range(window_size+1, x_hat.shape[0]-1)): \n",
    "    x_hat_subset = x_hat[t-window_size-1:t-1, :, :]  # characteristics for estimation period over [0,t-1]\n",
    "    df_out_subset = df_out.iloc[t-window_size-1:t]  # returns for estimation period which is shifted by one period since we use previous period's characteristic's, so it is over [1, t]\n",
    "    mkt_cap_subset = mkt_cap_.iloc[t-window_size-1:t-1, :]  # market capitalization for estimation period (to calculate market weights at each period) over [0,t-1] \n",
    "    rets_t1 = df_out.iloc[t+1]  # returns for next period at t+1\n",
    "\n",
    "    # 1. Estimate Theta\n",
    "    res = minimize(objective, x0=theta, args=(x_hat_subset, df_out_subset, mkt_cap_subset), method='SLSQP')\n",
    "    f_objective.append(res.fun)\n",
    "    theta = res.x\n",
    "    \n",
    "    # 2. Estimate Weights\n",
    "    Nt = np.count_nonzero(~np.isnan(x_hat_subset[-1, :, :])) / 3  # number of assets which have non NA values for each characteristic.\n",
    "    valid_mask = ~np.isnan(x_hat_subset[-1, :, :]).any(axis=1)  # mask for assets which have non NA values for each characteristic.\n",
    "    \n",
    "    # parametric portfolio weights\n",
    "    w_bar = mkt_cap_subset.iloc[-1]/ mkt_cap_subset.iloc[-1].sum()\n",
    "    next_w[valid_mask] = w_bar[valid_mask] + (x_hat_subset[-1, valid_mask, :] @ theta) / Nt\n",
    "\n",
    "    long_weights = long_only_constraint(next_w)\n",
    "\n",
    "    # 3. Estimate Next Month Returns\n",
    "    rets_clean = np.nan_to_num(rets_t1, nan=0)\n",
    "    \n",
    "    # 4. Record Return\n",
    "    monthly_rets.append(long_weights @ rets_clean)\n",
    "\n",
    "monthly_rets = pd.Series(monthly_rets, index = df_out.index[window_size+2:], dtype=\"float64\")"
   ]
  },
  {
   "cell_type": "code",
   "execution_count": 104,
   "metadata": {},
   "outputs": [
    {
     "name": "stdout",
     "output_type": "stream",
     "text": [
      "mean: 0.15168451651212245\n",
      "std: 0.17192295004270824\n",
      "sharpe: 0.6334928958900439\n"
     ]
    }
   ],
   "source": [
    "print(f'mean: {12 * np.mean(monthly_rets)}')\n",
    "print(f'std: {np.sqrt(12) * np.std(monthly_rets, ddof = 1)}')\n",
    "print(f'sharpe: {np.sqrt(12) * np.mean(monthly_rets - rf)/np.std(monthly_rets, ddof = 1)}')"
   ]
  },
  {
   "cell_type": "markdown",
   "metadata": {},
   "source": [
    "# 5. Comparison with Equal Weight and Inverse Variance"
   ]
  },
  {
   "cell_type": "code",
   "execution_count": 91,
   "metadata": {},
   "outputs": [],
   "source": [
    "def inv_var(df: pd.DataFrame):\n",
    "    \"\"\"\n",
    "    computes weights based on the inverse of the variance of assets\n",
    "    ---\n",
    "    :param df: dataframe of industry returns\n",
    "    :return: array of inverse variance weights\n",
    "    \"\"\"\n",
    "    \n",
    "    w = (1 / df.var(axis = 0)) / sum(1 / df.var(axis = 0))\n",
    "    return w\n",
    "\n",
    "\n",
    "def equal_weight(df: pd.DataFrame):\n",
    "    \"\"\"\n",
    "    computes equal weights for each asset in the portfolio (1 / N portfolio)\n",
    "    ---\n",
    "    :param df: dataframe of industry returns\n",
    "    :return: array of equal weights\n",
    "    \"\"\"\n",
    "    \n",
    "    return np.full(len(df.columns), fill_value = 1 / len(df.columns))"
   ]
  },
  {
   "cell_type": "code",
   "execution_count": 92,
   "metadata": {},
   "outputs": [
    {
     "name": "stderr",
     "output_type": "stream",
     "text": [
      "100%|██████████| 612/612 [00:00<00:00, 773.80it/s]\n"
     ]
    }
   ],
   "source": [
    "backtest = pd.DataFrame(index = df_out[window_size+1:].index, columns = [\"parametric\", \"inv_var\", \"equal_weight\"], dtype = \"float\")\n",
    "\n",
    "for t in tqdm(range(window_size+1, df_out.shape[0]-1)):\n",
    "    \n",
    "    # construct portfolio based off of 5 years of data\n",
    "    start = df_out.index[t - window_size]\n",
    "    end = df_out.index[t]\n",
    "\n",
    "    # current date (is 1 month ahead to avoid look-ahead bias)\n",
    "    current = df_out.index[t+1]\n",
    "\n",
    "    backtest.loc[current, \"inv_var\"] = df_out.loc[current, :] @ inv_var(df_out.loc[start:end,:])\n",
    "    backtest.loc[current, \"equal_weight\"] = df_out.loc[current, :] @ equal_weight(df_out.loc[start:end,:])"
   ]
  },
  {
   "cell_type": "code",
   "execution_count": 93,
   "metadata": {},
   "outputs": [
    {
     "data": {
      "text/plain": [
       "Text(0, 0.5, 'Cumulative Returns (Log Scale)')"
      ]
     },
     "execution_count": 93,
     "metadata": {},
     "output_type": "execute_result"
    },
    {
     "data": {
      "image/png": "[encoded data removed]",
      "text/plain": [
       "<Figure size 640x480 with 1 Axes>"
      ]
     },
     "metadata": {},
     "output_type": "display_data"
    }
   ],
   "source": [
    "backtest.loc[:, \"parametric\"] = monthly_rets\n",
    "np.log(np.cumprod(1 + backtest)).plot()\n",
    "plt.title(\"Comparison of Parametric, Inverse Variance \\n and Equal Weighted Portfolios\")\n",
    "plt.xlabel(\"Time\")\n",
    "plt.ylabel(\"Cumulative Returns (Log Scale)\")"
   ]
  },
  {
   "cell_type": "code",
   "execution_count": null,
   "metadata": {},
   "outputs": [
    {
     "data": {
      "text/html": [
       "<div>\n",
       "<style scoped>\n",
       "    .dataframe tbody tr th:only-of-type {\n",
       "        vertical-align: middle;\n",
       "    }\n",
       "\n",
       "    .dataframe tbody tr th {\n",
       "        vertical-align: top;\n",
       "    }\n",
       "\n",
       "    .dataframe thead th {\n",
       "        text-align: right;\n",
       "    }\n",
       "</style>\n",
       "<table border=\"1\" class=\"dataframe\">\n",
       "  <thead>\n",
       "    <tr style=\"text-align: right;\">\n",
       "      <th></th>\n",
       "      <th>mean</th>\n",
       "      <th>std</th>\n",
       "      <th>sharpe</th>\n",
       "    </tr>\n",
       "  </thead>\n",
       "  <tbody>\n",
       "    <tr>\n",
       "      <th>parametric</th>\n",
       "      <td>0.151685</td>\n",
       "      <td>0.171923</td>\n",
       "      <td>0.633493</td>\n",
       "    </tr>\n",
       "    <tr>\n",
       "      <th>inv_var</th>\n",
       "      <td>0.127740</td>\n",
       "      <td>0.157331</td>\n",
       "      <td>0.540056</td>\n",
       "    </tr>\n",
       "    <tr>\n",
       "      <th>equal_weight</th>\n",
       "      <td>0.130728</td>\n",
       "      <td>0.169281</td>\n",
       "      <td>0.519585</td>\n",
       "    </tr>\n",
       "  </tbody>\n",
       "</table>\n",
       "</div>"
      ],
      "text/plain": [
       "                  mean       std    sharpe\n",
       "parametric    0.151685  0.171923  0.633493\n",
       "inv_var       0.127740  0.157331  0.540056\n",
       "equal_weight  0.130728  0.169281  0.519585"
      ]
     },
     "execution_count": 94,
     "metadata": {},
     "output_type": "execute_result"
    }
   ],
   "source": [
    "mean_rets = backtest.mean(axis = 0) * 12\n",
    "std_rets = backtest.std(axis = 0) * np.sqrt(12)\n",
    "sharpe_ratios = backtest.sub(rf, axis = 0).mean(axis = 0) * np.sqrt(12) / backtest.std(axis = 0)\n",
    "\n",
    "pd.DataFrame({\"mean\": mean_rets, \"std\": std_rets, \"sharpe\": sharpe_ratios})"
   ]
  }
 ],
 "metadata": {
  "kernelspec": {
   "display_name": "Python 3",
   "language": "python",
   "name": "python3"
  },
  "language_info": {
   "codemirror_mode": {
    "name": "ipython",
    "version": 3
   },
   "file_extension": ".py",
   "mimetype": "text/x-python",
   "name": "python",
   "nbconvert_exporter": "python",
   "pygments_lexer": "ipython3",
   "version": "3.7.9"
  }
 },
 "nbformat": 4,
 "nbformat_minor": 2
}
