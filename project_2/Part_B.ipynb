{
 "cells": [
  {
   "cell_type": "markdown",
   "id": "93fa9568",
   "metadata": {},
   "source": [
    "# 1. Import"
   ]
  },
  {
   "cell_type": "code",
   "execution_count": 173,
   "id": "70c93333",
   "metadata": {},
   "outputs": [],
   "source": [
    "import pandas as pd\n",
    "import numpy as np\n",
    "from scipy.optimize import minimize\n",
    "from sklearn.linear_model import LinearRegression\n",
    "\n",
    "from matplotlib import pyplot as plt\n",
    "\n",
    "from pathlib import Path\n",
    "from tqdm import tqdm"
   ]
  },
  {
   "cell_type": "markdown",
   "id": "634f56e3",
   "metadata": {},
   "source": [
    "# 2. Load Data"
   ]
  },
  {
   "cell_type": "code",
   "execution_count": 235,
   "id": "7a5a602b",
   "metadata": {},
   "outputs": [],
   "source": [
    "# load daily industry returns\n",
    "df_daily = pd.read_csv(str(Path().absolute()) + \"/data/48_Industry_Portfolios_Daily.CSV\", index_col = 0)\n",
    "df_daily.index = pd.to_datetime(df_daily.index, format = \"%Y%m%d\")\n",
    "df_daily = df_daily / 100\n",
    "\n",
    "# handle NA values\n",
    "mask = (df_daily <= -0.99)\n",
    "df_daily[mask] = np.nan"
   ]
  },
  {
   "cell_type": "code",
   "execution_count": 205,
   "id": "6d7465d9",
   "metadata": {},
   "outputs": [],
   "source": [
    "# load Fama French Daily Factors\n",
    "ff = pd.read_csv(str(Path().absolute()) + \"/data/F-F_Research_Data_Factors_daily.CSV\", index_col = 0)\n",
    "ff.index = pd.to_datetime(ff.index, format = \"%Y%m%d\")\n",
    "ff = ff / 100"
   ]
  },
  {
   "cell_type": "code",
   "execution_count": 236,
   "id": "b6f40f2f",
   "metadata": {},
   "outputs": [
    {
     "name": "stderr",
     "output_type": "stream",
     "text": [
      "/var/folders/cb/4hmkv_ks12v6rtbh4ht9tzbr0000gp/T/ipykernel_86938/3818925183.py:11: DeprecationWarning: In a future version, `df.iloc[:, i] = newvals` will attempt to set the values inplace instead of always setting a new array. To retain the old behavior, use either `df[df.columns[i]] = newvals` or, if columns are non-unique, `df.isetitem(i, newvals)`\n",
      "  df_list[i].loc[:, \"Date\"] = df_list[i].loc[:, \"Date\"].astype(\"int\")\n",
      "/var/folders/cb/4hmkv_ks12v6rtbh4ht9tzbr0000gp/T/ipykernel_86938/3818925183.py:11: DeprecationWarning: In a future version, `df.iloc[:, i] = newvals` will attempt to set the values inplace instead of always setting a new array. To retain the old behavior, use either `df[df.columns[i]] = newvals` or, if columns are non-unique, `df.isetitem(i, newvals)`\n",
      "  df_list[i].loc[:, \"Date\"] = df_list[i].loc[:, \"Date\"].astype(\"int\")\n",
      "/var/folders/cb/4hmkv_ks12v6rtbh4ht9tzbr0000gp/T/ipykernel_86938/3818925183.py:11: DeprecationWarning: In a future version, `df.iloc[:, i] = newvals` will attempt to set the values inplace instead of always setting a new array. To retain the old behavior, use either `df[df.columns[i]] = newvals` or, if columns are non-unique, `df.isetitem(i, newvals)`\n",
      "  df_list[i].loc[:, \"Date\"] = df_list[i].loc[:, \"Date\"].astype(\"int\")\n",
      "/var/folders/cb/4hmkv_ks12v6rtbh4ht9tzbr0000gp/T/ipykernel_86938/3818925183.py:11: DeprecationWarning: In a future version, `df.iloc[:, i] = newvals` will attempt to set the values inplace instead of always setting a new array. To retain the old behavior, use either `df[df.columns[i]] = newvals` or, if columns are non-unique, `df.isetitem(i, newvals)`\n",
      "  df_list[i].loc[:, \"Date\"] = df_list[i].loc[:, \"Date\"].astype(\"int\")\n"
     ]
    }
   ],
   "source": [
    "# load 4 dataframes (returns, nb industries, avg firm size, Sum of BE / Sum of ME)\n",
    "df = pd.read_csv(str(Path().absolute()) + \"/data/48_Industry_Portfolios.CSV\") \n",
    "\n",
    "# split these dataframes\n",
    "df_list = np.split(df, df[df.isnull().all(1)].index, axis = 0) \n",
    "\n",
    "# clean data and convert date column to index\n",
    "for i in range(len(df_list)):\n",
    "    df_list[i] = pd.DataFrame(df_list[i])  \n",
    "    df_list[i] = df_list[i].dropna()  \n",
    "    df_list[i].loc[:, \"Date\"] = df_list[i].loc[:, \"Date\"].astype(\"int\")  \n",
    "    df_list[i] = df_list[i].set_index(\"Date\")  \n",
    "    \n",
    "    # last data frame has yearly data\n",
    "    if i == (len(df_list) - 1): \n",
    "        df_list[i].index = pd.to_datetime(df_list[i].index, format = \"%Y\")\n",
    "        df_list[i].index = df_list[i].index + pd.DateOffset(months = 6)\n",
    "    else:\n",
    "        df_list[i].index = pd.to_datetime(df_list[i].index, format = \"%Y%m\")\n",
    "\n",
    "# create a dataframe of excess returns, nb of industries and avg sizes\n",
    "df = df_list[0] / 100\n",
    "mask = (df <= -0.99)\n",
    "df[mask] = np.nan\n",
    "\n",
    "nb_industries = df_list[1]\n",
    "nb_industries[mask] = np.nan\n",
    "\n",
    "avg_size = df_list[2]\n",
    "avg_size[mask] = np.nan\n",
    "\n",
    "be_over_me = df_list[3]\n",
    "be_over_me[mask] = np.nan"
   ]
  },
  {
   "cell_type": "markdown",
   "id": "3ab62af9",
   "metadata": {},
   "source": [
    "# 3. Calculate Characteristics"
   ]
  },
  {
   "cell_type": "markdown",
   "id": "19473a27",
   "metadata": {},
   "source": [
    "## 3.1 Market Cap, Book-to-Market, Momentum"
   ]
  },
  {
   "cell_type": "code",
   "execution_count": 237,
   "id": "add0cc0c",
   "metadata": {},
   "outputs": [],
   "source": [
    "# market cap of each industry over time\n",
    "mkt_cap = nb_industries * avg_size\n",
    "\n",
    "# book value to market value\n",
    "be_over_me = be_over_me.resample(\"1MS\").ffill()\n",
    "\n",
    "# momentum with monthly data\n",
    "momentum = df.rolling(12).mean()"
   ]
  },
  {
   "cell_type": "markdown",
   "id": "2aceba39",
   "metadata": {},
   "source": [
    "## 3.2 Beta"
   ]
  },
  {
   "cell_type": "code",
   "execution_count": 190,
   "id": "abb1fbfd",
   "metadata": {},
   "outputs": [],
   "source": [
    "def ols(subset, df, industry):\n",
    "        \n",
    "        df_roll = df.loc[subset.index, :]\n",
    "        \n",
    "        return linregress(df_roll.loc[:,\"Mkt-RF\"], df_roll.loc[:,industry]).slope"
   ]
  },
  {
   "cell_type": "code",
   "execution_count": 115,
   "id": "f2472c8c",
   "metadata": {},
   "outputs": [
    {
     "name": "stderr",
     "output_type": "stream",
     "text": [
      "0it [00:00, ?it/s]/var/folders/cb/4hmkv_ks12v6rtbh4ht9tzbr0000gp/T/ipykernel_86938/1404234626.py:7: DeprecationWarning: In a future version, `df.iloc[:, i] = newvals` will attempt to set the values inplace instead of always setting a new array. To retain the old behavior, use either `df[df.columns[i]] = newvals` or, if columns are non-unique, `df.isetitem(i, newvals)`\n",
      "  betas.loc[:, industry] = temp_df[\"Mkt-RF\"].rolling(12).apply(ols, args = (temp_df, industry))\n",
      "1it [00:08,  8.77s/it]\n"
     ]
    },
    {
     "ename": "KeyboardInterrupt",
     "evalue": "",
     "output_type": "error",
     "traceback": [
      "\u001b[0;31m---------------------------------------------------------------------------\u001b[0m",
      "\u001b[0;31mKeyboardInterrupt\u001b[0m                         Traceback (most recent call last)",
      "Cell \u001b[0;32mIn[115], line 7\u001b[0m\n\u001b[1;32m      5\u001b[0m temp_df \u001b[38;5;241m=\u001b[39m pd\u001b[38;5;241m.\u001b[39mconcat([(industry_timeseries \u001b[38;5;241m-\u001b[39m ff\u001b[38;5;241m.\u001b[39mloc[:, \u001b[38;5;124m\"\u001b[39m\u001b[38;5;124mRF\u001b[39m\u001b[38;5;124m\"\u001b[39m]), ff\u001b[38;5;241m.\u001b[39mloc[:, \u001b[38;5;124m\"\u001b[39m\u001b[38;5;124mMkt-RF\u001b[39m\u001b[38;5;124m\"\u001b[39m]], axis\u001b[38;5;241m=\u001b[39m\u001b[38;5;241m1\u001b[39m)\n\u001b[1;32m      6\u001b[0m temp_df\u001b[38;5;241m.\u001b[39mcolumns \u001b[38;5;241m=\u001b[39m[industry, \u001b[38;5;124m\"\u001b[39m\u001b[38;5;124mMkt-RF\u001b[39m\u001b[38;5;124m\"\u001b[39m]\n\u001b[0;32m----> 7\u001b[0m betas\u001b[38;5;241m.\u001b[39mloc[:, industry] \u001b[38;5;241m=\u001b[39m temp_df[\u001b[38;5;124m\"\u001b[39m\u001b[38;5;124mMkt-RF\u001b[39m\u001b[38;5;124m\"\u001b[39m]\u001b[38;5;241m.\u001b[39mrolling(\u001b[38;5;241m12\u001b[39m)\u001b[38;5;241m.\u001b[39mapply(ols, args \u001b[38;5;241m=\u001b[39m (temp_df, industry))\n",
      "File \u001b[0;32m/Users/joekairouz/anaconda3/lib/python3.11/site-packages/pandas/core/window/rolling.py:2000\u001b[0m, in \u001b[0;36mRolling.apply\u001b[0;34m(self, func, raw, engine, engine_kwargs, args, kwargs)\u001b[0m\n\u001b[1;32m   1979\u001b[0m \u001b[38;5;129m@doc\u001b[39m(\n\u001b[1;32m   1980\u001b[0m     template_header,\n\u001b[1;32m   1981\u001b[0m     create_section_header(\u001b[38;5;124m\"\u001b[39m\u001b[38;5;124mParameters\u001b[39m\u001b[38;5;124m\"\u001b[39m),\n\u001b[0;32m   (...)\u001b[0m\n\u001b[1;32m   1998\u001b[0m     kwargs: \u001b[38;5;28mdict\u001b[39m[\u001b[38;5;28mstr\u001b[39m, Any] \u001b[38;5;241m|\u001b[39m \u001b[38;5;28;01mNone\u001b[39;00m \u001b[38;5;241m=\u001b[39m \u001b[38;5;28;01mNone\u001b[39;00m,\n\u001b[1;32m   1999\u001b[0m ):\n\u001b[0;32m-> 2000\u001b[0m     \u001b[38;5;28;01mreturn\u001b[39;00m \u001b[38;5;28msuper\u001b[39m()\u001b[38;5;241m.\u001b[39mapply(\n\u001b[1;32m   2001\u001b[0m         func,\n\u001b[1;32m   2002\u001b[0m         raw\u001b[38;5;241m=\u001b[39mraw,\n\u001b[1;32m   2003\u001b[0m         engine\u001b[38;5;241m=\u001b[39mengine,\n\u001b[1;32m   2004\u001b[0m         engine_kwargs\u001b[38;5;241m=\u001b[39mengine_kwargs,\n\u001b[1;32m   2005\u001b[0m         args\u001b[38;5;241m=\u001b[39margs,\n\u001b[1;32m   2006\u001b[0m         kwargs\u001b[38;5;241m=\u001b[39mkwargs,\n\u001b[1;32m   2007\u001b[0m     )\n",
      "File \u001b[0;32m/Users/joekairouz/anaconda3/lib/python3.11/site-packages/pandas/core/window/rolling.py:1422\u001b[0m, in \u001b[0;36mRollingAndExpandingMixin.apply\u001b[0;34m(self, func, raw, engine, engine_kwargs, args, kwargs)\u001b[0m\n\u001b[1;32m   1419\u001b[0m \u001b[38;5;28;01melse\u001b[39;00m:\n\u001b[1;32m   1420\u001b[0m     \u001b[38;5;28;01mraise\u001b[39;00m \u001b[38;5;167;01mValueError\u001b[39;00m(\u001b[38;5;124m\"\u001b[39m\u001b[38;5;124mengine must be either \u001b[39m\u001b[38;5;124m'\u001b[39m\u001b[38;5;124mnumba\u001b[39m\u001b[38;5;124m'\u001b[39m\u001b[38;5;124m or \u001b[39m\u001b[38;5;124m'\u001b[39m\u001b[38;5;124mcython\u001b[39m\u001b[38;5;124m'\u001b[39m\u001b[38;5;124m\"\u001b[39m)\n\u001b[0;32m-> 1422\u001b[0m \u001b[38;5;28;01mreturn\u001b[39;00m \u001b[38;5;28mself\u001b[39m\u001b[38;5;241m.\u001b[39m_apply(\n\u001b[1;32m   1423\u001b[0m     apply_func,\n\u001b[1;32m   1424\u001b[0m     name\u001b[38;5;241m=\u001b[39m\u001b[38;5;124m\"\u001b[39m\u001b[38;5;124mapply\u001b[39m\u001b[38;5;124m\"\u001b[39m,\n\u001b[1;32m   1425\u001b[0m     numba_args\u001b[38;5;241m=\u001b[39mnumba_args,\n\u001b[1;32m   1426\u001b[0m )\n",
      "File \u001b[0;32m/Users/joekairouz/anaconda3/lib/python3.11/site-packages/pandas/core/window/rolling.py:663\u001b[0m, in \u001b[0;36mBaseWindow._apply\u001b[0;34m(self, func, name, numeric_only, numba_args, **kwargs)\u001b[0m\n\u001b[1;32m    660\u001b[0m     \u001b[38;5;28;01mreturn\u001b[39;00m result\n\u001b[1;32m    662\u001b[0m \u001b[38;5;28;01mif\u001b[39;00m \u001b[38;5;28mself\u001b[39m\u001b[38;5;241m.\u001b[39mmethod \u001b[38;5;241m==\u001b[39m \u001b[38;5;124m\"\u001b[39m\u001b[38;5;124msingle\u001b[39m\u001b[38;5;124m\"\u001b[39m:\n\u001b[0;32m--> 663\u001b[0m     \u001b[38;5;28;01mreturn\u001b[39;00m \u001b[38;5;28mself\u001b[39m\u001b[38;5;241m.\u001b[39m_apply_blockwise(homogeneous_func, name, numeric_only)\n\u001b[1;32m    664\u001b[0m \u001b[38;5;28;01melse\u001b[39;00m:\n\u001b[1;32m    665\u001b[0m     \u001b[38;5;28;01mreturn\u001b[39;00m \u001b[38;5;28mself\u001b[39m\u001b[38;5;241m.\u001b[39m_apply_tablewise(homogeneous_func, name, numeric_only)\n",
      "File \u001b[0;32m/Users/joekairouz/anaconda3/lib/python3.11/site-packages/pandas/core/window/rolling.py:503\u001b[0m, in \u001b[0;36mBaseWindow._apply_blockwise\u001b[0;34m(self, homogeneous_func, name, numeric_only)\u001b[0m\n\u001b[1;32m    501\u001b[0m \u001b[38;5;28mself\u001b[39m\u001b[38;5;241m.\u001b[39m_validate_numeric_only(name, numeric_only)\n\u001b[1;32m    502\u001b[0m \u001b[38;5;28;01mif\u001b[39;00m \u001b[38;5;28mself\u001b[39m\u001b[38;5;241m.\u001b[39m_selected_obj\u001b[38;5;241m.\u001b[39mndim \u001b[38;5;241m==\u001b[39m \u001b[38;5;241m1\u001b[39m:\n\u001b[0;32m--> 503\u001b[0m     \u001b[38;5;28;01mreturn\u001b[39;00m \u001b[38;5;28mself\u001b[39m\u001b[38;5;241m.\u001b[39m_apply_series(homogeneous_func, name)\n\u001b[1;32m    505\u001b[0m obj \u001b[38;5;241m=\u001b[39m \u001b[38;5;28mself\u001b[39m\u001b[38;5;241m.\u001b[39m_create_data(\u001b[38;5;28mself\u001b[39m\u001b[38;5;241m.\u001b[39m_selected_obj, numeric_only)\n\u001b[1;32m    506\u001b[0m \u001b[38;5;28;01mif\u001b[39;00m name \u001b[38;5;241m==\u001b[39m \u001b[38;5;124m\"\u001b[39m\u001b[38;5;124mcount\u001b[39m\u001b[38;5;124m\"\u001b[39m:\n\u001b[1;32m    507\u001b[0m     \u001b[38;5;66;03m# GH 12541: Special case for count where we support date-like types\u001b[39;00m\n",
      "File \u001b[0;32m/Users/joekairouz/anaconda3/lib/python3.11/site-packages/pandas/core/window/rolling.py:487\u001b[0m, in \u001b[0;36mBaseWindow._apply_series\u001b[0;34m(self, homogeneous_func, name)\u001b[0m\n\u001b[1;32m    484\u001b[0m \u001b[38;5;28;01mexcept\u001b[39;00m (\u001b[38;5;167;01mTypeError\u001b[39;00m, \u001b[38;5;167;01mNotImplementedError\u001b[39;00m) \u001b[38;5;28;01mas\u001b[39;00m err:\n\u001b[1;32m    485\u001b[0m     \u001b[38;5;28;01mraise\u001b[39;00m DataError(\u001b[38;5;124m\"\u001b[39m\u001b[38;5;124mNo numeric types to aggregate\u001b[39m\u001b[38;5;124m\"\u001b[39m) \u001b[38;5;28;01mfrom\u001b[39;00m \u001b[38;5;21;01merr\u001b[39;00m\n\u001b[0;32m--> 487\u001b[0m result \u001b[38;5;241m=\u001b[39m homogeneous_func(values)\n\u001b[1;32m    488\u001b[0m index \u001b[38;5;241m=\u001b[39m \u001b[38;5;28mself\u001b[39m\u001b[38;5;241m.\u001b[39m_slice_axis_for_step(obj\u001b[38;5;241m.\u001b[39mindex, result)\n\u001b[1;32m    489\u001b[0m \u001b[38;5;28;01mreturn\u001b[39;00m obj\u001b[38;5;241m.\u001b[39m_constructor(result, index\u001b[38;5;241m=\u001b[39mindex, name\u001b[38;5;241m=\u001b[39mobj\u001b[38;5;241m.\u001b[39mname)\n",
      "File \u001b[0;32m/Users/joekairouz/anaconda3/lib/python3.11/site-packages/pandas/core/window/rolling.py:658\u001b[0m, in \u001b[0;36mBaseWindow._apply.<locals>.homogeneous_func\u001b[0;34m(values)\u001b[0m\n\u001b[1;32m    655\u001b[0m     \u001b[38;5;28;01mreturn\u001b[39;00m func(x, start, end, min_periods, \u001b[38;5;241m*\u001b[39mnumba_args)\n\u001b[1;32m    657\u001b[0m \u001b[38;5;28;01mwith\u001b[39;00m np\u001b[38;5;241m.\u001b[39merrstate(\u001b[38;5;28mall\u001b[39m\u001b[38;5;241m=\u001b[39m\u001b[38;5;124m\"\u001b[39m\u001b[38;5;124mignore\u001b[39m\u001b[38;5;124m\"\u001b[39m):\n\u001b[0;32m--> 658\u001b[0m     result \u001b[38;5;241m=\u001b[39m calc(values)\n\u001b[1;32m    660\u001b[0m \u001b[38;5;28;01mreturn\u001b[39;00m result\n",
      "File \u001b[0;32m/Users/joekairouz/anaconda3/lib/python3.11/site-packages/pandas/core/window/rolling.py:655\u001b[0m, in \u001b[0;36mBaseWindow._apply.<locals>.homogeneous_func.<locals>.calc\u001b[0;34m(x)\u001b[0m\n\u001b[1;32m    646\u001b[0m start, end \u001b[38;5;241m=\u001b[39m window_indexer\u001b[38;5;241m.\u001b[39mget_window_bounds(\n\u001b[1;32m    647\u001b[0m     num_values\u001b[38;5;241m=\u001b[39m\u001b[38;5;28mlen\u001b[39m(x),\n\u001b[1;32m    648\u001b[0m     min_periods\u001b[38;5;241m=\u001b[39mmin_periods,\n\u001b[0;32m   (...)\u001b[0m\n\u001b[1;32m    651\u001b[0m     step\u001b[38;5;241m=\u001b[39m\u001b[38;5;28mself\u001b[39m\u001b[38;5;241m.\u001b[39mstep,\n\u001b[1;32m    652\u001b[0m )\n\u001b[1;32m    653\u001b[0m \u001b[38;5;28mself\u001b[39m\u001b[38;5;241m.\u001b[39m_check_window_bounds(start, end, \u001b[38;5;28mlen\u001b[39m(x))\n\u001b[0;32m--> 655\u001b[0m \u001b[38;5;28;01mreturn\u001b[39;00m func(x, start, end, min_periods, \u001b[38;5;241m*\u001b[39mnumba_args)\n",
      "File \u001b[0;32m/Users/joekairouz/anaconda3/lib/python3.11/site-packages/pandas/core/window/rolling.py:1449\u001b[0m, in \u001b[0;36mRollingAndExpandingMixin._generate_cython_apply_func.<locals>.apply_func\u001b[0;34m(values, begin, end, min_periods, raw)\u001b[0m\n\u001b[1;32m   1446\u001b[0m \u001b[38;5;28;01mif\u001b[39;00m \u001b[38;5;129;01mnot\u001b[39;00m raw:\n\u001b[1;32m   1447\u001b[0m     \u001b[38;5;66;03m# GH 45912\u001b[39;00m\n\u001b[1;32m   1448\u001b[0m     values \u001b[38;5;241m=\u001b[39m Series(values, index\u001b[38;5;241m=\u001b[39m\u001b[38;5;28mself\u001b[39m\u001b[38;5;241m.\u001b[39m_on)\n\u001b[0;32m-> 1449\u001b[0m \u001b[38;5;28;01mreturn\u001b[39;00m window_func(values, begin, end, min_periods)\n",
      "File \u001b[0;32m/Users/joekairouz/anaconda3/lib/python3.11/site-packages/pandas/_libs/window/aggregations.pyx:1410\u001b[0m, in \u001b[0;36mpandas._libs.window.aggregations.roll_apply\u001b[0;34m()\u001b[0m\n",
      "Cell \u001b[0;32mIn[114], line 3\u001b[0m, in \u001b[0;36mols\u001b[0;34m(subset, df, industry)\u001b[0m\n\u001b[1;32m      1\u001b[0m \u001b[38;5;28;01mdef\u001b[39;00m \u001b[38;5;21mols\u001b[39m(subset, df, industry):\n\u001b[0;32m----> 3\u001b[0m         df_roll \u001b[38;5;241m=\u001b[39m df\u001b[38;5;241m.\u001b[39mloc[subset\u001b[38;5;241m.\u001b[39mindex, :]\n\u001b[1;32m      5\u001b[0m         \u001b[38;5;28;01mreturn\u001b[39;00m linregress(df_roll\u001b[38;5;241m.\u001b[39mloc[:,\u001b[38;5;124m\"\u001b[39m\u001b[38;5;124mMkt-RF\u001b[39m\u001b[38;5;124m\"\u001b[39m], df_roll\u001b[38;5;241m.\u001b[39mloc[:,industry])\u001b[38;5;241m.\u001b[39mslope\n",
      "File \u001b[0;32m/Users/joekairouz/anaconda3/lib/python3.11/site-packages/pandas/core/indexing.py:1067\u001b[0m, in \u001b[0;36m_LocationIndexer.__getitem__\u001b[0;34m(self, key)\u001b[0m\n\u001b[1;32m   1065\u001b[0m     \u001b[38;5;28;01mif\u001b[39;00m \u001b[38;5;28mself\u001b[39m\u001b[38;5;241m.\u001b[39m_is_scalar_access(key):\n\u001b[1;32m   1066\u001b[0m         \u001b[38;5;28;01mreturn\u001b[39;00m \u001b[38;5;28mself\u001b[39m\u001b[38;5;241m.\u001b[39mobj\u001b[38;5;241m.\u001b[39m_get_value(\u001b[38;5;241m*\u001b[39mkey, takeable\u001b[38;5;241m=\u001b[39m\u001b[38;5;28mself\u001b[39m\u001b[38;5;241m.\u001b[39m_takeable)\n\u001b[0;32m-> 1067\u001b[0m     \u001b[38;5;28;01mreturn\u001b[39;00m \u001b[38;5;28mself\u001b[39m\u001b[38;5;241m.\u001b[39m_getitem_tuple(key)\n\u001b[1;32m   1068\u001b[0m \u001b[38;5;28;01melse\u001b[39;00m:\n\u001b[1;32m   1069\u001b[0m     \u001b[38;5;66;03m# we by definition only have the 0th axis\u001b[39;00m\n\u001b[1;32m   1070\u001b[0m     axis \u001b[38;5;241m=\u001b[39m \u001b[38;5;28mself\u001b[39m\u001b[38;5;241m.\u001b[39maxis \u001b[38;5;129;01mor\u001b[39;00m \u001b[38;5;241m0\u001b[39m\n",
      "File \u001b[0;32m/Users/joekairouz/anaconda3/lib/python3.11/site-packages/pandas/core/indexing.py:1256\u001b[0m, in \u001b[0;36m_LocIndexer._getitem_tuple\u001b[0;34m(self, tup)\u001b[0m\n\u001b[1;32m   1253\u001b[0m \u001b[38;5;28;01mif\u001b[39;00m \u001b[38;5;28mself\u001b[39m\u001b[38;5;241m.\u001b[39m_multi_take_opportunity(tup):\n\u001b[1;32m   1254\u001b[0m     \u001b[38;5;28;01mreturn\u001b[39;00m \u001b[38;5;28mself\u001b[39m\u001b[38;5;241m.\u001b[39m_multi_take(tup)\n\u001b[0;32m-> 1256\u001b[0m \u001b[38;5;28;01mreturn\u001b[39;00m \u001b[38;5;28mself\u001b[39m\u001b[38;5;241m.\u001b[39m_getitem_tuple_same_dim(tup)\n",
      "File \u001b[0;32m/Users/joekairouz/anaconda3/lib/python3.11/site-packages/pandas/core/indexing.py:924\u001b[0m, in \u001b[0;36m_LocationIndexer._getitem_tuple_same_dim\u001b[0;34m(self, tup)\u001b[0m\n\u001b[1;32m    921\u001b[0m \u001b[38;5;28;01mif\u001b[39;00m com\u001b[38;5;241m.\u001b[39mis_null_slice(key):\n\u001b[1;32m    922\u001b[0m     \u001b[38;5;28;01mcontinue\u001b[39;00m\n\u001b[0;32m--> 924\u001b[0m retval \u001b[38;5;241m=\u001b[39m \u001b[38;5;28mgetattr\u001b[39m(retval, \u001b[38;5;28mself\u001b[39m\u001b[38;5;241m.\u001b[39mname)\u001b[38;5;241m.\u001b[39m_getitem_axis(key, axis\u001b[38;5;241m=\u001b[39mi)\n\u001b[1;32m    925\u001b[0m \u001b[38;5;66;03m# We should never have retval.ndim < self.ndim, as that should\u001b[39;00m\n\u001b[1;32m    926\u001b[0m \u001b[38;5;66;03m#  be handled by the _getitem_lowerdim call above.\u001b[39;00m\n\u001b[1;32m    927\u001b[0m \u001b[38;5;28;01massert\u001b[39;00m retval\u001b[38;5;241m.\u001b[39mndim \u001b[38;5;241m==\u001b[39m \u001b[38;5;28mself\u001b[39m\u001b[38;5;241m.\u001b[39mndim\n",
      "File \u001b[0;32m/Users/joekairouz/anaconda3/lib/python3.11/site-packages/pandas/core/indexing.py:1301\u001b[0m, in \u001b[0;36m_LocIndexer._getitem_axis\u001b[0;34m(self, key, axis)\u001b[0m\n\u001b[1;32m   1298\u001b[0m     \u001b[38;5;28;01mif\u001b[39;00m \u001b[38;5;28mhasattr\u001b[39m(key, \u001b[38;5;124m\"\u001b[39m\u001b[38;5;124mndim\u001b[39m\u001b[38;5;124m\"\u001b[39m) \u001b[38;5;129;01mand\u001b[39;00m key\u001b[38;5;241m.\u001b[39mndim \u001b[38;5;241m>\u001b[39m \u001b[38;5;241m1\u001b[39m:\n\u001b[1;32m   1299\u001b[0m         \u001b[38;5;28;01mraise\u001b[39;00m \u001b[38;5;167;01mValueError\u001b[39;00m(\u001b[38;5;124m\"\u001b[39m\u001b[38;5;124mCannot index with multidimensional key\u001b[39m\u001b[38;5;124m\"\u001b[39m)\n\u001b[0;32m-> 1301\u001b[0m     \u001b[38;5;28;01mreturn\u001b[39;00m \u001b[38;5;28mself\u001b[39m\u001b[38;5;241m.\u001b[39m_getitem_iterable(key, axis\u001b[38;5;241m=\u001b[39maxis)\n\u001b[1;32m   1303\u001b[0m \u001b[38;5;66;03m# nested tuple slicing\u001b[39;00m\n\u001b[1;32m   1304\u001b[0m \u001b[38;5;28;01mif\u001b[39;00m is_nested_tuple(key, labels):\n",
      "File \u001b[0;32m/Users/joekairouz/anaconda3/lib/python3.11/site-packages/pandas/core/indexing.py:1239\u001b[0m, in \u001b[0;36m_LocIndexer._getitem_iterable\u001b[0;34m(self, key, axis)\u001b[0m\n\u001b[1;32m   1236\u001b[0m \u001b[38;5;28mself\u001b[39m\u001b[38;5;241m.\u001b[39m_validate_key(key, axis)\n\u001b[1;32m   1238\u001b[0m \u001b[38;5;66;03m# A collection of keys\u001b[39;00m\n\u001b[0;32m-> 1239\u001b[0m keyarr, indexer \u001b[38;5;241m=\u001b[39m \u001b[38;5;28mself\u001b[39m\u001b[38;5;241m.\u001b[39m_get_listlike_indexer(key, axis)\n\u001b[1;32m   1240\u001b[0m \u001b[38;5;28;01mreturn\u001b[39;00m \u001b[38;5;28mself\u001b[39m\u001b[38;5;241m.\u001b[39mobj\u001b[38;5;241m.\u001b[39m_reindex_with_indexers(\n\u001b[1;32m   1241\u001b[0m     {axis: [keyarr, indexer]}, copy\u001b[38;5;241m=\u001b[39m\u001b[38;5;28;01mTrue\u001b[39;00m, allow_dups\u001b[38;5;241m=\u001b[39m\u001b[38;5;28;01mTrue\u001b[39;00m\n\u001b[1;32m   1242\u001b[0m )\n",
      "File \u001b[0;32m/Users/joekairouz/anaconda3/lib/python3.11/site-packages/pandas/core/indexing.py:1432\u001b[0m, in \u001b[0;36m_LocIndexer._get_listlike_indexer\u001b[0;34m(self, key, axis)\u001b[0m\n\u001b[1;32m   1429\u001b[0m ax \u001b[38;5;241m=\u001b[39m \u001b[38;5;28mself\u001b[39m\u001b[38;5;241m.\u001b[39mobj\u001b[38;5;241m.\u001b[39m_get_axis(axis)\n\u001b[1;32m   1430\u001b[0m axis_name \u001b[38;5;241m=\u001b[39m \u001b[38;5;28mself\u001b[39m\u001b[38;5;241m.\u001b[39mobj\u001b[38;5;241m.\u001b[39m_get_axis_name(axis)\n\u001b[0;32m-> 1432\u001b[0m keyarr, indexer \u001b[38;5;241m=\u001b[39m ax\u001b[38;5;241m.\u001b[39m_get_indexer_strict(key, axis_name)\n\u001b[1;32m   1434\u001b[0m \u001b[38;5;28;01mreturn\u001b[39;00m keyarr, indexer\n",
      "File \u001b[0;32m/Users/joekairouz/anaconda3/lib/python3.11/site-packages/pandas/core/indexes/base.py:6065\u001b[0m, in \u001b[0;36mIndex._get_indexer_strict\u001b[0;34m(self, key, axis_name)\u001b[0m\n\u001b[1;32m   6062\u001b[0m     keyarr \u001b[38;5;241m=\u001b[39m com\u001b[38;5;241m.\u001b[39masarray_tuplesafe(keyarr)\n\u001b[1;32m   6064\u001b[0m \u001b[38;5;28;01mif\u001b[39;00m \u001b[38;5;28mself\u001b[39m\u001b[38;5;241m.\u001b[39m_index_as_unique:\n\u001b[0;32m-> 6065\u001b[0m     indexer \u001b[38;5;241m=\u001b[39m \u001b[38;5;28mself\u001b[39m\u001b[38;5;241m.\u001b[39mget_indexer_for(keyarr)\n\u001b[1;32m   6066\u001b[0m     keyarr \u001b[38;5;241m=\u001b[39m \u001b[38;5;28mself\u001b[39m\u001b[38;5;241m.\u001b[39mreindex(keyarr)[\u001b[38;5;241m0\u001b[39m]\n\u001b[1;32m   6067\u001b[0m \u001b[38;5;28;01melse\u001b[39;00m:\n",
      "File \u001b[0;32m/Users/joekairouz/anaconda3/lib/python3.11/site-packages/pandas/core/indexes/base.py:6052\u001b[0m, in \u001b[0;36mIndex.get_indexer_for\u001b[0;34m(self, target)\u001b[0m\n\u001b[1;32m   6034\u001b[0m \u001b[38;5;250m\u001b[39m\u001b[38;5;124;03m\"\"\"\u001b[39;00m\n\u001b[1;32m   6035\u001b[0m \u001b[38;5;124;03mGuaranteed return of an indexer even when non-unique.\u001b[39;00m\n\u001b[1;32m   6036\u001b[0m \n\u001b[0;32m   (...)\u001b[0m\n\u001b[1;32m   6049\u001b[0m \u001b[38;5;124;03marray([0, 2])\u001b[39;00m\n\u001b[1;32m   6050\u001b[0m \u001b[38;5;124;03m\"\"\"\u001b[39;00m\n\u001b[1;32m   6051\u001b[0m \u001b[38;5;28;01mif\u001b[39;00m \u001b[38;5;28mself\u001b[39m\u001b[38;5;241m.\u001b[39m_index_as_unique:\n\u001b[0;32m-> 6052\u001b[0m     \u001b[38;5;28;01mreturn\u001b[39;00m \u001b[38;5;28mself\u001b[39m\u001b[38;5;241m.\u001b[39mget_indexer(target)\n\u001b[1;32m   6053\u001b[0m indexer, _ \u001b[38;5;241m=\u001b[39m \u001b[38;5;28mself\u001b[39m\u001b[38;5;241m.\u001b[39mget_indexer_non_unique(target)\n\u001b[1;32m   6054\u001b[0m \u001b[38;5;28;01mreturn\u001b[39;00m indexer\n",
      "File \u001b[0;32m/Users/joekairouz/anaconda3/lib/python3.11/site-packages/pandas/core/indexes/base.py:3909\u001b[0m, in \u001b[0;36mIndex.get_indexer\u001b[0;34m(self, target, method, limit, tolerance)\u001b[0m\n\u001b[1;32m   3906\u001b[0m \u001b[38;5;28;01mif\u001b[39;00m \u001b[38;5;28mlen\u001b[39m(target) \u001b[38;5;241m==\u001b[39m \u001b[38;5;241m0\u001b[39m:\n\u001b[1;32m   3907\u001b[0m     \u001b[38;5;28;01mreturn\u001b[39;00m np\u001b[38;5;241m.\u001b[39marray([], dtype\u001b[38;5;241m=\u001b[39mnp\u001b[38;5;241m.\u001b[39mintp)\n\u001b[0;32m-> 3909\u001b[0m \u001b[38;5;28;01mif\u001b[39;00m \u001b[38;5;129;01mnot\u001b[39;00m \u001b[38;5;28mself\u001b[39m\u001b[38;5;241m.\u001b[39m_should_compare(target) \u001b[38;5;129;01mand\u001b[39;00m \u001b[38;5;129;01mnot\u001b[39;00m \u001b[38;5;28mself\u001b[39m\u001b[38;5;241m.\u001b[39m_should_partial_index(target):\n\u001b[1;32m   3910\u001b[0m     \u001b[38;5;66;03m# IntervalIndex get special treatment bc numeric scalars can be\u001b[39;00m\n\u001b[1;32m   3911\u001b[0m     \u001b[38;5;66;03m#  matched to Interval scalars\u001b[39;00m\n\u001b[1;32m   3912\u001b[0m     \u001b[38;5;28;01mreturn\u001b[39;00m \u001b[38;5;28mself\u001b[39m\u001b[38;5;241m.\u001b[39m_get_indexer_non_comparable(target, method\u001b[38;5;241m=\u001b[39mmethod, unique\u001b[38;5;241m=\u001b[39m\u001b[38;5;28;01mTrue\u001b[39;00m)\n\u001b[1;32m   3914\u001b[0m \u001b[38;5;28;01mif\u001b[39;00m is_categorical_dtype(\u001b[38;5;28mself\u001b[39m\u001b[38;5;241m.\u001b[39mdtype):\n\u001b[1;32m   3915\u001b[0m     \u001b[38;5;66;03m# _maybe_cast_listlike_indexer ensures target has our dtype\u001b[39;00m\n\u001b[1;32m   3916\u001b[0m     \u001b[38;5;66;03m#  (could improve perf by doing _should_compare check earlier?)\u001b[39;00m\n",
      "File \u001b[0;32m/Users/joekairouz/anaconda3/lib/python3.11/site-packages/pandas/core/indexes/base.py:6299\u001b[0m, in \u001b[0;36mIndex._should_compare\u001b[0;34m(self, other)\u001b[0m\n\u001b[1;32m   6291\u001b[0m \u001b[38;5;28;01mif\u001b[39;00m (other\u001b[38;5;241m.\u001b[39mis_boolean() \u001b[38;5;129;01mand\u001b[39;00m \u001b[38;5;28mself\u001b[39m\u001b[38;5;241m.\u001b[39mis_numeric()) \u001b[38;5;129;01mor\u001b[39;00m (\n\u001b[1;32m   6292\u001b[0m     \u001b[38;5;28mself\u001b[39m\u001b[38;5;241m.\u001b[39mis_boolean() \u001b[38;5;129;01mand\u001b[39;00m other\u001b[38;5;241m.\u001b[39mis_numeric()\n\u001b[1;32m   6293\u001b[0m ):\n\u001b[1;32m   6294\u001b[0m     \u001b[38;5;66;03m# GH#16877 Treat boolean labels passed to a numeric index as not\u001b[39;00m\n\u001b[1;32m   6295\u001b[0m     \u001b[38;5;66;03m#  found. Without this fix False and True would be treated as 0 and 1\u001b[39;00m\n\u001b[1;32m   6296\u001b[0m     \u001b[38;5;66;03m#  respectively.\u001b[39;00m\n\u001b[1;32m   6297\u001b[0m     \u001b[38;5;28;01mreturn\u001b[39;00m \u001b[38;5;28;01mFalse\u001b[39;00m\n\u001b[0;32m-> 6299\u001b[0m other \u001b[38;5;241m=\u001b[39m unpack_nested_dtype(other)\n\u001b[1;32m   6300\u001b[0m dtype \u001b[38;5;241m=\u001b[39m other\u001b[38;5;241m.\u001b[39mdtype\n\u001b[1;32m   6301\u001b[0m \u001b[38;5;28;01mreturn\u001b[39;00m \u001b[38;5;28mself\u001b[39m\u001b[38;5;241m.\u001b[39m_is_comparable_dtype(dtype) \u001b[38;5;129;01mor\u001b[39;00m is_object_dtype(dtype)\n",
      "File \u001b[0;32m/Users/joekairouz/anaconda3/lib/python3.11/site-packages/pandas/core/indexes/base.py:7470\u001b[0m, in \u001b[0;36munpack_nested_dtype\u001b[0;34m(other)\u001b[0m\n\u001b[1;32m   7457\u001b[0m \u001b[38;5;250m\u001b[39m\u001b[38;5;124;03m\"\"\"\u001b[39;00m\n\u001b[1;32m   7458\u001b[0m \u001b[38;5;124;03mWhen checking if our dtype is comparable with another, we need\u001b[39;00m\n\u001b[1;32m   7459\u001b[0m \u001b[38;5;124;03mto unpack CategoricalDtype to look at its categories.dtype.\u001b[39;00m\n\u001b[0;32m   (...)\u001b[0m\n\u001b[1;32m   7467\u001b[0m \u001b[38;5;124;03mIndex\u001b[39;00m\n\u001b[1;32m   7468\u001b[0m \u001b[38;5;124;03m\"\"\"\u001b[39;00m\n\u001b[1;32m   7469\u001b[0m dtype \u001b[38;5;241m=\u001b[39m other\u001b[38;5;241m.\u001b[39mdtype\n\u001b[0;32m-> 7470\u001b[0m \u001b[38;5;28;01mif\u001b[39;00m is_categorical_dtype(dtype):\n\u001b[1;32m   7471\u001b[0m     \u001b[38;5;66;03m# If there is ever a SparseIndex, this could get dispatched\u001b[39;00m\n\u001b[1;32m   7472\u001b[0m     \u001b[38;5;66;03m#  here too.\u001b[39;00m\n\u001b[1;32m   7473\u001b[0m     \u001b[38;5;66;03m# error: Item  \"dtype[Any]\"/\"ExtensionDtype\" of \"Union[dtype[Any],\u001b[39;00m\n\u001b[1;32m   7474\u001b[0m     \u001b[38;5;66;03m# ExtensionDtype]\" has no attribute \"categories\"\u001b[39;00m\n\u001b[1;32m   7475\u001b[0m     \u001b[38;5;28;01mreturn\u001b[39;00m dtype\u001b[38;5;241m.\u001b[39mcategories  \u001b[38;5;66;03m# type: ignore[union-attr]\u001b[39;00m\n\u001b[1;32m   7476\u001b[0m \u001b[38;5;28;01mreturn\u001b[39;00m other\n",
      "File \u001b[0;32m/Users/joekairouz/anaconda3/lib/python3.11/site-packages/pandas/core/dtypes/common.py:534\u001b[0m, in \u001b[0;36mis_categorical_dtype\u001b[0;34m(arr_or_dtype)\u001b[0m\n\u001b[1;32m    532\u001b[0m \u001b[38;5;28;01mif\u001b[39;00m arr_or_dtype \u001b[38;5;129;01mis\u001b[39;00m \u001b[38;5;28;01mNone\u001b[39;00m:\n\u001b[1;32m    533\u001b[0m     \u001b[38;5;28;01mreturn\u001b[39;00m \u001b[38;5;28;01mFalse\u001b[39;00m\n\u001b[0;32m--> 534\u001b[0m \u001b[38;5;28;01mreturn\u001b[39;00m CategoricalDtype\u001b[38;5;241m.\u001b[39mis_dtype(arr_or_dtype)\n",
      "File \u001b[0;32m/Users/joekairouz/anaconda3/lib/python3.11/site-packages/pandas/core/dtypes/base.py:312\u001b[0m, in \u001b[0;36mExtensionDtype.is_dtype\u001b[0;34m(cls, dtype)\u001b[0m\n\u001b[1;32m    288\u001b[0m \u001b[38;5;250m\u001b[39m\u001b[38;5;124;03m\"\"\"\u001b[39;00m\n\u001b[1;32m    289\u001b[0m \u001b[38;5;124;03mCheck if we match 'dtype'.\u001b[39;00m\n\u001b[1;32m    290\u001b[0m \n\u001b[0;32m   (...)\u001b[0m\n\u001b[1;32m    308\u001b[0m \u001b[38;5;124;03m   conditions is true for ``dtype.dtype``.\u001b[39;00m\n\u001b[1;32m    309\u001b[0m \u001b[38;5;124;03m\"\"\"\u001b[39;00m\n\u001b[1;32m    310\u001b[0m dtype \u001b[38;5;241m=\u001b[39m \u001b[38;5;28mgetattr\u001b[39m(dtype, \u001b[38;5;124m\"\u001b[39m\u001b[38;5;124mdtype\u001b[39m\u001b[38;5;124m\"\u001b[39m, dtype)\n\u001b[0;32m--> 312\u001b[0m \u001b[38;5;28;01mif\u001b[39;00m \u001b[38;5;28misinstance\u001b[39m(dtype, (ABCSeries, ABCIndex, ABCDataFrame, np\u001b[38;5;241m.\u001b[39mdtype)):\n\u001b[1;32m    313\u001b[0m     \u001b[38;5;66;03m# https://github.com/pandas-dev/pandas/issues/22960\u001b[39;00m\n\u001b[1;32m    314\u001b[0m     \u001b[38;5;66;03m# avoid passing data to `construct_from_string`. This could\u001b[39;00m\n\u001b[1;32m    315\u001b[0m     \u001b[38;5;66;03m# cause a FutureWarning from numpy about failing elementwise\u001b[39;00m\n\u001b[1;32m    316\u001b[0m     \u001b[38;5;66;03m# comparison from, e.g., comparing DataFrame == 'category'.\u001b[39;00m\n\u001b[1;32m    317\u001b[0m     \u001b[38;5;28;01mreturn\u001b[39;00m \u001b[38;5;28;01mFalse\u001b[39;00m\n\u001b[1;32m    318\u001b[0m \u001b[38;5;28;01melif\u001b[39;00m dtype \u001b[38;5;129;01mis\u001b[39;00m \u001b[38;5;28;01mNone\u001b[39;00m:\n",
      "File \u001b[0;32m/Users/joekairouz/anaconda3/lib/python3.11/site-packages/pandas/core/dtypes/generic.py:45\u001b[0m, in \u001b[0;36mcreate_pandas_abc_type.<locals>._instancecheck\u001b[0;34m(cls, inst)\u001b[0m\n\u001b[1;32m     41\u001b[0m     \u001b[38;5;28;01mreturn\u001b[39;00m \u001b[38;5;28mgetattr\u001b[39m(inst, attr, \u001b[38;5;124m\"\u001b[39m\u001b[38;5;124m_typ\u001b[39m\u001b[38;5;124m\"\u001b[39m) \u001b[38;5;129;01min\u001b[39;00m comp\n\u001b[1;32m     43\u001b[0m \u001b[38;5;66;03m# https://github.com/python/mypy/issues/1006\u001b[39;00m\n\u001b[1;32m     44\u001b[0m \u001b[38;5;66;03m# error: 'classmethod' used with a non-method\u001b[39;00m\n\u001b[0;32m---> 45\u001b[0m \u001b[38;5;129m@classmethod\u001b[39m  \u001b[38;5;66;03m# type: ignore[misc]\u001b[39;00m\n\u001b[1;32m     46\u001b[0m \u001b[38;5;28;01mdef\u001b[39;00m \u001b[38;5;21m_instancecheck\u001b[39m(\u001b[38;5;28mcls\u001b[39m, inst) \u001b[38;5;241m-\u001b[39m\u001b[38;5;241m>\u001b[39m \u001b[38;5;28mbool\u001b[39m:\n\u001b[1;32m     47\u001b[0m     \u001b[38;5;28;01mreturn\u001b[39;00m _check(inst) \u001b[38;5;129;01mand\u001b[39;00m \u001b[38;5;129;01mnot\u001b[39;00m \u001b[38;5;28misinstance\u001b[39m(inst, \u001b[38;5;28mtype\u001b[39m)\n\u001b[1;32m     49\u001b[0m \u001b[38;5;129m@classmethod\u001b[39m  \u001b[38;5;66;03m# type: ignore[misc]\u001b[39;00m\n\u001b[1;32m     50\u001b[0m \u001b[38;5;28;01mdef\u001b[39;00m \u001b[38;5;21m_subclasscheck\u001b[39m(\u001b[38;5;28mcls\u001b[39m, inst) \u001b[38;5;241m-\u001b[39m\u001b[38;5;241m>\u001b[39m \u001b[38;5;28mbool\u001b[39m:\n\u001b[1;32m     51\u001b[0m     \u001b[38;5;66;03m# Raise instead of returning False\u001b[39;00m\n\u001b[1;32m     52\u001b[0m     \u001b[38;5;66;03m# This is consistent with default __subclasscheck__ behavior\u001b[39;00m\n",
      "\u001b[0;31mKeyboardInterrupt\u001b[0m: "
     ]
    }
   ],
   "source": [
    "betas = pd.DataFrame(index=df_daily.index, columns=df_daily.columns)\n",
    "\n",
    "for industry, industry_timeseries in tqdm(df_daily.items()):\n",
    "    \n",
    "    temp_df = pd.concat([(industry_timeseries - ff.loc[:, \"RF\"]), ff.loc[:, \"Mkt-RF\"]], axis=1)\n",
    "    temp_df.columns =[industry, \"Mkt-RF\"]\n",
    "    betas.loc[:, industry] = temp_df[\"Mkt-RF\"].rolling(12).apply(ols, args = (temp_df, industry))\n"
   ]
  },
  {
   "cell_type": "code",
   "execution_count": null,
   "id": "0458a4af",
   "metadata": {},
   "outputs": [],
   "source": [
    "# resample to select end of month data and then convert the index to start of month data\n",
    "betas = betas.resample(\"M\").last().resample(\"MS\").last()"
   ]
  },
  {
   "cell_type": "code",
   "execution_count": null,
   "id": "5f3c07a6",
   "metadata": {},
   "outputs": [
    {
     "name": "stderr",
     "output_type": "stream",
     "text": [
      "48it [00:36,  1.31it/s]\n"
     ]
    }
   ],
   "source": [
    "indices = pd.date_range(\"1927-06-01\", \"2024-12-31\", freq = \"M\")\n",
    "betas = pd.DataFrame(index=indices, columns=df_daily.columns)\n",
    "\n",
    "for industry, industry_timeseries in tqdm(df_daily.items()):\n",
    "    for date in indices:\n",
    "        \n",
    "        # start and end date\n",
    "        # we take last year of data (remove 1 day since it includes last day of a month we don't want)\n",
    "        start = date - pd.DateOffset(months = 12) + pd.Timedelta(days = 1)\n",
    "        end = date\n",
    "        \n",
    "        X = ff.loc[start:end,[\"Mkt-RF\"]]\n",
    "        y = industry_timeseries.loc[start:end] - ff.loc[start:end, \"RF\"]\n",
    "        \n",
    "        try:\n",
    "            beta = LinearRegression(fit_intercept=True).fit(X, y).coef_[0]\n",
    "        except ValueError:\n",
    "            beta = np.nan\n",
    "        \n",
    "        betas.loc[end, industry] = beta\n",
    "\n",
    "        \n",
    "# convert the month ends to starts of months\n",
    "betas = betas.resample(\"MS\").last()"
   ]
  },
  {
   "cell_type": "markdown",
   "id": "8d7f0243",
   "metadata": {},
   "source": [
    "## 3.3 Idiosyncratic Risk"
   ]
  },
  {
   "cell_type": "code",
   "execution_count": 240,
   "id": "c5e5f27e",
   "metadata": {},
   "outputs": [
    {
     "name": "stderr",
     "output_type": "stream",
     "text": [
      "100%|███████████████████████████████████████| 1182/1182 [00:40<00:00, 29.22it/s]\n"
     ]
    }
   ],
   "source": [
    "# Get unique year-month pairs\n",
    "monthly_periods = df_daily.resample('MS').mean().index\n",
    "\n",
    "risk = pd.DataFrame(index=indices, columns=df_daily.columns)\n",
    "\n",
    "for date in tqdm(monthly_periods):\n",
    "    # Filter data for the entire month\n",
    "    mask = (df_daily.index.year == date.year) & (df_daily.index.month == date.month)\n",
    "    ret_data = df_daily[mask]\n",
    "    factors_data = ff[mask]\n",
    "\n",
    "    # Ensure aligned data\n",
    "    aligned_data = ret_data.join(factors_data, how='inner').dropna()\n",
    "\n",
    "    for industry, industry_timeseries in ret_data.items():\n",
    "\n",
    "            X = aligned_data.loc[:,[\"Mkt-RF\", \"SMB\", \"HML\"]]\n",
    "            y = industry_timeseries - aligned_data.loc[:, \"RF\"]\n",
    "            \n",
    "            try:\n",
    "                reg = LinearRegression(fit_intercept=True).fit(X, y)\n",
    "                resid = y - reg.predict(X)\n",
    "            except ValueError:\n",
    "                resid = np.nan\n",
    "            risk.loc[date, industry] = np.std(resid)\n",
    "            "
   ]
  },
  {
   "cell_type": "markdown",
   "id": "6275bf3a",
   "metadata": {},
   "source": [
    "## 3.4 Long-Short Portfolios"
   ]
  },
  {
   "cell_type": "code",
   "execution_count": 241,
   "id": "50e99dfe",
   "metadata": {},
   "outputs": [],
   "source": [
    "def position(df, upper_cutoff, lower_cutoff):\n",
    "    df_pos = df.rank(axis = 1)\n",
    "    df_pos[df_pos <= lower_cutoff] = 1\n",
    "    df_pos[df_pos >= upper_cutoff] = -1\n",
    "    df_pos[(df_pos <= upper_cutoff) & (df_pos >= lower_cutoff)] = 0\n",
    "    \n",
    "    return df_pos"
   ]
  },
  {
   "cell_type": "code",
   "execution_count": 242,
   "id": "e847228c",
   "metadata": {},
   "outputs": [],
   "source": [
    "# long-short portfolio positions\n",
    "pos_mkt_cap = position(mkt_cap, len(mkt_cap) - 5, 5)\n",
    "pos_be_over_me = position(be_over_me, len(mkt_cap) - 5, 5)\n",
    "pos_mom = position(momentum, len(mkt_cap) - 5, 5)\n",
    "pos_betas = position(betas, len(mkt_cap) - 5, 5)\n",
    "pos_risks = position(risk, len(mkt_cap) - 5, 5)"
   ]
  },
  {
   "cell_type": "code",
   "execution_count": 252,
   "id": "f159bd67",
   "metadata": {},
   "outputs": [],
   "source": [
    "def equal_weight_rets(df, position, n_longs):\n",
    "    \n",
    "    performance = ((df * position) / n_longs).sum(axis = 1)\n",
    "    return performance\n",
    "\n",
    "\n",
    "def performance_measure(rets, rf):\n",
    "    avg_ret = rets.mean()\n",
    "    sharpe = (rets.mean() - rf)/ rets.std()\n",
    "    ALPHA NEEDED\n",
    "    return (avg_ret, sharpe)"
   ]
  },
  {
   "cell_type": "code",
   "execution_count": 250,
   "id": "17d3134a",
   "metadata": {},
   "outputs": [],
   "source": [
    "rets = equal_weight_rets(df, pos_mkt_cap, 5)"
   ]
  },
  {
   "cell_type": "code",
   "execution_count": 256,
   "id": "0e10c3c4",
   "metadata": {},
   "outputs": [
    {
     "data": {
      "text/plain": [
       "(0.012563384094754652, 0.14497092146645713)"
      ]
     },
     "execution_count": 256,
     "metadata": {},
     "output_type": "execute_result"
    }
   ],
   "source": [
    "performance_measure(rets, ff.loc[:, \"RF\"].mean())"
   ]
  },
  {
   "cell_type": "code",
   "execution_count": 257,
   "id": "f6c4d307",
   "metadata": {},
   "outputs": [],
   "source": [
    "rets = equal_weight_rets(df, pos_be_over_me, 5)"
   ]
  },
  {
   "cell_type": "code",
   "execution_count": 258,
   "id": "82c59751",
   "metadata": {},
   "outputs": [
    {
     "data": {
      "text/plain": [
       "(0.00920979695431472, 0.15877517034817096)"
      ]
     },
     "execution_count": 258,
     "metadata": {},
     "output_type": "execute_result"
    }
   ],
   "source": [
    "performance_measure(rets, ff.loc[:, \"RF\"].mean())"
   ]
  },
  {
   "cell_type": "code",
   "execution_count": null,
   "id": "f9b35516",
   "metadata": {},
   "outputs": [],
   "source": []
  }
 ],
 "metadata": {
  "kernelspec": {
   "display_name": "Python 3 (ipykernel)",
   "language": "python",
   "name": "python3"
  },
  "language_info": {
   "codemirror_mode": {
    "name": "ipython",
    "version": 3
   },
   "file_extension": ".py",
   "mimetype": "text/x-python",
   "name": "python",
   "nbconvert_exporter": "python",
   "pygments_lexer": "ipython3",
   "version": "3.11.3"
  }
 },
 "nbformat": 4,
 "nbformat_minor": 5
}
