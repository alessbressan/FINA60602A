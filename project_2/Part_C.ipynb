{
 "cells": [
  {
   "cell_type": "markdown",
   "metadata": {},
   "source": [
    "# Import Dependencies"
   ]
  },
  {
   "cell_type": "code",
   "execution_count": 129,
   "metadata": {},
   "outputs": [],
   "source": [
    "import pandas as pd\n",
    "import numpy as np\n",
    "from scipy.optimize import minimize\n",
    "\n",
    "from matplotlib import pyplot as plt\n",
    "\n",
    "from pathlib import Path\n",
    "from tqdm import tqdm\n",
    "\n",
    "import warnings\n",
    "\n",
    "warnings.filterwarnings('ignore')"
   ]
  },
  {
   "cell_type": "markdown",
   "metadata": {},
   "source": [
    "# Load Data"
   ]
  },
  {
   "cell_type": "code",
   "execution_count": 130,
   "metadata": {},
   "outputs": [],
   "source": [
    "# load 4 dataframes (returns, nb industries, avg firm size, Sum of BE / Sum of ME)\n",
    "df = pd.read_csv(str(Path().absolute()) + \"/data/48_Industry_Portfolios.CSV\") \n",
    "\n",
    "# split these dataframes\n",
    "df_list = np.split(df, df[df.isnull().all(1)].index, axis = 0) \n",
    "\n",
    "# clean data and convert date column to index\n",
    "for i in range(len(df_list)):\n",
    "    df_list[i] = pd.DataFrame(df_list[i])  \n",
    "    df_list[i] = df_list[i].dropna()  \n",
    "    df_list[i].loc[:, \"Date\"] = df_list[i].loc[:, \"Date\"].astype(\"int\")  \n",
    "    df_list[i] = df_list[i].set_index(\"Date\")  \n",
    "    \n",
    "    # last data frame has yearly data\n",
    "    if i == (len(df_list) - 1): \n",
    "        df_list[i].index = pd.to_datetime(df_list[i].index, format = \"%Y\")\n",
    "        df_list[i].index = df_list[i].index + pd.DateOffset(months = 6)\n",
    "    else:\n",
    "        df_list[i].index = pd.to_datetime(df_list[i].index, format = \"%Y%m\")\n",
    "\n",
    "# create a dataframe of excess returns, nb of industries and avg sizes\n",
    "df = df_list[0] / 100\n",
    "mask = (df <= -0.99)\n",
    "df[mask] = np.nan\n",
    "\n",
    "nb_industries = df_list[1]\n",
    "nb_industries[mask] = np.nan\n",
    "\n",
    "avg_size = df_list[2]\n",
    "avg_size[mask] = np.nan\n",
    "\n",
    "be_over_me = df_list[3]\n",
    "be_over_me[mask] = np.nan"
   ]
  },
  {
   "cell_type": "code",
   "execution_count": 131,
   "metadata": {},
   "outputs": [
    {
     "name": "stdout",
     "output_type": "stream",
     "text": [
      "(1182, 48)\n",
      "(1177, 48)\n",
      "(1182, 48)\n"
     ]
    }
   ],
   "source": [
    "# market cap of each industry over time\n",
    "mkt_cap = nb_industries * avg_size\n",
    "print(mkt_cap.shape)\n",
    "\n",
    "# book value to market value\n",
    "be_over_me = be_over_me.resample(\"1MS\").ffill()\n",
    "print(be_over_me.shape)\n",
    "\n",
    "# momentum with monthly data\n",
    "momentum = df.rolling(12).mean()\n",
    "print(momentum.shape)"
   ]
  },
  {
   "cell_type": "markdown",
   "metadata": {},
   "source": [
    "# Normalize Data"
   ]
  },
  {
   "cell_type": "code",
   "execution_count": 132,
   "metadata": {},
   "outputs": [
    {
     "name": "stdout",
     "output_type": "stream",
     "text": [
      "(559, 48)\n",
      "(559, 48)\n",
      "(559, 48)\n"
     ]
    }
   ],
   "source": [
    "mkt_cap_ = mkt_cap.loc['1927-06-01':'1973-12-01']\n",
    "mkt_cap_norm = (mkt_cap_ - mkt_cap_.mean()) / mkt_cap_.std()\n",
    "print(mkt_cap_norm.shape)\n",
    "\n",
    "be_over_me_ = be_over_me.loc['1927-06-01':'1973-12-01']\n",
    "be_over_me_norm = (be_over_me_ - be_over_me_.mean()) / be_over_me_.std()\n",
    "print(be_over_me_norm.shape)\n",
    "\n",
    "momentum_ = momentum.loc['1927-06-01':'1973-12-01']\n",
    "momentum_norm = (momentum_ - momentum_.mean()) / momentum_.std()\n",
    "print(momentum_norm.shape)"
   ]
  },
  {
   "cell_type": "code",
   "execution_count": 133,
   "metadata": {},
   "outputs": [],
   "source": [
    "def CRRA(wealth, gamma= 5):\n",
    "    \"\"\"\"Constant Relative Risk Aversion Utility Function\"\"\"\n",
    "\n",
    "    if gamma == 1:\n",
    "        return np.log(wealth)\n",
    "    else:\n",
    "        return ((1 + wealth) ** (1 - gamma)) / (1 - gamma)\n"
   ]
  },
  {
   "cell_type": "code",
   "execution_count": 134,
   "metadata": {},
   "outputs": [
    {
     "data": {
      "text/plain": [
       "Agric    0.000859\n",
       "Food     0.007388\n",
       "Soda     0.006012\n",
       "Beer     0.005945\n",
       "Smoke    0.005225\n",
       "Toys     0.000644\n",
       "Fun      0.010471\n",
       "Books    0.000555\n",
       "Hshld    0.012793\n",
       "Clths    0.004255\n",
       "Hlth     0.005851\n",
       "MedEq    0.019788\n",
       "Drugs    0.053875\n",
       "Chems    0.008270\n",
       "Rubbr    0.001124\n",
       "Txtls    0.000225\n",
       "BldMt    0.005606\n",
       "Cnstr    0.007072\n",
       "Steel    0.002262\n",
       "FabPr    0.000234\n",
       "Mach     0.022131\n",
       "ElcEq    0.002505\n",
       "Autos    0.023701\n",
       "Aero     0.009449\n",
       "Ships    0.000854\n",
       "Guns     0.003317\n",
       "Gold     0.000960\n",
       "Mines    0.004196\n",
       "Coal     0.000311\n",
       "Oil      0.028253\n",
       "Util     0.027976\n",
       "Telcm    0.020845\n",
       "PerSv    0.003352\n",
       "BusSv    0.210573\n",
       "Comps    0.013879\n",
       "Chips    0.161610\n",
       "LabEq    0.015992\n",
       "Paper    0.001822\n",
       "Boxes    0.001378\n",
       "Trans    0.019526\n",
       "Whlsl    0.011183\n",
       "Rtail    0.085470\n",
       "Meals    0.014186\n",
       "Banks    0.059413\n",
       "Insur    0.034341\n",
       "RlEst    0.001590\n",
       "Fin      0.033877\n",
       "Other    0.028863\n",
       "Name: 2024-12-01 00:00:00, dtype: float64"
      ]
     },
     "execution_count": 134,
     "metadata": {},
     "output_type": "execute_result"
    }
   ],
   "source": [
    "characteristics = np.stack([mkt_cap_norm, be_over_me_norm, momentum_norm], axis= -1)\n",
    "weights = mkt_cap.iloc[-1]/ mkt_cap.iloc[-1].sum()\n",
    "theta = np.array([-1.451, 3.606, 1.772])\n",
    "\n",
    "weights"
   ]
  },
  {
   "cell_type": "markdown",
   "metadata": {},
   "source": [
    "# Optimization"
   ]
  },
  {
   "cell_type": "code",
   "execution_count": 135,
   "metadata": {},
   "outputs": [],
   "source": [
    "def objective(theta:np.ndarray, x:np.ndarray, rets:pd.DataFrame, weights:np.ndarray):\n",
    "    accrued_wealth = 0\n",
    "    wealth = 0\n",
    "    for t in range(x.shape[0]):\n",
    "        rets_valid = ~pd.isna(rets.iloc[t+1, :])\n",
    "        x_valid = ~np.isnan(x[t, :, :]).any(axis=1)\n",
    "        Nt = np.sum(rets_valid & x_valid)\n",
    "        \n",
    "        for i in range(x.shape[1]):\n",
    "            if (np.isnan(rets.iloc[t+1,i])) or (np.isnan(x[t,i,:]).any()):\n",
    "                continue\n",
    "            wealth += (weights[i] + theta.T @ x[t,i,:] / Nt) * rets.iloc[t+1,i]\n",
    "            # print(wealth)\n",
    "        accrued_wealth += CRRA(wealth)\n",
    "    \n",
    "    return - accrued_wealth / x.shape[0]"
   ]
  },
  {
   "cell_type": "code",
   "execution_count": null,
   "metadata": {},
   "outputs": [
    {
     "data": {
      "text/plain": [
       "  message: Optimization terminated successfully.\n",
       "  success: True\n",
       "   status: 0\n",
       "      fun: 6.504109459241201e-06\n",
       "        x: [-1.398e+01  4.366e+01  2.770e+01]\n",
       "      nit: 31\n",
       "      jac: [ 5.162e-07 -4.060e-06  5.777e-06]\n",
       " hess_inv: [[ 6.213e+05 -1.991e+06 -1.280e+06]\n",
       "            [-1.991e+06  6.377e+06  4.101e+06]\n",
       "            [-1.280e+06  4.101e+06  2.637e+06]]\n",
       "     nfev: 132\n",
       "     njev: 33"
      ]
     },
     "execution_count": 136,
     "metadata": {},
     "output_type": "execute_result"
    }
   ],
   "source": [
    "init = np.array([-1.398e+01,  4.366e+01, 2.770e+01]) # local solution found\n",
    "# init = theta\n",
    "response = minimize(objective, x0= theta, args= (characteristics, df, weights), method= 'BFGS')\n",
    "response"
   ]
  },
  {
   "cell_type": "code",
   "execution_count": 140,
   "metadata": {},
   "outputs": [
    {
     "data": {
      "text/plain": [
       "array([  -7.43295351,  -78.70498608, -124.1852141 , -114.44349746,\n",
       "        -97.09178763,  -83.28462328, -119.73117457,  -99.03899836,\n",
       "       -135.01640578,  -71.39234625,   91.55039204, -135.79557445,\n",
       "       -119.14988839,  -11.18843037,  -77.70046803,  -70.2644453 ,\n",
       "        -47.89964353,  -89.1861542 ,    5.86978088,  -73.95500159,\n",
       "        -65.09968707,  -62.66455164,  -37.67263137,   -5.77306234,\n",
       "        -10.1226922 ,   56.98460499,   21.06145894,  -16.79258927,\n",
       "        -33.99018355,  -58.70978341,  -47.94499223,  -25.32861034,\n",
       "        -90.16855713, -110.41425179,  -97.73546587,  -60.89517008,\n",
       "        -61.49691113,  -36.29734226,  -91.25652982,  -68.31459505,\n",
       "        -98.63052302, -104.07855996, -137.11044951, -100.39579063,\n",
       "        -78.98779083,  -97.56633802, -130.54605147, -215.85639281])"
      ]
     },
     "execution_count": 140,
     "metadata": {},
     "output_type": "execute_result"
    }
   ],
   "source": [
    "next_w = np.zeros(weights.shape)\n",
    "for i in range(len(weights)):\n",
    "    next_w[i] = weights[i] + response.x @ characteristics[-1,i,:]\n",
    "\n",
    "next_w"
   ]
  },
  {
   "cell_type": "code",
   "execution_count": 141,
   "metadata": {},
   "outputs": [
    {
     "data": {
      "text/plain": [
       "array([0.        , 0.        , 0.        , 0.        , 0.        ,\n",
       "       0.        , 0.        , 0.        , 0.        , 0.        ,\n",
       "       0.52175503, 0.        , 0.        , 0.        , 0.        ,\n",
       "       0.        , 0.        , 0.        , 0.03345248, 0.        ,\n",
       "       0.        , 0.        , 0.        , 0.        , 0.        ,\n",
       "       0.32476108, 0.1200314 , 0.        , 0.        , 0.        ,\n",
       "       0.        , 0.        , 0.        , 0.        , 0.        ,\n",
       "       0.        , 0.        , 0.        , 0.        , 0.        ,\n",
       "       0.        , 0.        , 0.        , 0.        , 0.        ,\n",
       "       0.        , 0.        , 0.        ])"
      ]
     },
     "execution_count": 141,
     "metadata": {},
     "output_type": "execute_result"
    }
   ],
   "source": [
    "next_weights = np.zeros(next_w.shape)\n",
    "# apply equation 16\n",
    "for i in range(len(next_w)):\n",
    "    w_pos = np.clip(next_w, 0, None)\n",
    "    next_weights[i] = max(0, next_w[i]) / np.sum(w_pos)\n",
    "\n",
    "next_weights"
   ]
  },
  {
   "cell_type": "markdown",
   "metadata": {},
   "source": [
    "# Out-of-Sample Testing"
   ]
  },
  {
   "cell_type": "code",
   "execution_count": null,
   "metadata": {},
   "outputs": [],
   "source": []
  }
 ],
 "metadata": {
  "kernelspec": {
   "display_name": "Python 3",
   "language": "python",
   "name": "python3"
  },
  "language_info": {
   "codemirror_mode": {
    "name": "ipython",
    "version": 3
   },
   "file_extension": ".py",
   "mimetype": "text/x-python",
   "name": "python",
   "nbconvert_exporter": "python",
   "pygments_lexer": "ipython3",
   "version": "3.12.6"
  }
 },
 "nbformat": 4,
 "nbformat_minor": 2
}
