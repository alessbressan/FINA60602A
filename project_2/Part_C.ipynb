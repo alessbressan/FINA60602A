{
 "cells": [
  {
   "cell_type": "markdown",
   "metadata": {},
   "source": [
    "# Import Dependencies"
   ]
  },
  {
   "cell_type": "code",
   "execution_count": 237,
   "metadata": {},
   "outputs": [],
   "source": [
    "import pandas as pd\n",
    "import numpy as np\n",
    "from scipy.optimize import minimize\n",
    "\n",
    "from matplotlib import pyplot as plt\n",
    "\n",
    "from pathlib import Path\n",
    "from tqdm import tqdm\n",
    "\n",
    "import warnings\n",
    "\n",
    "warnings.filterwarnings('ignore')"
   ]
  },
  {
   "cell_type": "markdown",
   "metadata": {},
   "source": [
    "# Load Data"
   ]
  },
  {
   "cell_type": "code",
   "execution_count": 238,
   "metadata": {},
   "outputs": [
    {
     "data": {
      "text/plain": [
       "[          Date  Agric  Food   Soda   Beer   Smoke  Toys   Fun    Books  Hshld  \\\n",
       " 0     192607.0   2.37   0.12 -99.99  -5.19   1.29   8.65   2.50  50.21  -0.48   \n",
       " 1     192608.0   2.23   2.68 -99.99  27.03   6.50  16.81  -0.76  42.98  -3.58   \n",
       " 2     192609.0  -0.57   1.58 -99.99   4.02   1.26   8.33   6.42  -4.91   0.73   \n",
       " 3     192610.0  -0.46  -3.68 -99.99  -3.31   1.06  -1.40  -5.09   5.37  -4.68   \n",
       " 4     192611.0   6.75   6.26 -99.99   7.29   4.55   0.00   1.82  -6.40  -0.54   \n",
       " ...        ...    ...    ...    ...    ...    ...    ...    ...    ...    ...   \n",
       " 1177  202408.0   2.32   5.09   5.38   0.88   7.96  -1.92   5.98   1.69   6.30   \n",
       " 1178  202409.0   2.76   0.95   0.77   1.32  -1.31   3.37   4.29  -2.33   1.05   \n",
       " 1179  202410.0   4.39  -4.28  -7.69  -5.15   8.46   0.29   4.02   0.61  -5.81   \n",
       " 1180  202411.0   3.02   0.63   0.28  -0.40   2.15   4.04  14.14   5.40   7.01   \n",
       " 1181  202412.0  -6.95  -5.70  -3.29  -6.04  -8.25  -6.95  -1.51  -6.17  -6.14   \n",
       " \n",
       "       ...  Boxes  Trans  Whlsl  Rtail  Meals  Banks  Insur  RlEst  Fin    \\\n",
       " 0     ...   7.70   1.92 -23.79   0.07   1.87   4.61  -0.54   2.89  -5.77   \n",
       " 1     ...  -2.38   4.85   5.39  -0.75  -0.13  11.83   2.57   5.30   0.32   \n",
       " 2     ...  -5.54   0.08  -7.87   0.25  -0.56  -1.75   0.72  -3.06  -4.81   \n",
       " 3     ...  -5.08  -2.62 -15.38  -2.20  -4.11 -11.82  -4.28  -5.74  -0.94   \n",
       " 4     ...   3.84   1.61   4.67   6.52   4.33  -2.97   3.58   2.21   5.13   \n",
       " ...   ...    ...    ...    ...    ...    ...    ...    ...    ...    ...   \n",
       " 1177  ...   1.24   2.45  -1.21   0.75   5.47   2.20   4.33   0.56   0.98   \n",
       " 1178  ...   3.27   2.50  -0.72   4.09   5.43  -2.00  -1.02   5.99   2.61   \n",
       " 1179  ...  -3.61   1.37  -1.58  -0.96  -0.64   5.12  -4.31   0.69   6.53   \n",
       " 1180  ...   6.22   8.42  11.84  10.25   6.25  13.21   8.33   7.82  14.13   \n",
       " 1181  ...  -8.58  -8.63  -8.59  -0.30  -4.29  -5.53 -11.15  -8.96  -6.54   \n",
       " \n",
       "       Other  \n",
       " 0      5.20  \n",
       " 1      6.76  \n",
       " 2     -3.86  \n",
       " 3     -8.49  \n",
       " 4      4.00  \n",
       " ...     ...  \n",
       " 1177   6.27  \n",
       " 1178  -1.35  \n",
       " 1179  -2.65  \n",
       " 1180   7.44  \n",
       " 1181  -6.35  \n",
       " \n",
       " [1182 rows x 49 columns],\n",
       "           Date  Agric  Food   Soda   Beer   Smoke  Toys   Fun    Books  Hshld  \\\n",
       " 1182       NaN    NaN    NaN    NaN    NaN    NaN    NaN    NaN    NaN    NaN   \n",
       " 1183  192607.0    3.0   40.0    0.0    3.0   16.0    1.0    6.0    1.0    8.0   \n",
       " 1184  192608.0    3.0   40.0    0.0    3.0   16.0    1.0    6.0    1.0    8.0   \n",
       " 1185  192609.0    3.0   40.0    0.0    3.0   16.0    1.0    6.0    1.0    8.0   \n",
       " 1186  192610.0    3.0   40.0    0.0    3.0   16.0    1.0    6.0    1.0    8.0   \n",
       " ...        ...    ...    ...    ...    ...    ...    ...    ...    ...    ...   \n",
       " 2360  202408.0   13.0   50.0    7.0   11.0    6.0   26.0   46.0   10.0   46.0   \n",
       " 2361  202409.0   12.0   50.0    7.0   11.0    6.0   26.0   46.0   10.0   46.0   \n",
       " 2362  202410.0   12.0   50.0    7.0   11.0    5.0   26.0   46.0   10.0   46.0   \n",
       " 2363  202411.0   12.0   50.0    7.0   11.0    5.0   26.0   46.0   10.0   46.0   \n",
       " 2364  202412.0   12.0   49.0    7.0   10.0    5.0   25.0   45.0   10.0   46.0   \n",
       " \n",
       "       ...  Boxes  Trans  Whlsl  Rtail  Meals  Banks  Insur  RlEst  Fin    \\\n",
       " 1182  ...    NaN    NaN    NaN    NaN    NaN    NaN    NaN    NaN    NaN   \n",
       " 1183  ...    6.0   73.0    2.0   33.0    6.0    3.0    3.0    2.0    5.0   \n",
       " 1184  ...    6.0   73.0    2.0   33.0    6.0    3.0    3.0    2.0    5.0   \n",
       " 1185  ...    6.0   73.0    2.0   33.0    6.0    3.0    3.0    2.0    5.0   \n",
       " 1186  ...    6.0   73.0    2.0   33.0    6.0    3.0    3.0    2.0    5.0   \n",
       " ...   ...    ...    ...    ...    ...    ...    ...    ...    ...    ...   \n",
       " 2360  ...    9.0   70.0   85.0  144.0   56.0  383.0   97.0   31.0   95.0   \n",
       " 2361  ...    9.0   69.0   85.0  143.0   55.0  382.0   97.0   31.0   95.0   \n",
       " 2362  ...    9.0   69.0   84.0  142.0   54.0  381.0   97.0   31.0   94.0   \n",
       " 2363  ...    9.0   68.0   83.0  142.0   54.0  381.0   97.0   31.0   93.0   \n",
       " 2364  ...    9.0   67.0   83.0  139.0   54.0  381.0   97.0   31.0   93.0   \n",
       " \n",
       "       Other  \n",
       " 1182    NaN  \n",
       " 1183    4.0  \n",
       " 1184    4.0  \n",
       " 1185    4.0  \n",
       " 1186    4.0  \n",
       " ...     ...  \n",
       " 2360  153.0  \n",
       " 2361  144.0  \n",
       " 2362  138.0  \n",
       " 2363  128.0  \n",
       " 2364  119.0  \n",
       " \n",
       " [1183 rows x 49 columns],\n",
       "           Date    Agric    Food      Soda      Beer      Smoke    Toys   \\\n",
       " 2365       NaN      NaN      NaN       NaN       NaN       NaN      NaN   \n",
       " 2366  192607.0    99.80    31.19    -99.99      7.12     59.72    13.00   \n",
       " 2367  192608.0   102.06    31.15    -99.99      6.75     60.47    14.12   \n",
       " 2368  192609.0   104.34    31.95    -99.99      8.58     64.03    16.50   \n",
       " 2369  192610.0   102.91    32.21    -99.99      8.92     64.42    17.88   \n",
       " ...        ...      ...      ...       ...       ...       ...      ...   \n",
       " 3543  202408.0  3452.34  8599.33  52001.20  33340.54  44386.30  1438.61   \n",
       " 3544  202409.0  3823.94  9008.40  54799.68  33608.89  47914.43  1406.18   \n",
       " 3545  202410.0  3919.58  9075.01  54923.29  33844.06  55500.73  1453.04   \n",
       " 3546  202411.0  4087.88  8667.60  50696.59  32100.66  60196.34  1457.23   \n",
       " 3547  202412.0  4211.50  8873.36  50540.66  34988.36  61492.70  1515.57   \n",
       " \n",
       "          Fun      Books     Hshld  ...    Boxes     Trans    Whlsl     Rtail  \\\n",
       " 2365       NaN      NaN       NaN  ...      NaN       NaN      NaN       NaN   \n",
       " 2366     28.64     4.33     22.27  ...    35.35     68.19     1.19     46.65   \n",
       " 2367     29.34     6.50     22.13  ...    37.86     69.29     0.90     46.57   \n",
       " 2368     29.10     9.29     21.18  ...    36.82     72.35     0.95     46.11   \n",
       " 2369     30.58     8.83     21.23  ...    34.77     72.18     0.88     46.15   \n",
       " ...        ...      ...       ...  ...      ...       ...      ...       ...   \n",
       " 3543  10217.22  3112.50  15219.06  ...  8463.74  14310.41  7202.10  30581.85   \n",
       " 3544  10824.36  3163.31  16156.86  ...  8557.61  14821.58  7107.25  30987.26   \n",
       " 3545  11287.60  3083.88  16322.13  ...  8808.62  15178.50  7134.86  32476.63   \n",
       " 3546  11739.34  3097.72  15308.68  ...  8490.68  15610.36  7096.73  32158.89   \n",
       " 3547  13693.04  3263.66  16366.12  ...  9010.00  17150.50  7929.08  36185.96   \n",
       " \n",
       "          Meals    Banks     Insur    RlEst     Fin       Other  \n",
       " 2365       NaN      NaN       NaN      NaN       NaN       NaN  \n",
       " 2366     10.82    14.50     31.82    22.92      9.92     24.25  \n",
       " 2367     11.00    15.17     31.65    23.56      9.33     25.51  \n",
       " 2368     10.94    16.97     32.46    24.47      9.36     27.21  \n",
       " 2369     10.80    16.46     32.66    23.72      8.89     26.16  \n",
       " ...        ...      ...       ...      ...       ...       ...  \n",
       " 3543  12772.16  7717.93  19560.71  2610.76  16788.00  10192.96  \n",
       " 3544  13693.83  7891.69  20387.18  2625.06  16922.38  11498.13  \n",
       " 3545  14666.47  7739.70  20132.49  2780.28  17519.62  11829.80  \n",
       " 3546  14569.13  8120.72  19256.20  2799.33  18802.37  12366.88  \n",
       " 3547  15460.17  9176.87  20834.29  3017.98  21436.82  14273.44  \n",
       " \n",
       " [1183 rows x 49 columns],\n",
       "         Date  Agric  Food   Soda   Beer   Smoke  Toys   Fun    Books  Hshld  \\\n",
       " 3548     NaN    NaN    NaN    NaN    NaN    NaN    NaN    NaN    NaN    NaN   \n",
       " 3549  1926.0   0.65   0.63 -99.99   2.54   0.79   1.99   0.81   4.34   0.38   \n",
       " 3550  1927.0   0.59   0.53 -99.99   1.81   0.69   2.04   0.96   2.17   0.36   \n",
       " 3551  1928.0   0.57   0.41 -99.99   0.62   0.69   1.44   0.78   0.73   0.35   \n",
       " 3552  1929.0   0.64   0.37 -99.99   0.52   0.67   1.68   0.50   0.61   0.27   \n",
       " ...      ...    ...    ...    ...    ...    ...    ...    ...    ...    ...   \n",
       " 3643  2020.0   1.14   0.46   0.10   0.17   0.09   0.20   0.14   0.80   0.15   \n",
       " 3644  2021.0   0.76   0.39   0.09   0.13   0.03   0.08   0.11   0.39   0.12   \n",
       " 3645  2022.0   0.66   0.42   0.09   0.15   0.27   0.35   0.29   0.69   0.14   \n",
       " 3646  2023.0   0.65   0.43   0.10   0.13   0.28   0.39   0.17   0.59   0.14   \n",
       " 3647  2024.0   0.68   0.49   0.10   0.20   0.18   0.36   0.14   0.43   0.15   \n",
       " \n",
       "       ...  Boxes  Trans  Whlsl  Rtail  Meals  Banks  Insur  RlEst  Fin    \\\n",
       " 3548  ...    NaN    NaN    NaN    NaN    NaN    NaN    NaN    NaN    NaN   \n",
       " 3549  ...   0.97   1.41   2.35   0.44   0.66   0.66   0.62   0.88   0.89   \n",
       " 3550  ...   1.00   1.30   5.25   0.43   0.59   0.83   0.53   0.77   1.11   \n",
       " 3551  ...   0.65   1.26   0.65   0.34   0.55   0.45   0.41   0.67   0.81   \n",
       " 3552  ...   0.43   1.09   0.39   0.29   0.41   0.29   0.46   0.96   0.48   \n",
       " ...   ...    ...    ...    ...    ...    ...    ...    ...    ...    ...   \n",
       " 3643  ...   0.40   0.32   0.34   0.14   0.24   0.79   0.69   0.60   0.57   \n",
       " 3644  ...   0.29   0.16   0.22   0.12   0.13   0.53   0.57   0.31   0.37   \n",
       " 3645  ...   0.37   0.24   0.27   0.16   0.20   0.69   0.52   0.52   0.49   \n",
       " 3646  ...   0.42   0.20   0.27   0.16   0.14   0.65   0.37   0.43   0.42   \n",
       " 3647  ...   0.33   0.23   0.26   0.12   0.16   0.66   0.37   0.43   0.35   \n",
       " \n",
       "       Other  \n",
       " 3548    NaN  \n",
       " 3549   0.63  \n",
       " 3550   0.69  \n",
       " 3551   0.60  \n",
       " 3552   0.91  \n",
       " ...     ...  \n",
       " 3643   0.70  \n",
       " 3644   0.49  \n",
       " 3645   0.63  \n",
       " 3646   0.48  \n",
       " 3647   0.45  \n",
       " \n",
       " [100 rows x 49 columns]]"
      ]
     },
     "execution_count": 238,
     "metadata": {},
     "output_type": "execute_result"
    }
   ],
   "source": [
    "# load daily industry returns\n",
    "# load 4 dataframes (returns, nb industries, avg firm size, Sum of BE / Sum of ME)\n",
    "df = pd.read_csv(str(Path().absolute()) + \"/data/48_Industry_Portfolios.CSV\") \n",
    "\n",
    "# split these dataframes\n",
    "df_list = np.split(df, df[df.isnull().all(1)].index, axis = 0) \n",
    "\n",
    "df_list"
   ]
  },
  {
   "cell_type": "code",
   "execution_count": 239,
   "metadata": {},
   "outputs": [],
   "source": [
    "# load 4 dataframes (returns, nb industries, avg firm size, Sum of BE / Sum of ME)\n",
    "df = pd.read_csv(str(Path().absolute()) + \"/data/48_Industry_Portfolios.CSV\") \n",
    "\n",
    "# split these dataframes\n",
    "df_list = np.split(df, df[df.isnull().all(1)].index, axis = 0) \n",
    "\n",
    "# clean data and convert date column to index\n",
    "for i in range(len(df_list)):\n",
    "    df_list[i] = pd.DataFrame(df_list[i])  \n",
    "    df_list[i] = df_list[i].dropna()  \n",
    "    df_list[i].loc[:, \"Date\"] = df_list[i].loc[:, \"Date\"].astype(\"int\")  \n",
    "    df_list[i] = df_list[i].set_index(\"Date\")  \n",
    "    \n",
    "    # last data frame has yearly data\n",
    "    if i == (len(df_list) - 1): \n",
    "        df_list[i].index = pd.to_datetime(df_list[i].index, format = \"%Y\")\n",
    "        df_list[i].index = df_list[i].index + pd.DateOffset(months = 6)\n",
    "    else:\n",
    "        df_list[i].index = pd.to_datetime(df_list[i].index, format = \"%Y%m\")\n",
    "\n",
    "# create a dataframe of excess returns, nb of industries and avg sizes\n",
    "df = df_list[0] / 100\n",
    "mask = (df <= -0.99)\n",
    "df[mask] = 0\n",
    "\n",
    "nb_industries = df_list[1]\n",
    "nb_industries[mask] = 0\n",
    "\n",
    "avg_size = df_list[2]\n",
    "avg_size[mask] = 0\n",
    "\n",
    "be_over_me = df_list[3]\n",
    "be_over_me[mask] = 0"
   ]
  },
  {
   "cell_type": "code",
   "execution_count": 240,
   "metadata": {},
   "outputs": [
    {
     "name": "stdout",
     "output_type": "stream",
     "text": [
      "(1182, 48)\n",
      "(1177, 48)\n",
      "(1182, 48)\n"
     ]
    }
   ],
   "source": [
    "# market cap of each industry over time\n",
    "mkt_cap = nb_industries * avg_size\n",
    "print(mkt_cap.shape)\n",
    "\n",
    "# book value to market value\n",
    "be_over_me = be_over_me.resample(\"1MS\").ffill()\n",
    "print(be_over_me.shape)\n",
    "\n",
    "# momentum with monthly data\n",
    "momentum = df.rolling(12).mean()\n",
    "print(momentum.shape)"
   ]
  },
  {
   "cell_type": "markdown",
   "metadata": {},
   "source": [
    "# Normalize Data"
   ]
  },
  {
   "cell_type": "code",
   "execution_count": 241,
   "metadata": {},
   "outputs": [
    {
     "name": "stdout",
     "output_type": "stream",
     "text": [
      "(559, 48)\n",
      "(559, 48)\n",
      "(559, 48)\n"
     ]
    }
   ],
   "source": [
    "mkt_cap_ = mkt_cap.loc['1927-06-01':'1973-12-01']\n",
    "mkt_cap_norm = (mkt_cap_ - mkt_cap_.mean()) / mkt_cap_.std()\n",
    "print(mkt_cap_norm.shape)\n",
    "\n",
    "be_over_me_ = be_over_me.loc['1927-06-01':'1973-12-01']\n",
    "be_over_me_norm = (be_over_me_ - be_over_me_.mean()) / be_over_me_.std()\n",
    "print(be_over_me_norm.shape)\n",
    "\n",
    "momentum_ = momentum.loc['1927-06-01':'1973-12-01']\n",
    "momentum_norm = (momentum_ - momentum_.mean()) / momentum_.std()\n",
    "print(momentum_norm.shape)"
   ]
  },
  {
   "cell_type": "code",
   "execution_count": 242,
   "metadata": {},
   "outputs": [],
   "source": [
    "def CRRA(wealth, gamma= 5):\n",
    "    \"\"\"\"Constant Relative Risk Aversion Utility Function\"\"\"\n",
    "\n",
    "    if gamma == 1:\n",
    "        return np.log(wealth)\n",
    "    else:\n",
    "        return (wealth ** (1 - gamma)) / (1 - gamma)\n"
   ]
  },
  {
   "cell_type": "code",
   "execution_count": 249,
   "metadata": {},
   "outputs": [
    {
     "data": {
      "text/plain": [
       "numpy.ndarray"
      ]
     },
     "execution_count": 249,
     "metadata": {},
     "output_type": "execute_result"
    }
   ],
   "source": [
    "characteristics = np.stack([mkt_cap_norm, be_over_me_norm, momentum_norm], axis= -1)\n",
    "weights = np.ones(characteristics.shape[1]) / characteristics.shape[1]\n",
    "theta = np.ones(shape=(3,1)) / 3\n",
    "\n",
    "type(characteristics)"
   ]
  },
  {
   "cell_type": "code",
   "execution_count": 244,
   "metadata": {},
   "outputs": [],
   "source": [
    "def objective(theta:np.array, x:np.ndarray, rets:pd.DataFrame):\n",
    "    accrued_wealth = 0\n",
    "    wealth = 0\n",
    "    weights = np.zeros(x.shape[1])\n",
    "    for t in range(x.shape[0]):\n",
    "        for i in range(x.shape[1]):\n",
    "            wealth += (weights[i] + theta.T @ x[t,i,:]/ x.shape[1]) * rets.iloc[t+1,i]\n",
    "        accrued_wealth += CRRA(wealth)\n",
    "    \n",
    "    return - accrued_wealth / characteristics.shape[0]"
   ]
  },
  {
   "cell_type": "code",
   "execution_count": 247,
   "metadata": {},
   "outputs": [
    {
     "data": {
      "text/plain": [
       " message: Optimization terminated successfully\n",
       " success: True\n",
       "  status: 0\n",
       "     fun: 1.273870560173743e-06\n",
       "       x: [ 2.241e+02  6.872e+02 -4.545e+02]\n",
       "     nit: 1\n",
       "     jac: [-2.224e-08  4.481e-08  6.799e-08]\n",
       "    nfev: 4\n",
       "    njev: 1"
      ]
     },
     "execution_count": 247,
     "metadata": {},
     "output_type": "execute_result"
    }
   ],
   "source": [
    "init = np.array([2.241e+02, 6.872e+02,-4.545e+02])\n",
    "response = minimize(objective, x0= init, args= (characteristics, df), method= 'SLSQP')\n",
    "response"
   ]
  },
  {
   "cell_type": "code",
   "execution_count": 259,
   "metadata": {},
   "outputs": [
    {
     "data": {
      "text/plain": [
       "array([ 472.86706507, 1168.8094588 , 2747.34995874,  380.34656057,\n",
       "        609.28205171,  805.83703229, 1007.40356382,  866.06891231,\n",
       "        495.11224484, 2514.04100461, 8449.89699891,  692.02203191,\n",
       "        666.80534287,  926.74885336, 1142.82305468, 1171.32993905,\n",
       "       1121.74071742,  971.78269503,  305.78919993, 1970.46692939,\n",
       "        703.25960952,  641.68168671, 1420.76575284, 1590.20026871,\n",
       "       -315.19373001, 3431.73974453,  -71.36750633,  475.16943647,\n",
       "       -335.87147788,  118.78159501,  890.44324016,  977.9716028 ,\n",
       "       1633.50897275,  813.66666386,  729.24139634,  921.09799838,\n",
       "        835.65827133,  719.85699991,  406.82008499,  327.51066724,\n",
       "        939.35552413, 1162.11996905,  872.71305959, 1261.90584703,\n",
       "       1762.66181407, 1146.84520559, 1633.94983442, 2285.12752779])"
      ]
     },
     "execution_count": 259,
     "metadata": {},
     "output_type": "execute_result"
    }
   ],
   "source": [
    "for i in range(len(weights)):\n",
    "    weights[i] = weights[i] + response.x @ characteristics[-1,i,:]\n",
    "\n",
    "weights"
   ]
  }
 ],
 "metadata": {
  "kernelspec": {
   "display_name": "Python 3",
   "language": "python",
   "name": "python3"
  },
  "language_info": {
   "codemirror_mode": {
    "name": "ipython",
    "version": 3
   },
   "file_extension": ".py",
   "mimetype": "text/x-python",
   "name": "python",
   "nbconvert_exporter": "python",
   "pygments_lexer": "ipython3",
   "version": "3.12.6"
  }
 },
 "nbformat": 4,
 "nbformat_minor": 2
}
