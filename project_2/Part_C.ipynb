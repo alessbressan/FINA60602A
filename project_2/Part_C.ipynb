{
 "cells": [
  {
   "cell_type": "markdown",
   "metadata": {},
   "source": [
    "# Import Dependencies"
   ]
  },
  {
   "cell_type": "code",
   "execution_count": 1,
   "metadata": {},
   "outputs": [],
   "source": [
    "import pandas as pd\n",
    "import numpy as np\n",
    "from scipy.optimize import minimize\n",
    "import seaborn as sns\n",
    "from matplotlib import pyplot as plt\n",
    "\n",
    "from pathlib import Path\n",
    "from tqdm import tqdm\n",
    "\n",
    "import warnings\n",
    "\n",
    "warnings.filterwarnings('ignore')"
   ]
  },
  {
   "cell_type": "markdown",
   "metadata": {},
   "source": [
    "# Load Data"
   ]
  },
  {
   "cell_type": "code",
   "execution_count": 2,
   "metadata": {},
   "outputs": [],
   "source": [
    "# industry returns\n",
    "df = pd.read_csv(str(Path().absolute()) + \"/data/48_Industry_Portfolios.CSV\", index_col = 0, skiprows = 11, nrows = 1182, header=0)\n",
    "df.index = pd.to_datetime(df.index, format = \"%Y%m\")\n",
    "df = df / 100\n",
    "\n",
    "# remove NAs\n",
    "mask = (df <= -0.99)\n",
    "df[mask] = np.nan\n",
    "\n",
    "# nb of industries dataframe\n",
    "nb_industries = pd.read_csv(str(Path().absolute()) + \"/data/48_Industry_Portfolios.CSV\", index_col = 0, skiprows = 2587, nrows = 1182, header=0)\n",
    "nb_industries.index = pd.to_datetime(nb_industries.index, format = \"%Y%m\")\n",
    "mask = (nb_industries <= -0.99)\n",
    "nb_industries[mask] = np.nan\n",
    "\n",
    "# average sizes dataframe\n",
    "avg_size = pd.read_csv(str(Path().absolute()) + \"/data/48_Industry_Portfolios.CSV\", index_col = 0, skiprows = 3773, nrows = 1182, header=0)\n",
    "avg_size.index = pd.to_datetime(avg_size.index, format = \"%Y%m\")\n",
    "mask = (avg_size <= -0.99)\n",
    "avg_size[mask] = np.nan\n",
    "\n",
    "# sum of BE / sum of ME dataframe\n",
    "be_over_me = pd.read_csv(str(Path().absolute()) + \"/data/48_Industry_Portfolios.CSV\", index_col = 0, skiprows = 4959, nrows = 99, header=0)\n",
    "be_over_me.index = pd.to_datetime(be_over_me.index, format = \"%Y\")"
   ]
  },
  {
   "cell_type": "code",
   "execution_count": 3,
   "metadata": {},
   "outputs": [],
   "source": [
    "# market cap of each industry over time\n",
    "mkt_cap = nb_industries * avg_size\n",
    "\n",
    "# momentum with monthly data\n",
    "momentum = df.rolling(12).mean()\n",
    "\n",
    "# book value to market value\n",
    "# resample be_over_me to monthly data\n",
    "# we must first shift years since our \"factor year\" begins in July preventing us from grouping by years\n",
    "be_over_me.index = be_over_me.index + pd.DateOffset(months = 6)\n",
    "be_over_me = be_over_me.resample(\"MS\").ffill()\n",
    "\n",
    "# need to add missing portion of 2024 since data with shifted index is missing it\n",
    "extra_be_over_me = pd.DataFrame(np.repeat([be_over_me.iloc[-1].values], repeats = 5, axis = 0), \n",
    "                                index = pd.date_range(start=be_over_me.index[-1] + pd.DateOffset(months = 1), end='2024-12-01', freq='MS'), \n",
    "                                columns = be_over_me.columns)\n",
    "\n",
    "be_over_me = pd.concat([be_over_me, extra_be_over_me], axis = 0)\n",
    "mask = (be_over_me <= -99.99)\n",
    "be_over_me[mask] = np.nan"
   ]
  },
  {
   "cell_type": "markdown",
   "metadata": {},
   "source": [
    "# Normalize Data"
   ]
  },
  {
   "cell_type": "code",
   "execution_count": 4,
   "metadata": {},
   "outputs": [
    {
     "name": "stdout",
     "output_type": "stream",
     "text": [
      "(559, 48)\n",
      "(559, 48)\n",
      "(559, 48)\n",
      "(559, 48)\n"
     ]
    }
   ],
   "source": [
    "mkt_cap_ = mkt_cap.loc['1927-06-01':'1973-12-01']\n",
    "mkt_cap_norm = mkt_cap_.sub(mkt_cap_.mean(axis = 1), axis = 0).div(mkt_cap_.std(axis = 1), axis = 0)\n",
    "print(mkt_cap_norm.shape)\n",
    "\n",
    "be_over_me_ = be_over_me.loc['1927-06-01':'1973-12-01']\n",
    "be_over_me_norm = be_over_me_.sub(be_over_me_.mean(axis = 1), axis = 0).div(be_over_me_.std(axis = 1), axis = 0)\n",
    "print(be_over_me_norm.shape)\n",
    "\n",
    "momentum_ = momentum.loc['1927-06-01':'1973-12-01']\n",
    "momentum_norm = momentum_.sub(momentum_.mean(axis = 1), axis = 0).div(momentum_.std(axis = 1), axis = 0)\n",
    "print(momentum_norm.shape)\n",
    "\n",
    "df_in = df.loc['1927-06-01':'1973-12-01']\n",
    "print(df_in.shape)"
   ]
  },
  {
   "cell_type": "code",
   "execution_count": 5,
   "metadata": {},
   "outputs": [],
   "source": [
    "def CRRA(wealth: float, gamma = 5):\n",
    "    \"\"\"\"\n",
    "    Constant Relative Risk Aversion Utility Function\n",
    "    ---\n",
    "    :param wealth: current wealth level of investor\n",
    "    :param gamma: risk aversion parameter\n",
    "    :return: CRRA utility level as given by functional form in Brandt et al. (2009), equation 15\n",
    "    \"\"\"\n",
    "\n",
    "    if gamma == 1:\n",
    "        return np.log(wealth)\n",
    "    else:\n",
    "        return ((1 + wealth) ** (1 - gamma)) / (1 - gamma)\n"
   ]
  },
  {
   "cell_type": "code",
   "execution_count": 58,
   "metadata": {},
   "outputs": [],
   "source": [
    "characteristics = np.stack([mkt_cap_norm, be_over_me_norm, momentum_norm], axis= -1)  # 3 characteristics we're interested in\n",
    "theta = np.array([-1.451, 3.606, 1.772])  # initial guess for theta"
   ]
  },
  {
   "cell_type": "markdown",
   "metadata": {},
   "source": [
    "# Optimization"
   ]
  },
  {
   "cell_type": "markdown",
   "metadata": {},
   "source": [
    "## Objective"
   ]
  },
  {
   "cell_type": "code",
   "execution_count": null,
   "metadata": {},
   "outputs": [],
   "source": [
    "def objective(theta: np.ndarray, x: np.ndarray, rets: pd.DataFrame, mkt_cap: np.ndarray):\n",
    "    \"\"\"\n",
    "    objective function (equation 6 from Brandt et al. (2009)) which we aim to optimize over each period.\n",
    "    ---\n",
    "    :param theta: parameter vector to be optimized\n",
    "    :param x: characteristics matrix with dimensions (time x assets x characteristics)\n",
    "    :param rets: universe of assets returns matrix\n",
    "    :param mkt_cap: market capitalization of each asset in universe\n",
    "    :return: negative CRRA utility over desired period (we wish to minimize the negative utility)\n",
    "    \"\"\"\n",
    "\n",
    "    # initial wealth\n",
    "    accrued_utility = 0.0\n",
    "    for t in range(x.shape[0]):\n",
    "        w_t = mkt_cap.iloc[t]/ mkt_cap.iloc[t].sum()  # current weights of market portfolio (our benchmark)\n",
    "        rets_t1 = rets.iloc[t+1, :].values  # returns at time t+1 (following period)\n",
    "        x_t = x[t, :, :]  # characteristics at time t\n",
    "        \n",
    "        # determine which assets are currently traded\n",
    "        valid_mask = ~np.isnan(rets_t1) & ~np.isnan(x_t).any(axis=1)\n",
    "        Nt = valid_mask.sum()\n",
    "        \n",
    "        if Nt > 0:\n",
    "            # equation 6 from Brandt et al. (2009)\n",
    "            accrued_utility += CRRA(np.sum((w_t[valid_mask] + (x_t[valid_mask] @ theta) / Nt) * rets_t1[valid_mask]))\n",
    "    \n",
    "    # we wish to minimize the negative value of equation 6 from Brandt et al. (2009)\n",
    "    return - accrued_utility / x.shape[0]"
   ]
  },
  {
   "cell_type": "code",
   "execution_count": null,
   "metadata": {},
   "outputs": [
    {
     "data": {
      "text/plain": [
       "     fun: 0.24844714112080019\n",
       "     jac: array([ 7.67875463e-05,  6.07892871e-05, -1.63037330e-05])\n",
       " message: 'Optimization terminated successfully'\n",
       "    nfev: 29\n",
       "     nit: 7\n",
       "    njev: 7\n",
       "  status: 0\n",
       " success: True\n",
       "       x: array([ 0.23969945, -1.28827358,  0.16996526])"
      ]
     },
     "execution_count": 64,
     "metadata": {},
     "output_type": "execute_result"
    }
   ],
   "source": [
    "init = theta\n",
    "response = minimize(objective, x0=theta, args=(characteristics, df, mkt_cap), method= 'SLSQP')\n",
    "response"
   ]
  },
  {
   "cell_type": "markdown",
   "metadata": {},
   "source": [
    "# Find New Weights"
   ]
  },
  {
   "cell_type": "code",
   "execution_count": 66,
   "metadata": {},
   "outputs": [
    {
     "data": {
      "text/plain": [
       "array([-0.04946386,  0.00547975,  0.03609856,  0.01566228,  0.03367343,\n",
       "       -0.00425372,  0.03624695, -0.01464132,  0.08079702,  0.0136754 ,\n",
       "               nan,  0.02036643,  0.05486993,  0.05299978,  0.01549177,\n",
       "       -0.0746234 ,  0.03221674, -0.00866197, -0.00245536, -0.01425938,\n",
       "        0.04704172,  0.00459451,  0.1025241 ,  0.00758333, -0.00993799,\n",
       "        0.0412234 , -0.04211313,  0.02034514, -0.0516868 ,  0.12914423,\n",
       "        0.09462706,  0.065963  ,  0.01208449,  0.06044353,  0.06660032,\n",
       "        0.08124354,  0.01457508,  0.02741545,  0.01303213,  0.03965677,\n",
       "        0.01088166,  0.08842492,  0.02497223, -0.02862566,  0.00086596,\n",
       "       -0.01276436,  0.01449181, -0.01184033])"
      ]
     },
     "execution_count": 66,
     "metadata": {},
     "output_type": "execute_result"
    }
   ],
   "source": [
    "# weights for the final period\n",
    "weights = mkt_cap.loc['1963-12-01']/ mkt_cap.loc['1963-12-01'].sum()  # current weights of market portfolio (our benchmark)\n",
    "next_w = np.zeros(weights.shape)\n",
    "for i in range(len(weights)):\n",
    "    next_w[i] = weights[i] + (response.x @ characteristics[-1,i,:]) / (np.count_nonzero(~np.isnan(characteristics[-1,:,:]))/3)\n",
    "\n",
    "next_w"
   ]
  },
  {
   "cell_type": "code",
   "execution_count": null,
   "metadata": {},
   "outputs": [
    {
     "data": {
      "text/plain": [
       "array([0.        , 0.00401355, 0.02643978, 0.01147157, 0.02466353,\n",
       "       0.        , 0.02654847, 0.        , 0.05917841, 0.01001632,\n",
       "       0.        , 0.01491705, 0.04018855, 0.03881879, 0.01134668,\n",
       "       0.        , 0.02359661, 0.        , 0.        , 0.        ,\n",
       "       0.03445492, 0.00336517, 0.07509204, 0.00555428, 0.        ,\n",
       "       0.03019338, 0.        , 0.01490146, 0.        , 0.0945895 ,\n",
       "       0.06930799, 0.04831348, 0.00885108, 0.04427084, 0.04878028,\n",
       "       0.05950546, 0.01067527, 0.02007999, 0.00954516, 0.02904593,\n",
       "       0.00797008, 0.06476534, 0.01829048, 0.        , 0.00063426,\n",
       "       0.        , 0.01061428, 0.        ])"
      ]
     },
     "execution_count": 48,
     "metadata": {},
     "output_type": "execute_result"
    }
   ],
   "source": [
    "# apply equation 16\n",
    "def long_only_constraint(weights: np.array):\n",
    "    \"\"\"\n",
    "    Imposes long only constraint through equation 16 of Brand et al. (2009) on the obtained weights using the optimized parameters\n",
    "    ---\n",
    "    :param weights: optimal weights to be constrained\n",
    "    :return: optimal weights after applying long only constraint\n",
    "    \"\"\"\n",
    "\n",
    "    # after completing optimization, we can safely set NaNs to 0 without affecting the optimized weights\n",
    "    clean_weights = np.nan_to_num(weights, nan= 0)\n",
    "    w_pos = np.clip(clean_weights, 0, None) # set all negative to 0\n",
    "    return w_pos / np.sum(w_pos)\n",
    "\n",
    "l_w = long_only_constraint(next_w)\n",
    "l_w"
   ]
  },
  {
   "cell_type": "markdown",
   "metadata": {},
   "source": [
    "# Out-of-Sample Testing"
   ]
  },
  {
   "cell_type": "markdown",
   "metadata": {},
   "source": [
    "### 0. Load Out-of-Sample Data"
   ]
  },
  {
   "cell_type": "code",
   "execution_count": 51,
   "metadata": {},
   "outputs": [
    {
     "name": "stdout",
     "output_type": "stream",
     "text": [
      "(733, 48)\n",
      "(733, 48)\n",
      "(733, 48)\n",
      "(733, 48)\n"
     ]
    }
   ],
   "source": [
    "mkt_cap_ = mkt_cap.loc['1963-12-01':'2025-01-01']\n",
    "mkt_cap_norm = mkt_cap_.sub(mkt_cap_.mean(axis = 1), axis = 0).div(mkt_cap_.std(axis = 1), axis = 0)\n",
    "print(mkt_cap_norm.shape)\n",
    "\n",
    "be_over_me_ = be_over_me.loc['1963-12-01':'2025-01-01']\n",
    "be_over_me_norm = be_over_me_.sub(be_over_me_.mean(axis = 1), axis = 0).div(be_over_me_.std(axis = 1), axis = 0)\n",
    "print(be_over_me_norm.shape)\n",
    "\n",
    "momentum_ = momentum.loc['1963-12-01':'2025-01-01']\n",
    "momentum_norm = momentum_.sub(momentum_.mean(axis = 1), axis = 0).div(momentum_.std(axis = 1), axis = 0)\n",
    "print(momentum_norm.shape)\n",
    "\n",
    "df_out = df.loc['1963-12-01':'2025-01-01']\n",
    "print(df_out.shape)\n"
   ]
  },
  {
   "cell_type": "code",
   "execution_count": 52,
   "metadata": {},
   "outputs": [],
   "source": [
    "x_hat = np.stack([mkt_cap_norm, be_over_me_norm, momentum_norm], axis= -1)\n",
    "w_bar = mkt_cap.loc['1974-01-01']/ mkt_cap.loc['1974-01-01'].sum()\n",
    "theta = response.x"
   ]
  },
  {
   "cell_type": "markdown",
   "metadata": {},
   "source": [
    "### Rolling Window"
   ]
  },
  {
   "cell_type": "code",
   "execution_count": 53,
   "metadata": {},
   "outputs": [
    {
     "name": "stderr",
     "output_type": "stream",
     "text": [
      "100%|██████████| 612/612 [03:10<00:00,  3.22it/s]\n"
     ]
    }
   ],
   "source": [
    "window_size = 119 # 10 years x 12 months - 1 (current observation) = 119 timesteps\n",
    "next_w = np.zeros(w_bar.shape[0])\n",
    "monthly_rets = []\n",
    "f_objective = []\n",
    "for t in tqdm(range(window_size+1, x_hat.shape[0]-1)): \n",
    "    x_hat_subset = x_hat[t-window_size-1:t-1, :, :]  # characteristics for estimation period over [0,t-1]\n",
    "    df_out_subset = df_out.iloc[t-window_size-1:t]  # returns for estimation period which is shifted by one period since we use previous period's characteristic's, so it is over [1, t]\n",
    "    mkt_cap_subset = mkt_cap_.iloc[t-window_size-1:t-1, :]  # market capitalization for estimation period (to calculate market weights at each period) over [0,t-1] \n",
    "    rets_t1 = df_out.iloc[t+1]  # returns for next period at t+1\n",
    "\n",
    "    # 1. Estimate Theta\n",
    "    res = minimize(objective, x0=theta, args=(x_hat_subset, df_out_subset, mkt_cap_subset), method='SLSQP')\n",
    "    f_objective.append(res.fun)\n",
    "    theta = res.x\n",
    "    \n",
    "    # 2. Estimate Weights\n",
    "    Nt = np.count_nonzero(~np.isnan(x_hat_subset[-1, :, :])) / 3  # number of assets which have non NA values for each characteristic.\n",
    "    valid_mask = ~np.isnan(x_hat_subset[-1, :, :]).any(axis=1)  # mask for assets which have non NA values for each characteristic.\n",
    "    \n",
    "    # parametric portfolio weights\n",
    "    w_bar = mkt_cap_subset.iloc[-1]/ mkt_cap_subset.iloc[-1].sum()\n",
    "    next_w[valid_mask] = w_bar[valid_mask] + (x_hat_subset[-1, valid_mask, :] @ theta) / Nt\n",
    "\n",
    "    long_weights = long_only_constraint(next_w)\n",
    "\n",
    "    # 3. Estimate Next Month Returns\n",
    "    rets_clean = np.nan_to_num(rets_t1, nan=0)\n",
    "    \n",
    "    # 4. Record Return\n",
    "    monthly_rets.append(long_weights @ rets_clean)\n",
    "\n",
    "monthly_rets = pd.Series(monthly_rets, index = df_out.index[window_size+1:-1], dtype=\"float64\")"
   ]
  },
  {
   "cell_type": "code",
   "execution_count": 54,
   "metadata": {},
   "outputs": [
    {
     "data": {
      "text/plain": [
       "0"
      ]
     },
     "execution_count": 54,
     "metadata": {},
     "output_type": "execute_result"
    }
   ],
   "source": [
    "np.isnan(monthly_rets).sum()"
   ]
  },
  {
   "cell_type": "code",
   "execution_count": 55,
   "metadata": {},
   "outputs": [
    {
     "name": "stdout",
     "output_type": "stream",
     "text": [
      "mean: 0.15129161047529535\n",
      "std: 0.17183549414213573\n",
      "sharpe: 0.8804444694653871\n"
     ]
    }
   ],
   "source": [
    "print(f'mean: {12 * np.mean(monthly_rets)}')\n",
    "print(f'std: {np.sqrt(12) * np.std(monthly_rets)}')\n",
    "print(f'sharpe: {np.sqrt(12) * np.mean(monthly_rets)/np.std(monthly_rets)}')"
   ]
  },
  {
   "cell_type": "code",
   "execution_count": 56,
   "metadata": {},
   "outputs": [
    {
     "data": {
      "text/plain": [
       "(array([ 1.,  0.,  0.,  1.,  0.,  0.,  1.,  0.,  0.,  2.,  1.,  0.,  2.,\n",
       "         1.,  2.,  2.,  2.,  4.,  4.,  3.,  7., 13., 29., 23., 17., 34.,\n",
       "        32., 47., 40., 52., 55., 51., 47., 35., 27., 19., 24., 11.,  6.,\n",
       "         1.,  5.,  4.,  3.,  1.,  1.,  0.,  0.,  1.,  0.,  1.]),\n",
       " array([-0.24427983, -0.23550627, -0.22673271, -0.21795914, -0.20918558,\n",
       "        -0.20041202, -0.19163846, -0.1828649 , -0.17409134, -0.16531778,\n",
       "        -0.15654422, -0.14777066, -0.1389971 , -0.13022353, -0.12144997,\n",
       "        -0.11267641, -0.10390285, -0.09512929, -0.08635573, -0.07758217,\n",
       "        -0.06880861, -0.06003505, -0.05126149, -0.04248792, -0.03371436,\n",
       "        -0.0249408 , -0.01616724, -0.00739368,  0.00137988,  0.01015344,\n",
       "         0.018927  ,  0.02770056,  0.03647412,  0.04524768,  0.05402125,\n",
       "         0.06279481,  0.07156837,  0.08034193,  0.08911549,  0.09788905,\n",
       "         0.10666261,  0.11543617,  0.12420973,  0.13298329,  0.14175686,\n",
       "         0.15053042,  0.15930398,  0.16807754,  0.1768511 ,  0.18562466,\n",
       "         0.19439822]),\n",
       " <BarContainer object of 50 artists>)"
      ]
     },
     "execution_count": 56,
     "metadata": {},
     "output_type": "execute_result"
    },
    {
     "data": {
      "image/png": "[encoded data removed]",
      "text/plain": [
       "<Figure size 640x480 with 1 Axes>"
      ]
     },
     "metadata": {},
     "output_type": "display_data"
    }
   ],
   "source": [
    "plt.hist(monthly_rets, bins= 50)"
   ]
  },
  {
   "cell_type": "code",
   "execution_count": 57,
   "metadata": {},
   "outputs": [
    {
     "data": {
      "text/plain": [
       "<AxesSubplot:>"
      ]
     },
     "execution_count": 57,
     "metadata": {},
     "output_type": "execute_result"
    },
    {
     "data": {
      "image/png": "[encoded data removed]",
      "text/plain": [
       "<Figure size 640x480 with 1 Axes>"
      ]
     },
     "metadata": {},
     "output_type": "display_data"
    }
   ],
   "source": [
    "np.log(np.cumprod(1 + monthly_rets)).plot()"
   ]
  }
 ],
 "metadata": {
  "kernelspec": {
   "display_name": "Python 3",
   "language": "python",
   "name": "python3"
  },
  "language_info": {
   "codemirror_mode": {
    "name": "ipython",
    "version": 3
   },
   "file_extension": ".py",
   "mimetype": "text/x-python",
   "name": "python",
   "nbconvert_exporter": "python",
   "pygments_lexer": "ipython3",
   "version": "3.7.9"
  }
 },
 "nbformat": 4,
 "nbformat_minor": 2
}
