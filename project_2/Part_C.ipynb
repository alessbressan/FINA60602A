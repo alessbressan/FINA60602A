{
 "cells": [
  {
   "cell_type": "markdown",
   "metadata": {},
   "source": [
    "# Import Dependencies"
   ]
  },
  {
   "cell_type": "code",
   "execution_count": null,
   "metadata": {},
   "outputs": [],
   "source": [
    "import pandas as pd\n",
    "import numpy as np\n",
    "from scipy.optimize import minimize\n",
    "import seaborn as sns\n",
    "from matplotlib import pyplot as plt\n",
    "\n",
    "from pathlib import Path\n",
    "from tqdm import tqdm\n",
    "\n",
    "import warnings\n",
    "\n",
    "warnings.filterwarnings('ignore')"
   ]
  },
  {
   "cell_type": "markdown",
   "metadata": {},
   "source": [
    "# Load Data"
   ]
  },
  {
   "cell_type": "code",
   "execution_count": 1,
   "metadata": {},
   "outputs": [
    {
     "ename": "NameError",
     "evalue": "name 'pd' is not defined",
     "output_type": "error",
     "traceback": [
      "\u001b[1;31m---------------------------------------------------------------------------\u001b[0m",
      "\u001b[1;31mNameError\u001b[0m                                 Traceback (most recent call last)",
      "Cell \u001b[1;32mIn[1], line 2\u001b[0m\n\u001b[0;32m      1\u001b[0m \u001b[38;5;66;03m# industry returns\u001b[39;00m\n\u001b[1;32m----> 2\u001b[0m df \u001b[38;5;241m=\u001b[39m \u001b[43mpd\u001b[49m\u001b[38;5;241m.\u001b[39mread_csv(\u001b[38;5;28mstr\u001b[39m(Path()\u001b[38;5;241m.\u001b[39mabsolute()) \u001b[38;5;241m+\u001b[39m \u001b[38;5;124m\"\u001b[39m\u001b[38;5;124m/data/48_Industry_Portfolios.CSV\u001b[39m\u001b[38;5;124m\"\u001b[39m, index_col \u001b[38;5;241m=\u001b[39m \u001b[38;5;241m0\u001b[39m, skiprows \u001b[38;5;241m=\u001b[39m \u001b[38;5;241m11\u001b[39m, nrows \u001b[38;5;241m=\u001b[39m \u001b[38;5;241m1182\u001b[39m, header\u001b[38;5;241m=\u001b[39m\u001b[38;5;241m0\u001b[39m)\n\u001b[0;32m      3\u001b[0m df\u001b[38;5;241m.\u001b[39mindex \u001b[38;5;241m=\u001b[39m pd\u001b[38;5;241m.\u001b[39mto_datetime(df\u001b[38;5;241m.\u001b[39mindex, \u001b[38;5;28mformat\u001b[39m \u001b[38;5;241m=\u001b[39m \u001b[38;5;124m\"\u001b[39m\u001b[38;5;124m%\u001b[39m\u001b[38;5;124mY\u001b[39m\u001b[38;5;124m%\u001b[39m\u001b[38;5;124mm\u001b[39m\u001b[38;5;124m\"\u001b[39m)\n\u001b[0;32m      4\u001b[0m df \u001b[38;5;241m=\u001b[39m df \u001b[38;5;241m/\u001b[39m \u001b[38;5;241m100\u001b[39m\n",
      "\u001b[1;31mNameError\u001b[0m: name 'pd' is not defined"
     ]
    }
   ],
   "source": [
    "# industry returns\n",
    "df = pd.read_csv(str(Path().absolute()) + \"/data/48_Industry_Portfolios.CSV\", index_col = 0, skiprows = 11, nrows = 1182, header=0)\n",
    "df.index = pd.to_datetime(df.index, format = \"%Y%m\")\n",
    "df = df / 100\n",
    "\n",
    "# remove NAs\n",
    "mask = (df <= -0.99)\n",
    "df[mask] = np.nan\n",
    "\n",
    "# nb of industries dataframe\n",
    "nb_industries = pd.read_csv(str(Path().absolute()) + \"/data/48_Industry_Portfolios.CSV\", index_col = 0, skiprows = 2587, nrows = 1182, header=0)\n",
    "nb_industries.index = pd.to_datetime(nb_industries.index, format = \"%Y%m\")\n",
    "mask = (nb_industries <= -0.99)\n",
    "nb_industries[mask] = np.nan\n",
    "\n",
    "# average sizes dataframe\n",
    "avg_size = pd.read_csv(str(Path().absolute()) + \"/data/48_Industry_Portfolios.CSV\", index_col = 0, skiprows = 3773, nrows = 1182, header=0)\n",
    "avg_size.index = pd.to_datetime(avg_size.index, format = \"%Y%m\")\n",
    "mask = (avg_size <= -0.99)\n",
    "avg_size[mask] = np.nan\n",
    "\n",
    "# sum of BE / sum of ME dataframe\n",
    "be_over_me = pd.read_csv(str(Path().absolute()) + \"/data/48_Industry_Portfolios.CSV\", index_col = 0, skiprows = 4959, nrows = 99, header=0)\n",
    "be_over_me.index = pd.to_datetime(be_over_me.index, format = \"%Y\")"
   ]
  },
  {
   "cell_type": "code",
   "execution_count": null,
   "metadata": {},
   "outputs": [],
   "source": [
    "# market cap of each industry over time\n",
    "mkt_cap = nb_industries * avg_size\n",
    "\n",
    "# momentum with monthly data\n",
    "momentum = df.rolling(12).mean()\n",
    "\n",
    "# book value to market value\n",
    "# resample be_over_me to monthly data\n",
    "# we must first shift years since our \"factor year\" begins in July preventing us from grouping by years\n",
    "be_over_me.index = be_over_me.index + pd.DateOffset(months = 6)\n",
    "be_over_me = be_over_me.resample(\"MS\").ffill()\n",
    "\n",
    "# need to add missing portion of 2024 since data with shifted index is missing it\n",
    "extra_be_over_me = pd.DataFrame(np.repeat([be_over_me.iloc[-1].values], repeats = 5, axis = 0), \n",
    "                                index = pd.date_range(start=be_over_me.index[-1] + pd.DateOffset(months = 1), end='2024-12-01', freq='MS'), \n",
    "                                columns = be_over_me.columns)\n",
    "\n",
    "be_over_me = pd.concat([be_over_me, extra_be_over_me], axis = 0)\n",
    "mask = (be_over_me <= -99.99)\n",
    "be_over_me[mask] = np.nan"
   ]
  },
  {
   "cell_type": "markdown",
   "metadata": {},
   "source": [
    "# Normalize Data"
   ]
  },
  {
   "cell_type": "code",
   "execution_count": null,
   "metadata": {},
   "outputs": [
    {
     "name": "stdout",
     "output_type": "stream",
     "text": [
      "(559, 48)\n",
      "(559, 48)\n",
      "(559, 48)\n",
      "(559, 48)\n"
     ]
    }
   ],
   "source": [
    "mkt_cap_ = mkt_cap.loc['1927-06-01':'1973-12-01']\n",
    "mkt_cap_norm = mkt_cap_.sub(mkt_cap_.mean(axis = 1), axis = 0).div(mkt_cap_.std(axis = 1), axis = 0)\n",
    "print(mkt_cap_norm.shape)\n",
    "\n",
    "be_over_me_ = be_over_me.loc['1927-06-01':'1973-12-01']\n",
    "be_over_me_norm = be_over_me_.sub(be_over_me_.mean(axis = 1), axis = 0).div(be_over_me_.std(axis = 1), axis = 0)\n",
    "print(be_over_me_norm.shape)\n",
    "\n",
    "momentum_ = momentum.loc['1927-06-01':'1973-12-01']\n",
    "momentum_norm = momentum_.sub(momentum_.mean(axis = 1), axis = 0).div(momentum_.std(axis = 1), axis = 0)\n",
    "print(momentum_norm.shape)\n",
    "\n",
    "df_in = df.loc['1927-06-01':'1973-12-01']\n",
    "print(df_in.shape)"
   ]
  },
  {
   "cell_type": "code",
   "execution_count": null,
   "metadata": {},
   "outputs": [],
   "source": [
    "def CRRA(wealth: float, gamma = 5):\n",
    "    \"\"\"\"\n",
    "    Constant Relative Risk Aversion Utility Function\n",
    "    ---\n",
    "    :param wealth: current wealth level of investor\n",
    "    :param gamma: risk aversion parameter\n",
    "    :return: CRRA utility level as given by functional form in Brandt et al. (2009), equation 15\n",
    "    \"\"\"\n",
    "\n",
    "    if gamma == 1:\n",
    "        return np.log(wealth)\n",
    "    else:\n",
    "        return ((1 + wealth) ** (1 - gamma)) / (1 - gamma)\n"
   ]
  },
  {
   "cell_type": "code",
   "execution_count": null,
   "metadata": {},
   "outputs": [],
   "source": [
    "characteristics = np.stack([mkt_cap_norm, be_over_me_norm, momentum_norm], axis= -1)  # 3 characteristics we're interested in\n",
    "theta = np.array([-1.451, 3.606, 1.772])  # initial guess for theta"
   ]
  },
  {
   "cell_type": "markdown",
   "metadata": {},
   "source": [
    "# Optimization"
   ]
  },
  {
   "cell_type": "markdown",
   "metadata": {},
   "source": [
    "## Objective"
   ]
  },
  {
   "cell_type": "code",
   "execution_count": null,
   "metadata": {},
   "outputs": [],
   "source": [
    "def objective(theta: np.ndarray, x: np.ndarray, rets: pd.DataFrame, mkt_cap: np.ndarray):\n",
    "    \"\"\"\n",
    "    objective function (equation 6 from Brandt et al. (2009)) which we aim to optimize over each period.\n",
    "    ---\n",
    "    :param theta: parameter vector to be optimized\n",
    "    :param x: characteristics matrix with dimensions (time x assets x characteristics)\n",
    "    :param rets: universe of assets returns matrix\n",
    "    :param mkt_cap: market capitalization of each asset in universe\n",
    "    :return: negative CRRA utility over desired period (we wish to minimize the negative utility)\n",
    "    \"\"\"\n",
    "\n",
    "    # initial wealth\n",
    "    accrued_utility = 0.0\n",
    "    for t in range(x.shape[0]):\n",
    "        w_t = mkt_cap.iloc[t]/ mkt_cap.iloc[t].sum()  # current weights of market portfolio (our benchmark)\n",
    "        rets_t1 = rets.iloc[t+1, :].values  # returns at time t+1 (following period)\n",
    "        x_t = x[t, :, :]  # characteristics at time t\n",
    "        \n",
    "        # determine which assets are currently traded\n",
    "        valid_mask = ~np.isnan(rets_t1) & ~np.isnan(x_t).any(axis=1)\n",
    "        Nt = valid_mask.sum()\n",
    "        \n",
    "        if Nt > 0:\n",
    "            # equation 6 from Brandt et al. (2009)\n",
    "            accrued_utility += CRRA(np.sum((w_t[valid_mask] + (x_t[valid_mask] @ theta) / Nt) * rets_t1[valid_mask]))\n",
    "    \n",
    "    # we wish to minimize the negative value of equation 6 from Brandt et al. (2009)\n",
    "    return - accrued_utility / x.shape[0]"
   ]
  },
  {
   "cell_type": "code",
   "execution_count": null,
   "metadata": {},
   "outputs": [
    {
     "data": {
      "text/plain": [
       " message: Optimization terminated successfully\n",
       " success: True\n",
       "  status: 0\n",
       "     fun: 0.15004521513458138\n",
       "       x: [ 1.921e+00 -6.453e+00  1.531e+01]\n",
       "     nit: 20\n",
       "     jac: [ 1.866e-05  1.223e-05  3.781e-06]\n",
       "    nfev: 81\n",
       "    njev: 20"
      ]
     },
     "execution_count": 11,
     "metadata": {},
     "output_type": "execute_result"
    }
   ],
   "source": [
    "init = theta\n",
    "response = minimize(objective, x0=theta, args=(characteristics, df, mkt_cap), method= 'SLSQP')\n",
    "response"
   ]
  },
  {
   "cell_type": "markdown",
   "metadata": {},
   "source": [
    "# Find New Weights"
   ]
  },
  {
   "cell_type": "code",
   "execution_count": null,
   "metadata": {},
   "outputs": [
    {
     "data": {
      "text/plain": [
       "array([ 0.17035002,  0.08519956,  0.25976262,  0.16954206,  0.16621462,\n",
       "       -0.41966272, -0.50319326, -0.20898993,  0.31415747, -0.66164773,\n",
       "               nan,  0.21321671,  0.3986463 ,  0.38395424, -0.22921568,\n",
       "       -0.51915147, -0.02178981,  0.03477271,  0.08543332,  0.27530352,\n",
       "        0.20746207,  0.053263  , -0.18272261, -0.55792788,  0.5971108 ,\n",
       "       -0.29575325,  0.89929051,  0.56593066,  0.37878572,  0.70338063,\n",
       "        0.16324112,  0.26412459, -0.45518174, -0.09565908,  0.30939164,\n",
       "       -0.01078299,  0.2071353 ,  0.47744886,  0.24160402, -0.34628949,\n",
       "       -0.16794571, -0.01216629, -0.22366445,  0.19175468, -0.01797251,\n",
       "       -0.69837397, -0.0372309 , -0.21839664])"
      ]
     },
     "execution_count": 12,
     "metadata": {},
     "output_type": "execute_result"
    }
   ],
   "source": [
    "# weights for the final period\n",
    "weights = mkt_cap.loc['1963-12-01']/ mkt_cap.loc['1963-12-01'].sum()  # current weights of market portfolio (our benchmark)\n",
    "next_w = np.zeros(weights.shape)\n",
    "for i in range(len(weights)):\n",
    "    next_w[i] = weights[i] + (response.x @ characteristics[-1,i,:]) / (np.count_nonzero(~np.isnan(characteristics[-1,:,:]))/3)\n",
    "\n",
    "next_w"
   ]
  },
  {
   "cell_type": "code",
   "execution_count": null,
   "metadata": {},
   "outputs": [
    {
     "data": {
      "text/plain": [
       "array([0.02179371, 0.0109    , 0.0332327 , 0.02169034, 0.02126465,\n",
       "       0.        , 0.        , 0.        , 0.0401917 , 0.        ,\n",
       "       0.        , 0.02727785, 0.05100077, 0.04912114, 0.        ,\n",
       "       0.        , 0.        , 0.00444864, 0.0109299 , 0.03522092,\n",
       "       0.02654163, 0.0068142 , 0.        , 0.        , 0.0763913 ,\n",
       "       0.        , 0.11505062, 0.07240227, 0.0484599 , 0.08998691,\n",
       "       0.02088423, 0.03379075, 0.        , 0.        , 0.03958198,\n",
       "       0.        , 0.02649983, 0.06108236, 0.03090958, 0.        ,\n",
       "       0.        , 0.        , 0.        , 0.02453211, 0.        ,\n",
       "       0.        , 0.        , 0.        ])"
      ]
     },
     "execution_count": 13,
     "metadata": {},
     "output_type": "execute_result"
    }
   ],
   "source": [
    "# apply equation 16\n",
    "def long_only_constraint(weights: np.array):\n",
    "    \"\"\"\n",
    "    Imposes long only constraint through equation 16 of Brand et al. (2009) on the obtained weights using the optimized parameters\n",
    "    ---\n",
    "    :param weights: optimal weights to be constrained\n",
    "    :return: optimal weights after applying long only constraint\n",
    "    \"\"\"\n",
    "\n",
    "    # after completing optimization, we can safely set NaNs to 0 without affecting the optimized weights\n",
    "    clean_weights = np.nan_to_num(weights, nan= 0)\n",
    "    w_pos = np.clip(clean_weights, 0, None) # set all negative to 0\n",
    "    return w_pos / np.sum(w_pos)\n",
    "\n",
    "l_w = long_only_constraint(next_w)\n",
    "l_w"
   ]
  },
  {
   "cell_type": "markdown",
   "metadata": {},
   "source": [
    "# Out-of-Sample Testing"
   ]
  },
  {
   "cell_type": "markdown",
   "metadata": {},
   "source": [
    "### 0. Load Out-of-Sample Data"
   ]
  },
  {
   "cell_type": "code",
   "execution_count": null,
   "metadata": {},
   "outputs": [
    {
     "name": "stdout",
     "output_type": "stream",
     "text": [
      "(733, 48)\n",
      "(733, 48)\n",
      "(733, 48)\n",
      "(733, 48)\n"
     ]
    }
   ],
   "source": [
    "mkt_cap_ = mkt_cap.loc['1963-12-01':'2025-01-01']\n",
    "mkt_cap_norm = mkt_cap_.sub(mkt_cap_.mean(axis = 1), axis = 0).div(mkt_cap_.std(axis = 1), axis = 0)\n",
    "print(mkt_cap_norm.shape)\n",
    "\n",
    "be_over_me_ = be_over_me.loc['1963-12-01':'2025-01-01']\n",
    "be_over_me_norm = be_over_me_.sub(be_over_me_.mean(axis = 1), axis = 0).div(be_over_me_.std(axis = 1), axis = 0)\n",
    "print(be_over_me_norm.shape)\n",
    "\n",
    "momentum_ = momentum.loc['1963-12-01':'2025-01-01']\n",
    "momentum_norm = momentum_.sub(momentum_.mean(axis = 1), axis = 0).div(momentum_.std(axis = 1), axis = 0)\n",
    "print(momentum_norm.shape)\n",
    "\n",
    "df_out = df.loc['1963-12-01':'2025-01-01']\n",
    "print(df_out.shape)\n"
   ]
  },
  {
   "cell_type": "code",
   "execution_count": null,
   "metadata": {},
   "outputs": [],
   "source": [
    "x_hat = np.stack([mkt_cap_norm, be_over_me_norm, momentum_norm], axis= -1)\n",
    "w_bar = mkt_cap.loc['1974-01-01']/ mkt_cap.loc['1974-01-01'].sum()\n",
    "theta = response.x"
   ]
  },
  {
   "cell_type": "markdown",
   "metadata": {},
   "source": [
    "### Rolling Window"
   ]
  },
  {
   "cell_type": "code",
   "execution_count": null,
   "metadata": {},
   "outputs": [
    {
     "name": "stderr",
     "output_type": "stream",
     "text": [
      "100%|██████████| 612/612 [02:15<00:00,  4.51it/s]\n"
     ]
    }
   ],
   "source": [
    "window_size = 119 # 10 years x 12 months - 1 (current observation) = 119 timesteps\n",
    "next_w = np.zeros(w_bar.shape[0])\n",
    "monthly_rets = []\n",
    "df_theta = pd.DataFrame(columns=['THETA1', 'THETA2', 'THETA3'])\n",
    "for t in tqdm(range(window_size+1, x_hat.shape[0]-1)): \n",
    "    x_hat_subset = x_hat[t-window_size-1:t-1, :, :]  # characteristics for estimation period over [0,t-1]\n",
    "    df_out_subset = df_out.iloc[t-window_size-1:t]  # returns for estimation period which is shifted by one period since we use previous period's characteristic's, so it is over [1, t]\n",
    "    mkt_cap_subset = mkt_cap_.iloc[t-window_size-1:t-1, :]  # market capitalization for estimation period (to calculate market weights at each period) over [0,t-1] \n",
    "    rets_t1 = df_out.iloc[t+1]  # returns for next period at t+1\n",
    "\n",
    "    # 1. Estimate Theta\n",
    "    res = minimize(objective, x0=theta, args=(x_hat_subset, df_out_subset, mkt_cap_subset), method='SLSQP')\n",
    "    theta = res.x\n",
    "    df_theta.append(theta)\n",
    "    \n",
    "    # 2. Estimate Weights\n",
    "    Nt = np.count_nonzero(~np.isnan(x_hat_subset[-1, :, :])) / 3  # number of assets which have non NA values for each characteristic.\n",
    "    valid_mask = ~np.isnan(x_hat_subset[-1, :, :]).any(axis=1)  # mask for assets which have non NA values for each characteristic.\n",
    "    \n",
    "    # parametric portfolio weights\n",
    "    w_bar = mkt_cap_subset.iloc[-1]/ mkt_cap_subset.iloc[-1].sum()\n",
    "    next_w[valid_mask] = w_bar[valid_mask] + (x_hat_subset[-1, valid_mask, :] @ theta) / Nt\n",
    "\n",
    "    long_weights = long_only_constraint(next_w)\n",
    "\n",
    "    # 3. Estimate Next Month Returns\n",
    "    rets_clean = np.nan_to_num(rets_t1, nan=0)\n",
    "    \n",
    "    # 4. Record Return\n",
    "    monthly_rets.append(long_weights @ rets_clean)\n",
    "\n",
    "monthly_rets = pd.Series(monthly_rets, index = df_out.index[window_size+1:-1], dtype=\"float64\")"
   ]
  },
  {
   "cell_type": "code",
   "execution_count": null,
   "metadata": {},
   "outputs": [
    {
     "data": {
      "text/plain": [
       "np.int64(0)"
      ]
     },
     "execution_count": 17,
     "metadata": {},
     "output_type": "execute_result"
    }
   ],
   "source": [
    "np.isnan(monthly_rets).sum()"
   ]
  },
  {
   "cell_type": "code",
   "execution_count": null,
   "metadata": {},
   "outputs": [
    {
     "name": "stdout",
     "output_type": "stream",
     "text": [
      "mean: 0.15132197086497662\n",
      "std: 0.1720580863094973\n",
      "sharpe: 0.8794818895798907\n"
     ]
    }
   ],
   "source": [
    "print(f'mean: {12 * np.mean(monthly_rets)}')\n",
    "print(f'std: {np.sqrt(12) * np.std(monthly_rets)}')\n",
    "print(f'sharpe: {np.sqrt(12) * np.mean(monthly_rets)/np.std(monthly_rets)}')"
   ]
  },
  {
   "cell_type": "code",
   "execution_count": null,
   "metadata": {},
   "outputs": [
    {
     "data": {
      "text/plain": [
       "(array([ 1.,  0.,  0.,  1.,  0.,  0.,  1.,  0.,  0.,  1.,  2.,  0.,  1.,\n",
       "         1.,  2.,  1.,  4.,  3.,  5.,  2.,  7., 10., 23., 24., 20., 32.,\n",
       "        29., 41., 39., 55., 52., 54., 44., 43., 28., 22., 28., 11.,  6.,\n",
       "         2.,  5.,  5.,  3.,  1.,  0.,  1.,  0.,  1.,  0.,  1.]),\n",
       " array([-0.24732096, -0.23853661, -0.22975226, -0.22096792, -0.21218357,\n",
       "        -0.20339922, -0.19461488, -0.18583053, -0.17704618, -0.16826183,\n",
       "        -0.15947749, -0.15069314, -0.14190879, -0.13312445, -0.1243401 ,\n",
       "        -0.11555575, -0.10677141, -0.09798706, -0.08920271, -0.08041837,\n",
       "        -0.07163402, -0.06284967, -0.05406533, -0.04528098, -0.03649663,\n",
       "        -0.02771228, -0.01892794, -0.01014359, -0.00135924,  0.0074251 ,\n",
       "         0.01620945,  0.0249938 ,  0.03377814,  0.04256249,  0.05134684,\n",
       "         0.06013118,  0.06891553,  0.07769988,  0.08648423,  0.09526857,\n",
       "         0.10405292,  0.11283727,  0.12162161,  0.13040596,  0.13919031,\n",
       "         0.14797465,  0.156759  ,  0.16554335,  0.17432769,  0.18311204,\n",
       "         0.19189639]),\n",
       " <BarContainer object of 50 artists>)"
      ]
     },
     "execution_count": 19,
     "metadata": {},
     "output_type": "execute_result"
    },
    {
     "data": {
      "image/png": "[encoded data removed]",
      "text/plain": [
       "<Figure size 640x480 with 1 Axes>"
      ]
     },
     "metadata": {},
     "output_type": "display_data"
    }
   ],
   "source": [
    "plt.hist(monthly_rets, bins= 50)"
   ]
  },
  {
   "cell_type": "code",
   "execution_count": null,
   "metadata": {},
   "outputs": [
    {
     "data": {
      "text/plain": [
       "<Axes: >"
      ]
     },
     "execution_count": 20,
     "metadata": {},
     "output_type": "execute_result"
    },
    {
     "data": {
      "image/png": "[encoded data removed]",
      "text/plain": [
       "<Figure size 640x480 with 1 Axes>"
      ]
     },
     "metadata": {},
     "output_type": "display_data"
    }
   ],
   "source": [
    "np.log(np.cumprod(1 + monthly_rets)).plot()"
   ]
  }
 ],
 "metadata": {
  "kernelspec": {
   "display_name": "Python 3",
   "language": "python",
   "name": "python3"
  },
  "language_info": {
   "codemirror_mode": {
    "name": "ipython",
    "version": 3
   },
   "file_extension": ".py",
   "mimetype": "text/x-python",
   "name": "python",
   "nbconvert_exporter": "python",
   "pygments_lexer": "ipython3",
   "version": "3.12.6"
  }
 },
 "nbformat": 4,
 "nbformat_minor": 2
}
