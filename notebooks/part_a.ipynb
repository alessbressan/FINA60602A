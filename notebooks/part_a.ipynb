{
 "cells": [
  {
   "cell_type": "markdown",
   "metadata": {},
   "source": [
    "# Dependencies"
   ]
  },
  {
   "cell_type": "code",
   "execution_count": 34,
   "metadata": {},
   "outputs": [],
   "source": [
    "import pandas as pd\n",
    "import numpy as np"
   ]
  },
  {
   "cell_type": "code",
   "execution_count": 35,
   "metadata": {},
   "outputs": [
    {
     "data": {
      "text/html": [
       "<div>\n",
       "<style scoped>\n",
       "    .dataframe tbody tr th:only-of-type {\n",
       "        vertical-align: middle;\n",
       "    }\n",
       "\n",
       "    .dataframe tbody tr th {\n",
       "        vertical-align: top;\n",
       "    }\n",
       "\n",
       "    .dataframe thead th {\n",
       "        text-align: right;\n",
       "    }\n",
       "</style>\n",
       "<table border=\"1\" class=\"dataframe\">\n",
       "  <thead>\n",
       "    <tr style=\"text-align: right;\">\n",
       "      <th></th>\n",
       "      <th>Date</th>\n",
       "      <th>Agric</th>\n",
       "      <th>Food</th>\n",
       "      <th>Soda</th>\n",
       "      <th>Beer</th>\n",
       "      <th>Smoke</th>\n",
       "      <th>Toys</th>\n",
       "      <th>Fun</th>\n",
       "      <th>Books</th>\n",
       "      <th>Hshld</th>\n",
       "      <th>...</th>\n",
       "      <th>Boxes</th>\n",
       "      <th>Trans</th>\n",
       "      <th>Whlsl</th>\n",
       "      <th>Rtail</th>\n",
       "      <th>Meals</th>\n",
       "      <th>Banks</th>\n",
       "      <th>Insur</th>\n",
       "      <th>RlEst</th>\n",
       "      <th>Fin</th>\n",
       "      <th>Other</th>\n",
       "    </tr>\n",
       "  </thead>\n",
       "  <tbody>\n",
       "    <tr>\n",
       "      <th>0</th>\n",
       "      <td>1926-07</td>\n",
       "      <td>2.37</td>\n",
       "      <td>0.12</td>\n",
       "      <td>-99.99</td>\n",
       "      <td>-5.19</td>\n",
       "      <td>1.29</td>\n",
       "      <td>8.65</td>\n",
       "      <td>2.50</td>\n",
       "      <td>50.21</td>\n",
       "      <td>-0.48</td>\n",
       "      <td>...</td>\n",
       "      <td>7.70</td>\n",
       "      <td>1.92</td>\n",
       "      <td>-23.79</td>\n",
       "      <td>0.07</td>\n",
       "      <td>1.87</td>\n",
       "      <td>4.61</td>\n",
       "      <td>-0.54</td>\n",
       "      <td>2.89</td>\n",
       "      <td>-5.77</td>\n",
       "      <td>5.20</td>\n",
       "    </tr>\n",
       "    <tr>\n",
       "      <th>1</th>\n",
       "      <td>1926-08</td>\n",
       "      <td>2.23</td>\n",
       "      <td>2.68</td>\n",
       "      <td>-99.99</td>\n",
       "      <td>27.03</td>\n",
       "      <td>6.50</td>\n",
       "      <td>16.81</td>\n",
       "      <td>-0.76</td>\n",
       "      <td>42.98</td>\n",
       "      <td>-3.58</td>\n",
       "      <td>...</td>\n",
       "      <td>-2.38</td>\n",
       "      <td>4.85</td>\n",
       "      <td>5.39</td>\n",
       "      <td>-0.75</td>\n",
       "      <td>-0.13</td>\n",
       "      <td>11.83</td>\n",
       "      <td>2.57</td>\n",
       "      <td>5.30</td>\n",
       "      <td>0.32</td>\n",
       "      <td>6.76</td>\n",
       "    </tr>\n",
       "    <tr>\n",
       "      <th>2</th>\n",
       "      <td>1926-09</td>\n",
       "      <td>-0.57</td>\n",
       "      <td>1.58</td>\n",
       "      <td>-99.99</td>\n",
       "      <td>4.02</td>\n",
       "      <td>1.26</td>\n",
       "      <td>8.33</td>\n",
       "      <td>6.42</td>\n",
       "      <td>-4.91</td>\n",
       "      <td>0.73</td>\n",
       "      <td>...</td>\n",
       "      <td>-5.54</td>\n",
       "      <td>0.08</td>\n",
       "      <td>-7.87</td>\n",
       "      <td>0.25</td>\n",
       "      <td>-0.56</td>\n",
       "      <td>-1.75</td>\n",
       "      <td>0.72</td>\n",
       "      <td>-3.06</td>\n",
       "      <td>-4.81</td>\n",
       "      <td>-3.86</td>\n",
       "    </tr>\n",
       "    <tr>\n",
       "      <th>3</th>\n",
       "      <td>1926-10</td>\n",
       "      <td>-0.46</td>\n",
       "      <td>-3.68</td>\n",
       "      <td>-99.99</td>\n",
       "      <td>-3.31</td>\n",
       "      <td>1.06</td>\n",
       "      <td>-1.40</td>\n",
       "      <td>-5.09</td>\n",
       "      <td>5.37</td>\n",
       "      <td>-4.68</td>\n",
       "      <td>...</td>\n",
       "      <td>-5.08</td>\n",
       "      <td>-2.62</td>\n",
       "      <td>-15.38</td>\n",
       "      <td>-2.20</td>\n",
       "      <td>-4.11</td>\n",
       "      <td>-11.82</td>\n",
       "      <td>-4.28</td>\n",
       "      <td>-5.74</td>\n",
       "      <td>-0.94</td>\n",
       "      <td>-8.49</td>\n",
       "    </tr>\n",
       "    <tr>\n",
       "      <th>4</th>\n",
       "      <td>1926-11</td>\n",
       "      <td>6.75</td>\n",
       "      <td>6.26</td>\n",
       "      <td>-99.99</td>\n",
       "      <td>7.29</td>\n",
       "      <td>4.55</td>\n",
       "      <td>0.00</td>\n",
       "      <td>1.82</td>\n",
       "      <td>-6.40</td>\n",
       "      <td>-0.54</td>\n",
       "      <td>...</td>\n",
       "      <td>3.84</td>\n",
       "      <td>1.61</td>\n",
       "      <td>4.67</td>\n",
       "      <td>6.52</td>\n",
       "      <td>4.33</td>\n",
       "      <td>-2.97</td>\n",
       "      <td>3.58</td>\n",
       "      <td>2.21</td>\n",
       "      <td>5.13</td>\n",
       "      <td>4.00</td>\n",
       "    </tr>\n",
       "  </tbody>\n",
       "</table>\n",
       "<p>5 rows × 49 columns</p>\n",
       "</div>"
      ],
      "text/plain": [
       "      Date  Agric  Food   Soda   Beer  Smoke   Toys   Fun  Books  Hshld  ...  \\\n",
       "0  1926-07   2.37  0.12 -99.99  -5.19   1.29   8.65  2.50  50.21  -0.48  ...   \n",
       "1  1926-08   2.23  2.68 -99.99  27.03   6.50  16.81 -0.76  42.98  -3.58  ...   \n",
       "2  1926-09  -0.57  1.58 -99.99   4.02   1.26   8.33  6.42  -4.91   0.73  ...   \n",
       "3  1926-10  -0.46 -3.68 -99.99  -3.31   1.06  -1.40 -5.09   5.37  -4.68  ...   \n",
       "4  1926-11   6.75  6.26 -99.99   7.29   4.55   0.00  1.82  -6.40  -0.54  ...   \n",
       "\n",
       "   Boxes  Trans  Whlsl  Rtail  Meals  Banks  Insur  RlEst   Fin  Other  \n",
       "0   7.70   1.92 -23.79   0.07   1.87   4.61  -0.54   2.89 -5.77   5.20  \n",
       "1  -2.38   4.85   5.39  -0.75  -0.13  11.83   2.57   5.30  0.32   6.76  \n",
       "2  -5.54   0.08  -7.87   0.25  -0.56  -1.75   0.72  -3.06 -4.81  -3.86  \n",
       "3  -5.08  -2.62 -15.38  -2.20  -4.11 -11.82  -4.28  -5.74 -0.94  -8.49  \n",
       "4   3.84   1.61   4.67   6.52   4.33  -2.97   3.58   2.21  5.13   4.00  \n",
       "\n",
       "[5 rows x 49 columns]"
      ]
     },
     "execution_count": 35,
     "metadata": {},
     "output_type": "execute_result"
    }
   ],
   "source": [
    "df = pd.read_csv('clean_data/data.csv')\n",
    "df.head()"
   ]
  },
  {
   "cell_type": "code",
   "execution_count": 36,
   "metadata": {},
   "outputs": [
    {
     "data": {
      "text/plain": [
       "Date     2024-11\n",
       "Agric      91.34\n",
       "Food       32.63\n",
       "Soda        38.9\n",
       "Beer       87.61\n",
       "Smoke      33.04\n",
       "Toys      140.45\n",
       "Fun        69.57\n",
       "Books      54.75\n",
       "Hshld      58.33\n",
       "Clths       41.4\n",
       "Hlth       36.41\n",
       "MedEq      30.28\n",
       "Drugs       39.5\n",
       "Chems       46.6\n",
       "Rubbr      98.43\n",
       "Txtls      59.18\n",
       "BldMt      42.41\n",
       "Cnstr       67.4\n",
       "Steel      80.84\n",
       "FabPr      40.08\n",
       "Mach       52.08\n",
       "ElcEq      59.58\n",
       "Autos      81.88\n",
       "Aero       72.37\n",
       "Ships      63.37\n",
       "Guns       32.87\n",
       "Gold       79.52\n",
       "Mines       46.1\n",
       "Coal      125.43\n",
       "Oil        39.08\n",
       "Util       43.46\n",
       "Telcm      28.17\n",
       "PerSv      84.67\n",
       "BusSv      56.83\n",
       "Comps      54.04\n",
       "Chips      62.78\n",
       "LabEq      25.42\n",
       "Paper      300.0\n",
       "Boxes      43.19\n",
       "Trans       65.4\n",
       "Whlsl      57.64\n",
       "Rtail      43.51\n",
       "Meals      30.65\n",
       "Banks      41.79\n",
       "Insur      75.11\n",
       "RlEst      65.22\n",
       "Fin        66.79\n",
       "Other       45.3\n",
       "dtype: object"
      ]
     },
     "execution_count": 36,
     "metadata": {},
     "output_type": "execute_result"
    }
   ],
   "source": [
    "df.max()"
   ]
  },
  {
   "cell_type": "code",
   "execution_count": 37,
   "metadata": {},
   "outputs": [
    {
     "data": {
      "text/plain": [
       "Agric    0.009771\n",
       "Food     0.009461\n",
       "Soda    -0.368907\n",
       "Beer     0.011694\n",
       "Smoke    0.011503\n",
       "Toys     0.009529\n",
       "Fun      0.012748\n",
       "Books    0.009950\n",
       "Hshld    0.009158\n",
       "Clths    0.009070\n",
       "Hlth    -0.431361\n",
       "MedEq    0.011254\n",
       "Drugs    0.010948\n",
       "Chems    0.010348\n",
       "Rubbr   -0.039643\n",
       "Txtls    0.009503\n",
       "BldMt    0.010483\n",
       "Cnstr    0.011245\n",
       "Steel    0.009722\n",
       "FabPr   -0.370604\n",
       "Mach     0.010967\n",
       "ElcEq    0.011595\n",
       "Autos    0.012084\n",
       "Aero     0.013871\n",
       "Ships    0.010297\n",
       "Guns    -0.368266\n",
       "Gold    -0.370009\n",
       "Mines    0.010363\n",
       "Coal     0.011095\n",
       "Oil      0.010371\n",
       "Util     0.008864\n",
       "Telcm    0.008336\n",
       "PerSv   -0.000868\n",
       "BusSv    0.010991\n",
       "Comps    0.012269\n",
       "Chips    0.012556\n",
       "LabEq    0.011478\n",
       "Paper   -0.017763\n",
       "Boxes    0.010551\n",
       "Trans    0.009398\n",
       "Whlsl    0.008613\n",
       "Rtail    0.010676\n",
       "Meals    0.010813\n",
       "Banks    0.011592\n",
       "Insur    0.010802\n",
       "RlEst    0.008506\n",
       "Fin      0.011162\n",
       "Other    0.007636\n",
       "dtype: float64"
      ]
     },
     "execution_count": 37,
     "metadata": {},
     "output_type": "execute_result"
    }
   ],
   "source": [
    "df.loc[:, df.columns != 'Date'] = df.loc[:, df.columns != 'Date']/100\n",
    "df.loc[:, df.columns != 'Date'].mean()"
   ]
  },
  {
   "cell_type": "code",
   "execution_count": 44,
   "metadata": {},
   "outputs": [
    {
     "data": {
      "text/plain": [
       "np.float64(0.0464342906353121)"
      ]
     },
     "execution_count": 44,
     "metadata": {},
     "output_type": "execute_result"
    }
   ],
   "source": [
    "mean = df.loc[:, df.columns != 'Date'].mean()\n",
    "var = df.loc[:, df.columns != 'Date'].std()\n",
    "\n",
    "var.min()"
   ]
  },
  {
   "cell_type": "code",
   "execution_count": 43,
   "metadata": {},
   "outputs": [
    {
     "data": {
      "text/plain": [
       "<matplotlib.collections.PathCollection at 0x2d3fb53bc20>"
      ]
     },
     "execution_count": 43,
     "metadata": {},
     "output_type": "execute_result"
    },
    {
     "data": {
      "image/png": "[encoded data removed]",
      "text/plain": [
       "<Figure size 640x480 with 1 Axes>"
      ]
     },
     "metadata": {},
     "output_type": "display_data"
    }
   ],
   "source": [
    "import matplotlib.pyplot as plt\n",
    "\n",
    "plt.scatter(mean, var)"
   ]
  }
 ],
 "metadata": {
  "kernelspec": {
   "display_name": "Python 3",
   "language": "python",
   "name": "python3"
  },
  "language_info": {
   "codemirror_mode": {
    "name": "ipython",
    "version": 3
   },
   "file_extension": ".py",
   "mimetype": "text/x-python",
   "name": "python",
   "nbconvert_exporter": "python",
   "pygments_lexer": "ipython3",
   "version": "3.12.6"
  }
 },
 "nbformat": 4,
 "nbformat_minor": 2
}
