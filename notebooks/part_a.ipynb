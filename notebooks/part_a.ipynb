{
 "cells": [
  {
   "cell_type": "markdown",
   "metadata": {},
   "source": [
    "# Dependencies"
   ]
  },
  {
   "cell_type": "code",
   "execution_count": 107,
   "metadata": {},
   "outputs": [],
   "source": [
    "import pandas as pd\n",
    "import numpy as np\n",
    "from pathlib import Path\n",
    "import gurobipy as gp"
   ]
  },
  {
   "cell_type": "code",
   "execution_count": 108,
   "metadata": {},
   "outputs": [
    {
     "data": {
      "text/plain": [
       "17.5711993220339"
      ]
     },
     "execution_count": 108,
     "metadata": {},
     "output_type": "execute_result"
    }
   ],
   "source": [
    "data_path = Path(\"../clean_data/48_Industry_Portfolios.CSV\")\n",
    "df = pd.read_csv(data_path, index_col=0)\n",
    "df.index = pd.to_datetime(df.index, format=\"%Y%m\")  # clean the index to be datetime\n",
    "\n",
    "# constants\n",
    "start_date = \"2019-12-01\"\n",
    "N = 48\n",
    "df = df.loc[df.index >= start_date, :]  # select last 5 years\n",
    "\n",
    "min(df.var())"
   ]
  },
  {
   "cell_type": "code",
   "execution_count": 1,
   "metadata": {},
   "outputs": [
    {
     "ename": "NameError",
     "evalue": "name 'df' is not defined",
     "output_type": "error",
     "traceback": [
      "\u001b[1;31m---------------------------------------------------------------------------\u001b[0m",
      "\u001b[1;31mNameError\u001b[0m                                 Traceback (most recent call last)",
      "Cell \u001b[1;32mIn[1], line 2\u001b[0m\n\u001b[0;32m      1\u001b[0m \u001b[38;5;66;03m# QUESTION 1\u001b[39;00m\n\u001b[1;32m----> 2\u001b[0m cov \u001b[38;5;241m=\u001b[39m \u001b[43mdf\u001b[49m\u001b[38;5;241m.\u001b[39mcov()\n\u001b[0;32m      3\u001b[0m mean \u001b[38;5;241m=\u001b[39m df\u001b[38;5;241m.\u001b[39mmean(axis\u001b[38;5;241m=\u001b[39m\u001b[38;5;241m0\u001b[39m)\n\u001b[0;32m      4\u001b[0m std \u001b[38;5;241m=\u001b[39m np\u001b[38;5;241m.\u001b[39msqrt(np\u001b[38;5;241m.\u001b[39mdiag(cov))\n",
      "\u001b[1;31mNameError\u001b[0m: name 'df' is not defined"
     ]
    }
   ],
   "source": [
    "# QUESTION 1\n",
    "cov = df.cov()\n",
    "mean = df.mean(axis=0)\n",
    "std = np.sqrt(np.diag(cov))\n",
    "ret = 4\n",
    "K = 3\n",
    "l = 0.005 #min position size\n",
    "\n",
    "# Create an empty optimization model\n",
    "m = gp.Model()\n",
    "\n",
    "# Add variables: x[i] denotes the proportion of capital invested in stock i\n",
    "# 0 <= x[i] <= 1\n",
    "x = m.addMVar(len(mean), lb=-np.inf, ub=np.inf, name=\"x\")\n",
    "b = m.addMVar(len(mean), vtype=gp.GRB.BINARY, name=\"b\")\n",
    "\n",
    "# Budget constraint: all investments sum up to 1\n",
    "m.addConstr(x.sum() == 1, name=\"Budget_Constraint\")\n",
    "m.addConstr(-b < x < b, name=\"Indicator\")\n",
    "m.addConstr(b.sum() <= K, name=\"Concentration\")\n",
    "m.addConstr(mean.to_numpy() @ x >= ret , name=\"Target_Return\")\n",
    "\n",
    "# Define objective function: Minimize overall risk\n",
    "m.setObjective(x.T @ cov.to_numpy() @ x, gp.GRB.MINIMIZE)"
   ]
  },
  {
   "cell_type": "code",
   "execution_count": 104,
   "metadata": {},
   "outputs": [
    {
     "name": "stdout",
     "output_type": "stream",
     "text": [
      "Gurobi Optimizer version 12.0.0 build v12.0.0rc1 (win64 - Windows 10.0 (19045.2))\n",
      "\n",
      "CPU model: AMD Ryzen 7 3800X 8-Core Processor, instruction set [SSE2|AVX|AVX2]\n",
      "Thread count: 8 physical cores, 16 logical processors, using up to 16 threads\n",
      "\n",
      "Optimize a model with 195 rows, 144 columns and 528 nonzeros\n",
      "Model fingerprint: 0x69626afd\n",
      "Model has 1176 quadratic objective terms\n",
      "Variable types: 96 continuous, 48 integer (48 binary)\n",
      "Coefficient statistics:\n",
      "  Matrix range     [3e-01, 1e+100]\n",
      "  Objective range  [0e+00, 0e+00]\n",
      "  QObjective range [4e+01, 5e+02]\n",
      "  Bounds range     [1e+00, 1e+00]\n",
      "  RHS range        [1e+00, 1e+100]\n",
      "Warning: Model contains large matrix coefficient range\n",
      "Warning: Model contains large rhs\n",
      "         Consider reformulating model or setting NumericFocus parameter\n",
      "         to avoid numerical issues.\n",
      "Presolve removed 144 rows and 48 columns\n",
      "Presolve time: 0.00s\n",
      "\n",
      "Explored 0 nodes (0 simplex iterations) in 0.01 seconds (0.00 work units)\n",
      "Thread count was 1 (of 16 available processors)\n",
      "\n",
      "Solution count 0\n",
      "\n",
      "Model is infeasible or unbounded\n",
      "Best objective -, best bound -, gap -\n"
     ]
    }
   ],
   "source": [
    "m.optimize()"
   ]
  },
  {
   "cell_type": "code",
   "execution_count": null,
   "metadata": {},
   "outputs": [
    {
     "ename": "AttributeError",
     "evalue": "Unable to retrieve attribute 'ObjVal'",
     "output_type": "error",
     "traceback": [
      "\u001b[1;31m---------------------------------------------------------------------------\u001b[0m",
      "\u001b[1;31mAttributeError\u001b[0m                            Traceback (most recent call last)",
      "Cell \u001b[1;32mIn[105], line 1\u001b[0m\n\u001b[1;32m----> 1\u001b[0m \u001b[38;5;28mprint\u001b[39m(\u001b[38;5;124mf\u001b[39m\u001b[38;5;124m\"\u001b[39m\u001b[38;5;124mMinimum risk:     \u001b[39m\u001b[38;5;132;01m{\u001b[39;00m\u001b[43mm\u001b[49m\u001b[38;5;241;43m.\u001b[39;49m\u001b[43mObjVal\u001b[49m\u001b[38;5;132;01m:\u001b[39;00m\u001b[38;5;124m.6f\u001b[39m\u001b[38;5;132;01m}\u001b[39;00m\u001b[38;5;124m\"\u001b[39m)\n\u001b[0;32m      2\u001b[0m \u001b[38;5;28mprint\u001b[39m(\u001b[38;5;124mf\u001b[39m\u001b[38;5;124m\"\u001b[39m\u001b[38;5;124mExpected return:  \u001b[39m\u001b[38;5;132;01m{\u001b[39;00mmean\u001b[38;5;250m \u001b[39m\u001b[38;5;241m@\u001b[39m\u001b[38;5;250m \u001b[39mx\u001b[38;5;241m.\u001b[39mX\u001b[38;5;132;01m:\u001b[39;00m\u001b[38;5;124m.6f\u001b[39m\u001b[38;5;132;01m}\u001b[39;00m\u001b[38;5;124m\"\u001b[39m)\n\u001b[0;32m      3\u001b[0m \u001b[38;5;28mprint\u001b[39m(\u001b[38;5;124mf\u001b[39m\u001b[38;5;124m\"\u001b[39m\u001b[38;5;124mSolution time:    \u001b[39m\u001b[38;5;132;01m{\u001b[39;00mm\u001b[38;5;241m.\u001b[39mRuntime\u001b[38;5;132;01m:\u001b[39;00m\u001b[38;5;124m.2f\u001b[39m\u001b[38;5;132;01m}\u001b[39;00m\u001b[38;5;124m seconds\u001b[39m\u001b[38;5;130;01m\\n\u001b[39;00m\u001b[38;5;124m\"\u001b[39m)\n",
      "File \u001b[1;32msrc\\\\gurobipy\\\\_model.pyx:391\u001b[0m, in \u001b[0;36mgurobipy._model.Model.__getattr__\u001b[1;34m()\u001b[0m\n",
      "File \u001b[1;32msrc\\\\gurobipy\\\\_model.pyx:2119\u001b[0m, in \u001b[0;36mgurobipy._model.Model.getAttr\u001b[1;34m()\u001b[0m\n",
      "File \u001b[1;32msrc\\\\gurobipy\\\\_attrutil.pyx:117\u001b[0m, in \u001b[0;36mgurobipy._attrutil._getattr\u001b[1;34m()\u001b[0m\n",
      "\u001b[1;31mAttributeError\u001b[0m: Unable to retrieve attribute 'ObjVal'"
     ]
    }
   ],
   "source": [
    "print(f\"Minimum risk:     {m.ObjVal:.6f}\")\n",
    "print(f\"Expected return:  {mean @ x.X:.6f}\")\n",
    "print(f\"Solution time:    {m.Runtime:.2f} seconds\\n\")\n",
    "\n",
    "# Print investments (with non-negligible value, i.e., > 1e-5)\n",
    "positions = pd.Series(name=\"Position\", data=x.X, index=mean.index)\n",
    "print(f\"Number of assets: {positions[abs(positions) > 1e-5].count()}\\n\")\n",
    "print(positions[abs(positions) > 1e-5])"
   ]
  }
 ],
 "metadata": {
  "kernelspec": {
   "display_name": "Python 3",
   "language": "python",
   "name": "python3"
  },
  "language_info": {
   "codemirror_mode": {
    "name": "ipython",
    "version": 3
   },
   "file_extension": ".py",
   "mimetype": "text/x-python",
   "name": "python",
   "nbconvert_exporter": "python",
   "pygments_lexer": "ipython3",
   "version": "3.12.6"
  }
 },
 "nbformat": 4,
 "nbformat_minor": 2
}
